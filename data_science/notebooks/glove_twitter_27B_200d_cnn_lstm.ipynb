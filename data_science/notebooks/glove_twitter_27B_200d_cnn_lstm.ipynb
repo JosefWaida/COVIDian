{
 "cells": [
  {
   "cell_type": "code",
   "execution_count": 31,
   "metadata": {},
   "outputs": [],
   "source": [
    "import numpy as np\n",
    "import pandas as pd\n"
   ]
  },
  {
   "cell_type": "code",
   "execution_count": 32,
   "metadata": {},
   "outputs": [],
   "source": [
    "import matplotlib.pyplot as plt\n",
    "\n",
    "#from wordcloud import WordCloud\n",
    "from nltk.corpus import stopwords\n",
    "stop = set(stopwords.words('english'))"
   ]
  },
  {
   "cell_type": "code",
   "execution_count": 33,
   "metadata": {},
   "outputs": [],
   "source": [
    "train = pd.read_csv(r'C:\\Users\\Shibbs\\Desktop\\Projects\\Sentiment analysis\\My notebooks\\5emotions_final_processed.csv')"
   ]
  },
  {
   "cell_type": "code",
   "execution_count": 34,
   "metadata": {},
   "outputs": [],
   "source": [
    "train = train.drop(columns = ['Unnamed: 0'])"
   ]
  },
  {
   "cell_type": "code",
   "execution_count": 35,
   "metadata": {},
   "outputs": [
    {
     "data": {
      "text/html": [
       "<div>\n",
       "<style scoped>\n",
       "    .dataframe tbody tr th:only-of-type {\n",
       "        vertical-align: middle;\n",
       "    }\n",
       "\n",
       "    .dataframe tbody tr th {\n",
       "        vertical-align: top;\n",
       "    }\n",
       "\n",
       "    .dataframe thead th {\n",
       "        text-align: right;\n",
       "    }\n",
       "</style>\n",
       "<table border=\"1\" class=\"dataframe\">\n",
       "  <thead>\n",
       "    <tr style=\"text-align: right;\">\n",
       "      <th></th>\n",
       "      <th>labels</th>\n",
       "      <th>tweet</th>\n",
       "    </tr>\n",
       "  </thead>\n",
       "  <tbody>\n",
       "    <tr>\n",
       "      <th>0</th>\n",
       "      <td>neutral</td>\n",
       "      <td>we want to trade with someone who has houston...</td>\n",
       "    </tr>\n",
       "    <tr>\n",
       "      <th>1</th>\n",
       "      <td>worry</td>\n",
       "      <td>repinging  why didnt you go to prom bc my bf d...</td>\n",
       "    </tr>\n",
       "    <tr>\n",
       "      <th>2</th>\n",
       "      <td>worry</td>\n",
       "      <td>hmmm  is down</td>\n",
       "    </tr>\n",
       "    <tr>\n",
       "      <th>3</th>\n",
       "      <td>sadness</td>\n",
       "      <td>charlene my love i miss you</td>\n",
       "    </tr>\n",
       "    <tr>\n",
       "      <th>4</th>\n",
       "      <td>sadness</td>\n",
       "      <td>im sorry  at least its friday</td>\n",
       "    </tr>\n",
       "  </tbody>\n",
       "</table>\n",
       "</div>"
      ],
      "text/plain": [
       "    labels                                              tweet\n",
       "0  neutral   we want to trade with someone who has houston...\n",
       "1    worry  repinging  why didnt you go to prom bc my bf d...\n",
       "2    worry                                      hmmm  is down\n",
       "3  sadness                        charlene my love i miss you\n",
       "4  sadness                      im sorry  at least its friday"
      ]
     },
     "execution_count": 35,
     "metadata": {},
     "output_type": "execute_result"
    }
   ],
   "source": [
    "train.head()"
   ]
  },
  {
   "cell_type": "code",
   "execution_count": 36,
   "metadata": {},
   "outputs": [],
   "source": [
    "train.to_csv('5emotions_final_processed_v2.csv')"
   ]
  },
  {
   "cell_type": "code",
   "execution_count": 37,
   "metadata": {},
   "outputs": [
    {
     "name": "stdout",
     "output_type": "stream",
     "text": [
      "GloVe data loaded\n"
     ]
    }
   ],
   "source": [
    "embeddings_index = {}\n",
    "\n",
    "f = open(r'C:\\Users\\Shibbs\\Desktop\\Projects\\Sentiment analysis\\My dataset\\glove.twitter.27B.200d.txt', encoding=\"utf8\")\n",
    "\n",
    "for line in f:\n",
    "\n",
    "    values = line.split(' ')\n",
    "    word = values[0] ## The first entry is the word\n",
    "    coefs = np.asarray(values[1:], dtype='float32') ## These are the vecotrs representing the embedding for the word\n",
    "    embeddings_index[word] = coefs\n",
    "f.close()\n",
    "\n",
    "print('GloVe data loaded')"
   ]
  },
  {
   "cell_type": "code",
   "execution_count": 38,
   "metadata": {},
   "outputs": [
    {
     "name": "stdout",
     "output_type": "stream",
     "text": [
      "[['want', 'trade', 'someone', 'houston', 'tickets', 'one']]\n"
     ]
    }
   ],
   "source": [
    "import re\n",
    "train.tweet=train.tweet.astype(str)\n",
    "## Iterate over the data to preprocess by removing stopwords\n",
    "lines_without_stopwords=[] \n",
    "for line in train['tweet'].values: \n",
    "    line = line.lower()\n",
    "    line_by_words = re.findall(r'(?:\\w+)', line, flags = re.UNICODE) # remove punctuation ans split\n",
    "    new_line=[]\n",
    "    for word in line_by_words:\n",
    "        if word not in stop:\n",
    "            new_line.append(word)\n",
    "    lines_without_stopwords.append(new_line)\n",
    "texts = lines_without_stopwords\n",
    "\n",
    "print(texts[0:1])"
   ]
  },
  {
   "cell_type": "code",
   "execution_count": 123,
   "metadata": {},
   "outputs": [
    {
     "data": {
      "text/plain": [
       "19"
      ]
     },
     "execution_count": 123,
     "metadata": {},
     "output_type": "execute_result"
    }
   ],
   "source": [
    "len(max(texts))"
   ]
  },
  {
   "cell_type": "code",
   "execution_count": 124,
   "metadata": {},
   "outputs": [
    {
     "name": "stdout",
     "output_type": "stream",
     "text": [
      "Found 21469 unique tokens.\n",
      "(19955, 19)\n",
      "(19955, 5)\n"
     ]
    }
   ],
   "source": [
    "from keras.preprocessing.text import Tokenizer\n",
    "from keras.preprocessing.sequence import pad_sequences\n",
    "from keras.utils import to_categorical\n",
    "from tensorflow.keras.callbacks import EarlyStopping\n",
    "\n",
    "MAX_NUM_WORDS = 30000\n",
    "MAX_SEQUENCE_LENGTH = len(max(texts))\n",
    "tokenizer = Tokenizer(num_words=MAX_NUM_WORDS)\n",
    "tokenizer.fit_on_texts(texts)\n",
    "sequences = tokenizer.texts_to_sequences(texts)\n",
    "\n",
    "word_index = tokenizer.word_index\n",
    "print('Found %s unique tokens.' % len(word_index))\n",
    "\n",
    "data = pad_sequences(sequences, maxlen=MAX_SEQUENCE_LENGTH, padding='pre', truncating='post')\n",
    "\n",
    "labels = pd.get_dummies(train['labels']).values\n",
    "print(data.shape)\n",
    "print(labels.shape)"
   ]
  },
  {
   "cell_type": "code",
   "execution_count": 125,
   "metadata": {},
   "outputs": [],
   "source": [
    "from sklearn.model_selection import train_test_split\n",
    "x_train, x_test, y_train, y_test = train_test_split(data, labels, test_size= 0.20)"
   ]
  },
  {
   "cell_type": "code",
   "execution_count": 126,
   "metadata": {},
   "outputs": [],
   "source": [
    "from keras.layers import Embedding\n",
    "from keras.initializers import Constant\n",
    "\n",
    "## EMBEDDING_DIM =  ## seems to need to match the embeddings_index dimension\n",
    "EMBEDDING_DIM = embeddings_index.get('a').shape[0]\n",
    "num_words = min(MAX_NUM_WORDS, len(word_index)) + 1\n",
    "embedding_matrix = np.zeros((num_words, EMBEDDING_DIM))\n",
    "for word, i in word_index.items():\n",
    "    if i > num_words:\n",
    "        continue\n",
    "    embedding_vector = embeddings_index.get(word) ## This references the loaded embeddings dictionary\n",
    "    if embedding_vector is not None:\n",
    "        # words not found in embedding index will be all-zeros.\n",
    "        embedding_matrix[i] = embedding_vector\n",
    "\n",
    "# load pre-trained word embeddings into an Embedding layer\n",
    "# note that we set trainable = False so as to keep the embeddings fixed\n",
    "embedding_layer = Embedding(num_words,\n",
    "                            EMBEDDING_DIM,\n",
    "                            embeddings_initializer=Constant(embedding_matrix),\n",
    "                            input_length=MAX_SEQUENCE_LENGTH,\n",
    "                            trainable=False)"
   ]
  },
  {
   "cell_type": "code",
   "execution_count": 127,
   "metadata": {},
   "outputs": [
    {
     "name": "stdout",
     "output_type": "stream",
     "text": [
      "(21470, 200)\n"
     ]
    },
    {
     "data": {
      "text/plain": [
       "Text(0.5, 1.0, 'virus')"
      ]
     },
     "execution_count": 127,
     "metadata": {},
     "output_type": "execute_result"
    },
    {
     "data": {
      "image/png": "[encoded data removed]",
      "text/plain": [
       "<Figure size 432x288 with 1 Axes>"
      ]
     },
     "metadata": {
      "needs_background": "light"
     },
     "output_type": "display_data"
    }
   ],
   "source": [
    "print(embedding_matrix.shape)\n",
    "plt.plot(embedding_matrix[16])\n",
    "plt.plot(embedding_matrix[37])\n",
    "plt.plot(embedding_matrix[18])\n",
    "plt.title('virus')"
   ]
  },
  {
   "cell_type": "code",
   "execution_count": 255,
   "metadata": {},
   "outputs": [
    {
     "name": "stdout",
     "output_type": "stream",
     "text": [
      "Model: \"sequential_56\"\n",
      "_________________________________________________________________\n",
      "Layer (type)                 Output Shape              Param #   \n",
      "=================================================================\n",
      "embedding_62 (Embedding)     (None, 19, 200)           4294000   \n",
      "_________________________________________________________________\n",
      "dropout_29 (Dropout)         (None, 19, 200)           0         \n",
      "_________________________________________________________________\n",
      "conv1d_63 (Conv1D)           (None, 15, 64)            64064     \n",
      "_________________________________________________________________\n",
      "max_pooling1d_63 (MaxPooling (None, 3, 64)             0         \n",
      "_________________________________________________________________\n",
      "lstm_58 (LSTM)               (None, 200)               212000    \n",
      "_________________________________________________________________\n",
      "dense_52 (Dense)             (None, 5)                 1005      \n",
      "=================================================================\n",
      "Total params: 4,571,069\n",
      "Trainable params: 277,069\n",
      "Non-trainable params: 4,294,000\n",
      "_________________________________________________________________\n"
     ]
    }
   ],
   "source": [
    "from keras.models import Sequential\n",
    "from keras.layers import Dense, Flatten, LSTM, GRU, Conv1D, MaxPooling1D, Dropout, SpatialDropout1D, Activation\n",
    "\n",
    "model = Sequential()\n",
    "model.add(Embedding(num_words, EMBEDDING_DIM, input_length = MAX_SEQUENCE_LENGTH, weights = [embedding_matrix], trainable=False))\n",
    "model.add(Dropout(0.2))\n",
    "model.add(Conv1D(64, 5, activation='relu'))\n",
    "model.add(MaxPooling1D(pool_size=4))\n",
    "model.add(LSTM(200))\n",
    "\n",
    "model.add(Dense(5, activation='softmax'))\n",
    "\n",
    "model.compile(loss='binary_crossentropy', optimizer='adam', metrics=['accuracy'])\n",
    "\n",
    "model.summary()"
   ]
  },
  {
   "cell_type": "code",
   "execution_count": 256,
   "metadata": {},
   "outputs": [
    {
     "name": "stdout",
     "output_type": "stream",
     "text": [
      "Train on 15964 samples, validate on 3991 samples\n",
      "Epoch 1/100\n",
      "15964/15964 [==============================] - 9s 559us/step - loss: 0.4723 - accuracy: 0.8023 - val_loss: 0.4614 - val_accuracy: 0.8034\n",
      "Epoch 2/100\n",
      "15964/15964 [==============================] - 8s 521us/step - loss: 0.4525 - accuracy: 0.8064 - val_loss: 0.4614 - val_accuracy: 0.8047\n",
      "Epoch 3/100\n",
      "15964/15964 [==============================] - 8s 514us/step - loss: 0.4386 - accuracy: 0.8102 - val_loss: 0.4644 - val_accuracy: 0.8038\n",
      "Epoch 4/100\n",
      "15964/15964 [==============================] - 8s 518us/step - loss: 0.4210 - accuracy: 0.8185 - val_loss: 0.4741 - val_accuracy: 0.7998\n"
     ]
    }
   ],
   "source": [
    "epochs = 100\n",
    "batch_size = 32\n",
    "\n",
    "history = model.fit(x_train, y_train,validation_data=(x_test, y_test), epochs=epochs, batch_size=batch_size,callbacks=[\n",
    "                    EarlyStopping(monitor='val_loss', patience=3, min_delta=0.0001)])"
   ]
  },
  {
   "cell_type": "code",
   "execution_count": 257,
   "metadata": {},
   "outputs": [],
   "source": [
    "df0 = pd.read_csv(r'C:\\Users\\Shibbs\\Desktop\\Projects\\Sentiment analysis\\My dataset\\mumbai_cleaned_new.csv')"
   ]
  },
  {
   "cell_type": "code",
   "execution_count": 258,
   "metadata": {},
   "outputs": [],
   "source": [
    "def prediction(dataframe):\n",
    "    \n",
    "    list1 = []\n",
    "    list2 = []\n",
    "    preds = []\n",
    "\n",
    "    for index,row in dataframe.iterrows():\n",
    "        desc = row['tweet']\n",
    "        list1.append(desc)\n",
    "        \n",
    "    for i in list1:\n",
    "        \n",
    "        list1 = pad_sequences(tokenizer.texts_to_sequences([i]), truncating='post',maxlen=MAX_SEQUENCE_LENGTH)\n",
    "        score = model.predict([list1])\n",
    "        preds.append(score)\n",
    "        emotions = np.array(preds)\n",
    "        \n",
    "    for i in range(0, len(emotions)):\n",
    "        if np.argmax(emotions[i][0]) == 0:\n",
    "            list2.append('happiness')\n",
    "        elif np.argmax(emotions[i][0]) == 1:\n",
    "            list2.append('joy')\n",
    "        elif np.argmax(emotions[i][0]) == 2:\n",
    "            list2.append('neutral')\n",
    "        elif np.argmax(emotions[i][0]) == 3:  \n",
    "            list2.append('sadness')\n",
    "        elif np.argmax(emotions[i][0]) == 4:\n",
    "            list2.append('worry')\n",
    "        \n",
    "    \n",
    "    return list2"
   ]
  },
  {
   "cell_type": "code",
   "execution_count": 259,
   "metadata": {},
   "outputs": [],
   "source": [
    "sentiments = prediction(df0)"
   ]
  },
  {
   "cell_type": "code",
   "execution_count": 260,
   "metadata": {},
   "outputs": [],
   "source": [
    "df0['sentiment'] = sentiments"
   ]
  },
  {
   "cell_type": "code",
   "execution_count": 261,
   "metadata": {},
   "outputs": [
    {
     "data": {
      "text/plain": [
       "neutral      176\n",
       "sadness       70\n",
       "worry         58\n",
       "happiness     37\n",
       "joy           17\n",
       "Name: sentiment, dtype: int64"
      ]
     },
     "execution_count": 261,
     "metadata": {},
     "output_type": "execute_result"
    }
   ],
   "source": [
    "df0['sentiment'].value_counts()"
   ]
  },
  {
   "cell_type": "code",
   "execution_count": 262,
   "metadata": {},
   "outputs": [
    {
     "name": "stdout",
     "output_type": "stream",
     "text": [
      "mumbai coronavirus updates missionbeginagain unlock suspected positive total positive patients deaths discharged today deaths in the city since recovery rate tests till june tests on th\n",
      "worry\n"
     ]
    }
   ],
   "source": [
    "index = 49\n",
    "\n",
    "print(df0['tweet'][index])\n",
    "print(df0['sentiment'][index])"
   ]
  },
  {
   "cell_type": "code",
   "execution_count": 264,
   "metadata": {},
   "outputs": [],
   "source": [
    "df0.to_csv(r'C:\\Users\\Shibbs\\Desktop\\Projects\\Sentiment analysis\\My dataset\\glove_cnn_lstm2_7.2.csv')"
   ]
  },
  {
   "cell_type": "code",
   "execution_count": 263,
   "metadata": {},
   "outputs": [],
   "source": [
    "model.save('glove_cnn_lstm_gpu2_7.2.h5')"
   ]
  },
  {
   "cell_type": "code",
   "execution_count": 170,
   "metadata": {},
   "outputs": [],
   "source": [
    "df1 =  pd.read_csv(r'C:\\Users\\Shibbs\\Desktop\\Projects\\Sentiment analysis\\My dataset\\glove_cnn_lstm2_7.1.csv')"
   ]
  },
  {
   "cell_type": "code",
   "execution_count": 173,
   "metadata": {},
   "outputs": [
    {
     "data": {
      "text/plain": [
       "neutral      189\n",
       "worry         73\n",
       "sadness       52\n",
       "happiness     26\n",
       "joy           18\n",
       "Name: sentiment, dtype: int64"
      ]
     },
     "execution_count": 173,
     "metadata": {},
     "output_type": "execute_result"
    }
   ],
   "source": [
    "df1['sentiment'].value_counts()"
   ]
  },
  {
   "cell_type": "code",
   "execution_count": 222,
   "metadata": {},
   "outputs": [
    {
     "name": "stdout",
     "output_type": "stream",
     "text": [
      "the way i love myself do u also love me love care hope together beauty unlock sobo mumbai india anahitakapoor\n",
      "quarantine ward life of gujjus gujjus can be happy anywhere retweet quarantinetimepass unlock unlock gujarat maharashtra lockdown bangalore coimbatore indianairforce karachi katrinakaif mumbairains mumbai sidnaaz upsc voguechallenge missyouyuvi\n",
      "couldn t resist in sharing this forward unlock mumbaikars mumbai backtowork\n",
      "don t be so badshah guys stay safe coronavirus unlock shahrukhkhan shahrukhkhanfan covid memesdaily bjp mumbai delhi narendermodi lockdownextension coronawarriors vaccine newshot shahrukh asksrk\n",
      "friend kya hoga mumbai ka after unlock me\n",
      "all those who ask me how s mumbai doing here s the answer we re preparing to flatten the curve together with unlock i guess we re doing it right right\n",
      "what an idea sir ji this is how unlock looks like wonder what and would be just imagine when mumbai locals resume services\n",
      "bless each mumbaikar mumbai travelling to work or shop travel safe and be kind to others too unlock doesn t seem right\n",
      "only god can save mumbai unlock unlockingindia coronavirusindia\n",
      "instead of sharing videos and criticizing your city try to support and educate people baki toh you can leave upto this phase of bhagwan bharose mumbai unlock missionbeginagain\n",
      "is our mumbai safe the real mumbai start no social distance no mask on face god bless best driver and conductor god bless corporate security mumbailockdown mumbaitraffic bestbus cmomaharashtra udhavthackeray adityathackeray pmmodi pmofindia bmc unlock\n"
     ]
    }
   ],
   "source": [
    "for index, row in df0.iterrows():\n",
    "    if df0['sentiment'][index] == 'joy':\n",
    "        print(df0['tweet'][index])\n",
    "        "
   ]
  },
  {
   "cell_type": "code",
   "execution_count": null,
   "metadata": {},
   "outputs": [],
   "source": []
  }
 ],
 "metadata": {
  "kernelspec": {
   "display_name": "Python 3",
   "language": "python",
   "name": "python3"
  },
  "language_info": {
   "codemirror_mode": {
    "name": "ipython",
    "version": 3
   },
   "file_extension": ".py",
   "mimetype": "text/x-python",
   "name": "python",
   "nbconvert_exporter": "python",
   "pygments_lexer": "ipython3",
   "version": "3.7.7"
  }
 },
 "nbformat": 4,
 "nbformat_minor": 4
}
