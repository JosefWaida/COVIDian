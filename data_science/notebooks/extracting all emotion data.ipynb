{
 "cells": [
  {
   "cell_type": "code",
   "execution_count": 1,
   "metadata": {
    "tags": []
   },
   "outputs": [],
   "source": [
    "import twint\n",
    "import csv\n",
    "import pandas as pd\n",
    "import json\n",
    "from ibm_watson import NaturalLanguageUnderstandingV1\n",
    "from ibm_cloud_sdk_core.authenticators import IAMAuthenticator\n",
    "from ibm_watson.natural_language_understanding_v1 import Features, EmotionOptions\n",
    "import os"
   ]
  },
  {
   "cell_type": "code",
   "execution_count": 5,
   "metadata": {},
   "outputs": [],
   "source": [
    "df = pd.read_csv('/Users/amogh/Documents/Study/twitter/datasets/raw/mumbai_unlock1.csv')"
   ]
  },
  {
   "cell_type": "code",
   "execution_count": 11,
   "metadata": {},
   "outputs": [
    {
     "output_type": "execute_result",
     "data": {
      "text/plain": "Index(['id', 'conversation_id', 'created_at', 'date', 'time', 'timezone',\n       'user_id', 'username', 'name', 'place', 'tweet', 'mentions', 'urls',\n       'photos', 'replies_count', 'retweets_count', 'likes_count', 'hashtags',\n       'cashtags', 'link', 'retweet', 'quote_url', 'video', 'near', 'geo',\n       'source', 'user_rt_id', 'user_rt', 'retweet_id', 'reply_to',\n       'retweet_date', 'translate', 'trans_src', 'trans_dest'],\n      dtype='object')"
     },
     "metadata": {},
     "execution_count": 11
    }
   ],
   "source": [
    "df.columns"
   ]
  },
  {
   "cell_type": "code",
   "execution_count": null,
   "metadata": {},
   "outputs": [],
   "source": [
    "#df = pd.DataFrame([[1, 1.5]], columns=['int', 'float'])\n",
    "#row = next(df.iterrows())[1]"
   ]
  },
  {
   "cell_type": "code",
   "execution_count": 51,
   "metadata": {
    "tags": []
   },
   "outputs": [
    {
     "output_type": "stream",
     "name": "stdout",
     "text": "0 MumbaicoronavirusupdatesMissionBeginAgainUnlockSuspectedPositiveTotalpositivepatientsdeathsdischargedtodaydeathsinthecitysinceTeststillJunepictwittercomfiRdajDQ\n1 SeeingthecurrentCOVIDIndiasituationandtalkingabtunlockinMumbaiissurprisingNewcaseshavenotstoppedNoothercitywldhavedreamedtoevenUnlockincurrentsituationMumbaishdhavebeenlastinCountrytoopenupOfficeofUTPMOIndianarendramodiin\n2 AmappreparedbyCSIRNEERIMumbaishowingCOVIDーcasesinIndiathJunecoronavirusMaharashtraFightsCoronaMedicalMaharashtraMEDDcoronaupdatesindiaUnlockingIndiaUnlockMumbaiFightsCovidStayHomeStaySafeSaveLivesCOVIDIndiaUnlockIndiapictwittercomuRrmiUoiPv\n3 IthinkprobablyusyoungpeopleintheofficehavealreadycontactthevirusbutareasymptomaticsaidafriendwhohasbeenworkingoutofherresearchlabsinceMarchunlockMumbai\n4 MissionBeginAgainMumbaiCrowdssurgeonDayofUnlockshouldgovernmentstaggertimingsAsTuesdaysawlongqueuesattrainstationsexpertstellstatetoconsidervariedofficehourshttpsmmiddaycomamparticlesmumbaicrowdssurgeondayofunlockshouldgovernmentstaggertimingsclickhttpstcoSCAfotXzvpictwittercommZVXDkFQj\n5 AyeeMachiiiiyeeeheardthatcallfirsttimetodayFeltlikelifeislimpingbackbutthesedailycallsarenowlikestrangewhensilencehasbecomeanormLOCKDOWNDIARIESUnlockMumbaiseafood\n6 IfeelpeoplefromotherstatesaregettingbacktoMumbaiafterUnlockPlsensuretofollowprotocolsothatitdoesntspreadagainrajeshtope\n7 OfficeofUTwhydoestheBMCnotsealthesocietywhenthereisapositivecasefoundWhyisthislevygivenwhenthenumberofcasesareveryhighnowinmumbaiCovidCOVIDCOVIDMumbaiUdhavThackerayUnlockLockdownFailedMaharashtraWakeUpmybmc\n8 OfficeofUThowmanyCovidtestsaredoneonadailybasisinMumbaiThaneKalyanDombivliAmbarnathBadlapurVasaiVirarNaviMumbaiWhyisthereunlockwhentherearelessnumberbedshospitalfacilitiesCOVIDMumbaiUdhavThackerayUnlockLockdownFailed\n9 MumbaicoronavirusupdatesMissionBeginAgainUnlockSuspectedPositiveTotalpositivepatientsdeathsdischargedtodaydeathsinthecitysinceIncludesdeathsaddedTeststillJunepictwittercomaiiFqUsd\n"
    }
   ],
   "source": [
    "for index, row in df[['tweet', 'link']][:10].iterrows():\n",
    "    print(index, ''.join(filter(str.isalpha, row['tweet'])))"
   ]
  },
  {
   "cell_type": "code",
   "execution_count": 66,
   "metadata": {
    "tags": []
   },
   "outputs": [
    {
     "output_type": "stream",
     "name": "stdout",
     "text": "Mumbai coronavirus updates\n\nMissionBeginAgain\nUnlock\n   Suspected Positive\n  Total positive patients\n  deaths \n  discharged today\n   deaths in the city since  \n\nTests till  June   pictwittercomfiRdajDQ\n"
    }
   ],
   "source": [
    "for index, row in df[['tweet', 'link']][:1].iterrows():\n",
    "    #print(row['tweet'])\n",
    "    stripped_tweet = ''\n",
    "    for char in row['tweet']:\n",
    "        if str.isalpha(char) or str.isspace(char):\n",
    "            stripped_tweet += char\n",
    "    print(stripped_tweet)"
   ]
  },
  {
   "cell_type": "code",
   "execution_count": 3,
   "metadata": {},
   "outputs": [],
   "source": [
    "ibm_api = os.environ.get(\"ibm_api\")\n",
    "ibm_url = os.environ.get(\"ibm_url\")"
   ]
  },
  {
   "cell_type": "code",
   "execution_count": 4,
   "metadata": {},
   "outputs": [],
   "source": [
    "authenticator = IAMAuthenticator(ibm_api)\n",
    "natural_language_understanding = NaturalLanguageUnderstandingV1(\n",
    "    version='2019-07-12',\n",
    "    authenticator=authenticator\n",
    ")\n",
    "\n",
    "natural_language_understanding.set_service_url(ibm_url)"
   ]
  },
  {
   "cell_type": "code",
   "execution_count": 39,
   "metadata": {},
   "outputs": [],
   "source": [
    "response = natural_language_understanding.analyze(\n",
    "    text=\"I hate apples\",\n",
    "    features=Features(emotion=EmotionOptions(targets=['apples']))).get_result()"
   ]
  },
  {
   "cell_type": "code",
   "execution_count": 40,
   "metadata": {
    "tags": []
   },
   "outputs": [
    {
     "output_type": "stream",
     "name": "stdout",
     "text": "{\n  \"usage\": {\n    \"text_units\": 1,\n    \"text_characters\": 13,\n    \"features\": 1\n  },\n  \"language\": \"en\",\n  \"emotion\": {\n    \"targets\": [\n      {\n        \"text\": \"apples\",\n        \"emotion\": {\n          \"sadness\": 0.107092,\n          \"joy\": 0.005216,\n          \"fear\": 0.127117,\n          \"disgust\": 0.242079,\n          \"anger\": 0.774741\n        }\n      }\n    ],\n    \"document\": {\n      \"emotion\": {\n        \"sadness\": 0.107092,\n        \"joy\": 0.005216,\n        \"fear\": 0.127117,\n        \"disgust\": 0.242079,\n        \"anger\": 0.774741\n      }\n    }\n  }\n}\n"
    }
   ],
   "source": [
    "print(json.dumps(response, indent=2))"
   ]
  },
  {
   "cell_type": "code",
   "execution_count": 5,
   "metadata": {},
   "outputs": [],
   "source": [
    "def clean_tweet(tweet):\n",
    "    stripped_tweet = ''\n",
    "    for char in tweet:\n",
    "        if str.isalpha(char) or str.isspace(char):\n",
    "            stripped_tweet += char.lower()\n",
    "    return stripped_tweet"
   ]
  },
  {
   "cell_type": "code",
   "execution_count": 101,
   "metadata": {},
   "outputs": [
    {
     "output_type": "execute_result",
     "data": {
      "text/plain": "'hellos'"
     },
     "metadata": {},
     "execution_count": 101
    }
   ],
   "source": [
    "clean_tweet('helloS')"
   ]
  },
  {
   "cell_type": "code",
   "execution_count": 6,
   "metadata": {},
   "outputs": [],
   "source": [
    "def analyze(tweet, target):\n",
    "    response = natural_language_understanding.analyze(text=tweet,features=Features(emotion=EmotionOptions(targets=[target]))).get_result()\n",
    "    return response['emotion']['document']['emotion']"
   ]
  },
  {
   "cell_type": "code",
   "execution_count": 78,
   "metadata": {
    "tags": []
   },
   "outputs": [],
   "source": [
    "mango = analyze('i love mango')"
   ]
  },
  {
   "cell_type": "code",
   "execution_count": 86,
   "metadata": {},
   "outputs": [],
   "source": [
    "output = pd.DataFrame()\n",
    "mango['link'] = 'google.com'\n",
    "output = output.append(mango, ignore_index=True)\n",
    "output = output.append(mango, ignore_index=True)"
   ]
  },
  {
   "cell_type": "code",
   "execution_count": 87,
   "metadata": {},
   "outputs": [
    {
     "output_type": "execute_result",
     "data": {
      "text/plain": "      anger   disgust      fear       joy        link   sadness\n0  0.774741  0.242079  0.127117  0.005216  google.com  0.107092\n1  0.774741  0.242079  0.127117  0.005216  google.com  0.107092",
      "text/html": "<div>\n<style scoped>\n    .dataframe tbody tr th:only-of-type {\n        vertical-align: middle;\n    }\n\n    .dataframe tbody tr th {\n        vertical-align: top;\n    }\n\n    .dataframe thead th {\n        text-align: right;\n    }\n</style>\n<table border=\"1\" class=\"dataframe\">\n  <thead>\n    <tr style=\"text-align: right;\">\n      <th></th>\n      <th>anger</th>\n      <th>disgust</th>\n      <th>fear</th>\n      <th>joy</th>\n      <th>link</th>\n      <th>sadness</th>\n    </tr>\n  </thead>\n  <tbody>\n    <tr>\n      <th>0</th>\n      <td>0.774741</td>\n      <td>0.242079</td>\n      <td>0.127117</td>\n      <td>0.005216</td>\n      <td>google.com</td>\n      <td>0.107092</td>\n    </tr>\n    <tr>\n      <th>1</th>\n      <td>0.774741</td>\n      <td>0.242079</td>\n      <td>0.127117</td>\n      <td>0.005216</td>\n      <td>google.com</td>\n      <td>0.107092</td>\n    </tr>\n  </tbody>\n</table>\n</div>"
     },
     "metadata": {},
     "execution_count": 87
    }
   ],
   "source": [
    "output"
   ]
  },
  {
   "cell_type": "code",
   "execution_count": 130,
   "metadata": {
    "tags": [
     "outputPrepend"
    ]
   },
   "outputs": [
    {
     "output_type": "stream",
     "name": "stdout",
     "text": "ion-id: d0575229e48bd1e10ccc3791371f3a4c\nAt Index: 120\nERROR:root:unsupported text language: hi\nTraceback (most recent call last):\n  File \"/opt/miniconda3/envs/twitter/lib/python3.8/site-packages/ibm_cloud_sdk_core/base_service.py\", line 228, in send\n    raise ApiException(\nibm_cloud_sdk_core.api_exception.ApiException: Error: unsupported text language: hi, Code: 400 , X-global-transaction-id: 141b522f0710b3fba62a9a9bf2040337\nERROR:root:cannot locate keyphrase\nTraceback (most recent call last):\n  File \"/opt/miniconda3/envs/twitter/lib/python3.8/site-packages/ibm_cloud_sdk_core/base_service.py\", line 228, in send\n    raise ApiException(\nibm_cloud_sdk_core.api_exception.ApiException: Error: cannot locate keyphrase, Code: 400 , X-global-transaction-id: 78456106c38848fbdb693cfd9506d22c\nERROR:root:unsupported text language: hi\nTraceback (most recent call last):\n  File \"/opt/miniconda3/envs/twitter/lib/python3.8/site-packages/ibm_cloud_sdk_core/base_service.py\", line 228, in send\n    raise ApiException(\nibm_cloud_sdk_core.api_exception.ApiException: Error: unsupported text language: hi, Code: 400 , X-global-transaction-id: ab2dbbe713e7ed2c5cd6b3b5aa526d97\nERROR:root:unsupported text language: unknown\nTraceback (most recent call last):\n  File \"/opt/miniconda3/envs/twitter/lib/python3.8/site-packages/ibm_cloud_sdk_core/base_service.py\", line 228, in send\n    raise ApiException(\nibm_cloud_sdk_core.api_exception.ApiException: Error: unsupported text language: unknown, Code: 400 , X-global-transaction-id: 0efac7cc38c7b7de2b1bd1d81d142bd9\nERROR:root:unsupported text language: hi\nTraceback (most recent call last):\n  File \"/opt/miniconda3/envs/twitter/lib/python3.8/site-packages/ibm_cloud_sdk_core/base_service.py\", line 228, in send\n    raise ApiException(\nibm_cloud_sdk_core.api_exception.ApiException: Error: unsupported text language: hi, Code: 400 , X-global-transaction-id: 83379773cf7f20e9f2ed199aaef1e2f9\nERROR:root:cannot locate keyphrase\nTraceback (most recent call last):\n  File \"/opt/miniconda3/envs/twitter/lib/python3.8/site-packages/ibm_cloud_sdk_core/base_service.py\", line 228, in send\n    raise ApiException(\nibm_cloud_sdk_core.api_exception.ApiException: Error: cannot locate keyphrase, Code: 400 , X-global-transaction-id: 8ce29bfe51940495228733dcaf0fd6a7\nERROR:root:unsupported text language: unknown\nTraceback (most recent call last):\n  File \"/opt/miniconda3/envs/twitter/lib/python3.8/site-packages/ibm_cloud_sdk_core/base_service.py\", line 228, in send\n    raise ApiException(\nibm_cloud_sdk_core.api_exception.ApiException: Error: unsupported text language: unknown, Code: 400 , X-global-transaction-id: 98cdec147650135fc44d86c05c56a002\nAt Index: 140\nERROR:root:unsupported text language: hi\nTraceback (most recent call last):\n  File \"/opt/miniconda3/envs/twitter/lib/python3.8/site-packages/ibm_cloud_sdk_core/base_service.py\", line 228, in send\n    raise ApiException(\nibm_cloud_sdk_core.api_exception.ApiException: Error: unsupported text language: hi, Code: 400 , X-global-transaction-id: e7d84c8120b3824b250f3fac4f8e6872\nERROR:root:unsupported text language: unknown\nTraceback (most recent call last):\n  File \"/opt/miniconda3/envs/twitter/lib/python3.8/site-packages/ibm_cloud_sdk_core/base_service.py\", line 228, in send\n    raise ApiException(\nibm_cloud_sdk_core.api_exception.ApiException: Error: unsupported text language: unknown, Code: 400 , X-global-transaction-id: b2e5514edee52e08dc00d2734fc32656\nERROR:root:cannot locate keyphrase\nTraceback (most recent call last):\n  File \"/opt/miniconda3/envs/twitter/lib/python3.8/site-packages/ibm_cloud_sdk_core/base_service.py\", line 228, in send\n    raise ApiException(\nibm_cloud_sdk_core.api_exception.ApiException: Error: cannot locate keyphrase, Code: 400 , X-global-transaction-id: cb65aa9403ac530ff350c306d4511f81\nERROR:root:unsupported text language: hi\nTraceback (most recent call last):\n  File \"/opt/miniconda3/envs/twitter/lib/python3.8/site-packages/ibm_cloud_sdk_core/base_service.py\", line 228, in send\n    raise ApiException(\nibm_cloud_sdk_core.api_exception.ApiException: Error: unsupported text language: hi, Code: 400 , X-global-transaction-id: 740cb43e0ae9faae3e74a4d18d9ce38b\nERROR:root:unsupported text language: hi\nTraceback (most recent call last):\n  File \"/opt/miniconda3/envs/twitter/lib/python3.8/site-packages/ibm_cloud_sdk_core/base_service.py\", line 228, in send\n    raise ApiException(\nibm_cloud_sdk_core.api_exception.ApiException: Error: unsupported text language: hi, Code: 400 , X-global-transaction-id: 34d17387b03cc0bb0c83a4853c1e90d7\nERROR:root:cannot locate keyphrase\nTraceback (most recent call last):\n  File \"/opt/miniconda3/envs/twitter/lib/python3.8/site-packages/ibm_cloud_sdk_core/base_service.py\", line 228, in send\n    raise ApiException(\nibm_cloud_sdk_core.api_exception.ApiException: Error: cannot locate keyphrase, Code: 400 , X-global-transaction-id: 02e0277122b56fe2b2200dded3a45904\nAt Index: 160\nERROR:root:cannot locate keyphrase\nTraceback (most recent call last):\n  File \"/opt/miniconda3/envs/twitter/lib/python3.8/site-packages/ibm_cloud_sdk_core/base_service.py\", line 228, in send\n    raise ApiException(\nibm_cloud_sdk_core.api_exception.ApiException: Error: cannot locate keyphrase, Code: 400 , X-global-transaction-id: 8745ee9c590f41da18516c29a443b138\nERROR:root:unsupported text language: unknown\nTraceback (most recent call last):\n  File \"/opt/miniconda3/envs/twitter/lib/python3.8/site-packages/ibm_cloud_sdk_core/base_service.py\", line 228, in send\n    raise ApiException(\nibm_cloud_sdk_core.api_exception.ApiException: Error: unsupported text language: unknown, Code: 400 , X-global-transaction-id: 7af4c4d8b69a31bf73867ed8180a3e22\nERROR:root:unsupported text language: hi\nTraceback (most recent call last):\n  File \"/opt/miniconda3/envs/twitter/lib/python3.8/site-packages/ibm_cloud_sdk_core/base_service.py\", line 228, in send\n    raise ApiException(\nibm_cloud_sdk_core.api_exception.ApiException: Error: unsupported text language: hi, Code: 400 , X-global-transaction-id: fdb63ad89413b466ad4ef4299145069a\nERROR:root:unsupported text language: hi\nTraceback (most recent call last):\n  File \"/opt/miniconda3/envs/twitter/lib/python3.8/site-packages/ibm_cloud_sdk_core/base_service.py\", line 228, in send\n    raise ApiException(\nibm_cloud_sdk_core.api_exception.ApiException: Error: unsupported text language: hi, Code: 400 , X-global-transaction-id: e21a0544c707072aaccbb57d763d0722\nAt Index: 180\nERROR:root:unsupported text language: hi\nTraceback (most recent call last):\n  File \"/opt/miniconda3/envs/twitter/lib/python3.8/site-packages/ibm_cloud_sdk_core/base_service.py\", line 228, in send\n    raise ApiException(\nibm_cloud_sdk_core.api_exception.ApiException: Error: unsupported text language: hi, Code: 400 , X-global-transaction-id: 31ed563503eaaf8cebf58446f8cab272\nERROR:root:unsupported text language: hi\nTraceback (most recent call last):\n  File \"/opt/miniconda3/envs/twitter/lib/python3.8/site-packages/ibm_cloud_sdk_core/base_service.py\", line 228, in send\n    raise ApiException(\nibm_cloud_sdk_core.api_exception.ApiException: Error: unsupported text language: hi, Code: 400 , X-global-transaction-id: 53652fea53b9996b9320c35343197850\nERROR:root:unsupported text language: hi\nTraceback (most recent call last):\n  File \"/opt/miniconda3/envs/twitter/lib/python3.8/site-packages/ibm_cloud_sdk_core/base_service.py\", line 228, in send\n    raise ApiException(\nibm_cloud_sdk_core.api_exception.ApiException: Error: unsupported text language: hi, Code: 400 , X-global-transaction-id: f57f4f9a009f088b86ba025bb6787065\nERROR:root:cannot locate keyphrase\nTraceback (most recent call last):\n  File \"/opt/miniconda3/envs/twitter/lib/python3.8/site-packages/ibm_cloud_sdk_core/base_service.py\", line 228, in send\n    raise ApiException(\nibm_cloud_sdk_core.api_exception.ApiException: Error: cannot locate keyphrase, Code: 400 , X-global-transaction-id: d8e5290e688bd5cda913a9b9ed59084e\nERROR:root:cannot locate keyphrase\nTraceback (most recent call last):\n  File \"/opt/miniconda3/envs/twitter/lib/python3.8/site-packages/ibm_cloud_sdk_core/base_service.py\", line 228, in send\n    raise ApiException(\nibm_cloud_sdk_core.api_exception.ApiException: Error: cannot locate keyphrase, Code: 400 , X-global-transaction-id: cd313a9864b0eb3cea6219ad4bb5e022\nERROR:root:cannot locate keyphrase\nTraceback (most recent call last):\n  File \"/opt/miniconda3/envs/twitter/lib/python3.8/site-packages/ibm_cloud_sdk_core/base_service.py\", line 228, in send\n    raise ApiException(\nibm_cloud_sdk_core.api_exception.ApiException: Error: cannot locate keyphrase, Code: 400 , X-global-transaction-id: c9555948b4f5e72f91029f433ba0f39f\nAt Index: 200\nERROR:root:unsupported text language: unknown\nTraceback (most recent call last):\n  File \"/opt/miniconda3/envs/twitter/lib/python3.8/site-packages/ibm_cloud_sdk_core/base_service.py\", line 228, in send\n    raise ApiException(\nibm_cloud_sdk_core.api_exception.ApiException: Error: unsupported text language: unknown, Code: 400 , X-global-transaction-id: 4cb3570ffe73229a58e983bd0457923a\nERROR:root:unsupported text language: hi\nTraceback (most recent call last):\n  File \"/opt/miniconda3/envs/twitter/lib/python3.8/site-packages/ibm_cloud_sdk_core/base_service.py\", line 228, in send\n    raise ApiException(\nibm_cloud_sdk_core.api_exception.ApiException: Error: unsupported text language: hi, Code: 400 , X-global-transaction-id: cd0c88ccd6b5a8e39668067da21e22c9\nERROR:root:unsupported text language: hi\nTraceback (most recent call last):\n  File \"/opt/miniconda3/envs/twitter/lib/python3.8/site-packages/ibm_cloud_sdk_core/base_service.py\", line 228, in send\n    raise ApiException(\nibm_cloud_sdk_core.api_exception.ApiException: Error: unsupported text language: hi, Code: 400 , X-global-transaction-id: 342d54a207f1d737cbd67dd7f3d7a7a9\nERROR:root:cannot locate keyphrase\nTraceback (most recent call last):\n  File \"/opt/miniconda3/envs/twitter/lib/python3.8/site-packages/ibm_cloud_sdk_core/base_service.py\", line 228, in send\n    raise ApiException(\nibm_cloud_sdk_core.api_exception.ApiException: Error: cannot locate keyphrase, Code: 400 , X-global-transaction-id: 4c5559814ffe305deb1a6568ce5dd0df\nERROR:root:unsupported text language: unknown\nTraceback (most recent call last):\n  File \"/opt/miniconda3/envs/twitter/lib/python3.8/site-packages/ibm_cloud_sdk_core/base_service.py\", line 228, in send\n    raise ApiException(\nibm_cloud_sdk_core.api_exception.ApiException: Error: unsupported text language: unknown, Code: 400 , X-global-transaction-id: 320283502a0728f5de76a17e942d7c2e\nAt Index: 220\nERROR:root:cannot locate keyphrase\nTraceback (most recent call last):\n  File \"/opt/miniconda3/envs/twitter/lib/python3.8/site-packages/ibm_cloud_sdk_core/base_service.py\", line 228, in send\n    raise ApiException(\nibm_cloud_sdk_core.api_exception.ApiException: Error: cannot locate keyphrase, Code: 400 , X-global-transaction-id: 3152d342a869b8d02f5e17e4ae0ab863\nERROR:root:unsupported text language: bh\nTraceback (most recent call last):\n  File \"/opt/miniconda3/envs/twitter/lib/python3.8/site-packages/ibm_cloud_sdk_core/base_service.py\", line 228, in send\n    raise ApiException(\nibm_cloud_sdk_core.api_exception.ApiException: Error: unsupported text language: bh, Code: 400 , X-global-transaction-id: c22c0d79460cf35d6e294594c86b3325\nERROR:root:cannot locate keyphrase\nTraceback (most recent call last):\n  File \"/opt/miniconda3/envs/twitter/lib/python3.8/site-packages/ibm_cloud_sdk_core/base_service.py\", line 228, in send\n    raise ApiException(\nibm_cloud_sdk_core.api_exception.ApiException: Error: cannot locate keyphrase, Code: 400 , X-global-transaction-id: e84246b98a45876f6819767945b20459\nERROR:root:cannot locate keyphrase\nTraceback (most recent call last):\n  File \"/opt/miniconda3/envs/twitter/lib/python3.8/site-packages/ibm_cloud_sdk_core/base_service.py\", line 228, in send\n    raise ApiException(\nibm_cloud_sdk_core.api_exception.ApiException: Error: cannot locate keyphrase, Code: 400 , X-global-transaction-id: 8f742355e8562628361275f392ec0e20\nERROR:root:cannot locate keyphrase\nTraceback (most recent call last):\n  File \"/opt/miniconda3/envs/twitter/lib/python3.8/site-packages/ibm_cloud_sdk_core/base_service.py\", line 228, in send\n    raise ApiException(\nibm_cloud_sdk_core.api_exception.ApiException: Error: cannot locate keyphrase, Code: 400 , X-global-transaction-id: 3134dc9e3d6d6123e9fe82bb9e1deb91\nAt Index: 240\nAt Index: 260\nERROR:root:cannot locate keyphrase\nTraceback (most recent call last):\n  File \"/opt/miniconda3/envs/twitter/lib/python3.8/site-packages/ibm_cloud_sdk_core/base_service.py\", line 228, in send\n    raise ApiException(\nibm_cloud_sdk_core.api_exception.ApiException: Error: cannot locate keyphrase, Code: 400 , X-global-transaction-id: 75ab6926d63483697c3576b853d01109\nERROR:root:unsupported text language: hi\nTraceback (most recent call last):\n  File \"/opt/miniconda3/envs/twitter/lib/python3.8/site-packages/ibm_cloud_sdk_core/base_service.py\", line 228, in send\n    raise ApiException(\nibm_cloud_sdk_core.api_exception.ApiException: Error: unsupported text language: hi, Code: 400 , X-global-transaction-id: 72c4f05b9c97d4d0be9f2ffd2eadbe2f\nAt Index: 280\nERROR:root:unsupported text language: ja\nTraceback (most recent call last):\n  File \"/opt/miniconda3/envs/twitter/lib/python3.8/site-packages/ibm_cloud_sdk_core/base_service.py\", line 228, in send\n    raise ApiException(\nibm_cloud_sdk_core.api_exception.ApiException: Error: unsupported text language: ja, Code: 400 , X-global-transaction-id: 36af0bbc03cd11e49de17b122469d32f\nERROR:root:unsupported text language: hi\nTraceback (most recent call last):\n  File \"/opt/miniconda3/envs/twitter/lib/python3.8/site-packages/ibm_cloud_sdk_core/base_service.py\", line 228, in send\n    raise ApiException(\nibm_cloud_sdk_core.api_exception.ApiException: Error: unsupported text language: hi, Code: 400 , X-global-transaction-id: 8988432efd459935358bb3bd5973eb20\nAt Index: 300\nERROR:root:unsupported text language: hi\nTraceback (most recent call last):\n  File \"/opt/miniconda3/envs/twitter/lib/python3.8/site-packages/ibm_cloud_sdk_core/base_service.py\", line 228, in send\n    raise ApiException(\nibm_cloud_sdk_core.api_exception.ApiException: Error: unsupported text language: hi, Code: 400 , X-global-transaction-id: 0e156a2bcf3d6288cc88b0b05040540d\nERROR:root:unsupported text language: hi\nTraceback (most recent call last):\n  File \"/opt/miniconda3/envs/twitter/lib/python3.8/site-packages/ibm_cloud_sdk_core/base_service.py\", line 228, in send\n    raise ApiException(\nibm_cloud_sdk_core.api_exception.ApiException: Error: unsupported text language: hi, Code: 400 , X-global-transaction-id: bc4154d77fbb90ba42fa1143714479b6\nAt Index: 320\nERROR:root:unsupported text language: hi\nTraceback (most recent call last):\n  File \"/opt/miniconda3/envs/twitter/lib/python3.8/site-packages/ibm_cloud_sdk_core/base_service.py\", line 228, in send\n    raise ApiException(\nibm_cloud_sdk_core.api_exception.ApiException: Error: unsupported text language: hi, Code: 400 , X-global-transaction-id: 8b9d722fe2f7c83d87098b38b3574766\nERROR:root:unsupported text language: hi\nTraceback (most recent call last):\n  File \"/opt/miniconda3/envs/twitter/lib/python3.8/site-packages/ibm_cloud_sdk_core/base_service.py\", line 228, in send\n    raise ApiException(\nibm_cloud_sdk_core.api_exception.ApiException: Error: unsupported text language: hi, Code: 400 , X-global-transaction-id: 4cbea020f2c39c3574b6eb41de086bb1\nERROR:root:unsupported text language: unknown\nTraceback (most recent call last):\n  File \"/opt/miniconda3/envs/twitter/lib/python3.8/site-packages/ibm_cloud_sdk_core/base_service.py\", line 228, in send\n    raise ApiException(\nibm_cloud_sdk_core.api_exception.ApiException: Error: unsupported text language: unknown, Code: 400 , X-global-transaction-id: 5116ed9af6a36fe0e68cf8b0c9e8b54b\nERROR:root:unsupported text language: es\nTraceback (most recent call last):\n  File \"/opt/miniconda3/envs/twitter/lib/python3.8/site-packages/ibm_cloud_sdk_core/base_service.py\", line 228, in send\n    raise ApiException(\nibm_cloud_sdk_core.api_exception.ApiException: Error: unsupported text language: es, Code: 400 , X-global-transaction-id: b6f41a02d628e793b609c99483e13028\nAt Index: 340\nERROR:root:cannot locate keyphrase\nTraceback (most recent call last):\n  File \"/opt/miniconda3/envs/twitter/lib/python3.8/site-packages/ibm_cloud_sdk_core/base_service.py\", line 228, in send\n    raise ApiException(\nibm_cloud_sdk_core.api_exception.ApiException: Error: cannot locate keyphrase, Code: 400 , X-global-transaction-id: 478f8b1116765a6932711405694adae4\nERROR:root:unsupported text language: hi\nTraceback (most recent call last):\n  File \"/opt/miniconda3/envs/twitter/lib/python3.8/site-packages/ibm_cloud_sdk_core/base_service.py\", line 228, in send\n    raise ApiException(\nibm_cloud_sdk_core.api_exception.ApiException: Error: unsupported text language: hi, Code: 400 , X-global-transaction-id: cc07094f0149d25457813c29010dc96c\nERROR:root:unsupported text language: bh\nTraceback (most recent call last):\n  File \"/opt/miniconda3/envs/twitter/lib/python3.8/site-packages/ibm_cloud_sdk_core/base_service.py\", line 228, in send\n    raise ApiException(\nibm_cloud_sdk_core.api_exception.ApiException: Error: unsupported text language: bh, Code: 400 , X-global-transaction-id: 97c9fd3d32e452611a6a3a8a5b28f094\nERROR:root:unsupported text language: hi\nTraceback (most recent call last):\n  File \"/opt/miniconda3/envs/twitter/lib/python3.8/site-packages/ibm_cloud_sdk_core/base_service.py\", line 228, in send\n    raise ApiException(\nibm_cloud_sdk_core.api_exception.ApiException: Error: unsupported text language: hi, Code: 400 , X-global-transaction-id: fe0fada7915586b6bbcc008a71eb98ca\nAt Index: 360\nERROR:root:unsupported text language: hi\nTraceback (most recent call last):\n  File \"/opt/miniconda3/envs/twitter/lib/python3.8/site-packages/ibm_cloud_sdk_core/base_service.py\", line 228, in send\n    raise ApiException(\nibm_cloud_sdk_core.api_exception.ApiException: Error: unsupported text language: hi, Code: 400 , X-global-transaction-id: 5b8729d59375b99d14a0395e7f81abff\nERROR:root:unsupported text language: unknown\nTraceback (most recent call last):\n  File \"/opt/miniconda3/envs/twitter/lib/python3.8/site-packages/ibm_cloud_sdk_core/base_service.py\", line 228, in send\n    raise ApiException(\nibm_cloud_sdk_core.api_exception.ApiException: Error: unsupported text language: unknown, Code: 400 , X-global-transaction-id: 65377a53cc1f183d986d4ed966ea30a7\nERROR:root:unsupported text language: bh\nTraceback (most recent call last):\n  File \"/opt/miniconda3/envs/twitter/lib/python3.8/site-packages/ibm_cloud_sdk_core/base_service.py\", line 228, in send\n    raise ApiException(\nibm_cloud_sdk_core.api_exception.ApiException: Error: unsupported text language: bh, Code: 400 , X-global-transaction-id: 5dc994a30bcc0d093860bf03eac84c79\nERROR:root:unsupported text language: sa\nTraceback (most recent call last):\n  File \"/opt/miniconda3/envs/twitter/lib/python3.8/site-packages/ibm_cloud_sdk_core/base_service.py\", line 228, in send\n    raise ApiException(\nibm_cloud_sdk_core.api_exception.ApiException: Error: unsupported text language: sa, Code: 400 , X-global-transaction-id: 9279fbca2f7679263dd0d6e7bcc26070\nERROR:root:cannot locate keyphrase\nTraceback (most recent call last):\n  File \"/opt/miniconda3/envs/twitter/lib/python3.8/site-packages/ibm_cloud_sdk_core/base_service.py\", line 228, in send\n    raise ApiException(\nibm_cloud_sdk_core.api_exception.ApiException: Error: cannot locate keyphrase, Code: 400 , X-global-transaction-id: 11eedeb4f311d2b871c91cab1060748a\nERROR:root:unsupported text language: hi\nTraceback (most recent call last):\n  File \"/opt/miniconda3/envs/twitter/lib/python3.8/site-packages/ibm_cloud_sdk_core/base_service.py\", line 228, in send\n    raise ApiException(\nibm_cloud_sdk_core.api_exception.ApiException: Error: unsupported text language: hi, Code: 400 , X-global-transaction-id: e47c2a7d7d90a02866611cfe91c3b320\nAt Index: 380\n"
    }
   ],
   "source": [
    "output = pd.DataFrame()\n",
    "\n",
    "for index, row in df[['tweet', 'link']].iterrows():\n",
    "    if(index % 20 == 0):\n",
    "        print(\"At Index: {}\".format(index))\n",
    "    tweet = row['tweet']\n",
    "    stripped_tweet = clean_tweet(tweet)\n",
    "    try:\n",
    "        result = analyze(stripped_tweet, target='mumbai')\n",
    "        result['link'] = row['link']\n",
    "        output = output.append(result, ignore_index=True)\n",
    "    except:\n",
    "        pass"
   ]
  },
  {
   "cell_type": "code",
   "execution_count": 131,
   "metadata": {},
   "outputs": [],
   "source": [
    "column_names = [\"link\", \"anger\", \"disgust\", \"fear\", \"joy\", \"sadness\"]\n",
    "\n",
    "apple = output.reindex(columns=column_names)"
   ]
  },
  {
   "cell_type": "code",
   "execution_count": 132,
   "metadata": {},
   "outputs": [],
   "source": [
    "apple.to_csv('lol.csv', index=False, encoding='utf-8')"
   ]
  },
  {
   "cell_type": "code",
   "execution_count": 121,
   "metadata": {
    "tags": []
   },
   "outputs": [
    {
     "output_type": "stream",
     "name": "stdout",
     "text": "Mumbai #coronavirus updates.\n17.06.2020\n#MissionBeginAgain\n#Unlock1\n🗣️ 716  Suspected Positive\n🤒 1359 Total positive patients\n☠️ 77 deaths, \n🏃 298 discharged today\n☠️ 3242  deaths in the city since 25.01.2020 \n\nTests till 16 June 2,69,608  pic.twitter.com/fiR9dajD7Q\n['Mumbai #coronavirus updates.', '17.06.2020', '#MissionBeginAgain', '#Unlock1', '🗣️ 716  Suspected Positive', '🤒 1359 Total positive patients', '☠️ 77 deaths, ', '🏃 298 discharged today', '☠️ 3242  deaths in the city since 25.01.2020 ', '', 'Tests till 16 June 2,69,608  pic.twitter.com/fiR9dajD7Q']\nSeeing the current #COVID19India situation and talking abt #unlock2  in #Mumbai is surprising! New cases have not stopped! No other city wld have dreamed to even #Unlock1 in current situation.Mumbai shd have been last in Country to open up! @OfficeofUT @PMOIndia @narendramodi_in\n['Seeing the current #COVID19India situation and talking abt #unlock2  in #Mumbai is surprising! New cases have not stopped! No other city wld have dreamed to even #Unlock1 in current situation.Mumbai shd have been last in Country to open up! @OfficeofUT @PMOIndia @narendramodi_in']\nA map prepared by CSIR-NEERI, Mumbai showing #COVIDー19 cases in India. (17th June 2020)\n\n#coronavirus #MaharashtraFightsCorona #MedicalMaharashtra #MEDD #coronaupdatesindia #UnlockingIndia #Unlock1 #MumbaiFightsCovid19 #StayHomeStaySafeSaveLives #COVID19India #UnlockIndia pic.twitter.com/uRrmiUoiPv\n['A map prepared by CSIR-NEERI, Mumbai showing #COVIDー19 cases in India. (17th June 2020)', '', '#coronavirus #MaharashtraFightsCorona #MedicalMaharashtra #MEDD #coronaupdatesindia #UnlockingIndia #Unlock1 #MumbaiFightsCovid19 #StayHomeStaySafeSaveLives #COVID19India #UnlockIndia pic.twitter.com/uRrmiUoiPv']\n\"I think probably us young people in the office have already contact the virus but are asymptomatic,\" said a friend who has been working out of her research lab since March. #unlock1 #Mumbai\n['\"I think probably us young people in the office have already contact the virus but are asymptomatic,\" said a friend who has been working out of her research lab since March. #unlock1 #Mumbai']\n#MissionBeginAgain\n#Mumbai \nCrowds surge on Day 2 of #Unlock1 should government stagger timings?\nAs Tuesday saw long queues at train stations, experts tell state to consider varied office hours.\n https://m.mid-day.com/amp/articles/mumbai-crowds-surge-on-day-2-of-unlock-10-should-government-stagger-timings/22843292#click= https://t.co/SCAf5otXzv … pic.twitter.com/mZVXDkF6Qj\n['#MissionBeginAgain', '#Mumbai ', 'Crowds surge on Day 2 of #Unlock1 should government stagger timings?', 'As Tuesday saw long queues at train stations, experts tell state to consider varied office hours.', ' https://m.mid-day.com/amp/articles/mumbai-crowds-surge-on-day-2-of-unlock-10-should-government-stagger-timings/22843292#click= https://t.co/SCAf5otXzv\\xa0… pic.twitter.com/mZVXDkF6Qj']\n"
    }
   ],
   "source": [
    "for index, row in df[['tweet', 'link']][:5].iterrows():\n",
    "    tweet = row['tweet']\n",
    "    print(tweet)\n",
    "    print(tweet.split(\"\\n\"))"
   ]
  },
  {
   "cell_type": "code",
   "execution_count": 9,
   "metadata": {
    "tags": []
   },
   "outputs": [
    {
     "output_type": "stream",
     "name": "stdout",
     "text": "At Index: 0\nERROR:root:unsupported text language: bn\nTraceback (most recent call last):\n  File \"/opt/miniconda3/envs/twitter/lib/python3.8/site-packages/ibm_cloud_sdk_core/base_service.py\", line 228, in send\n    raise ApiException(\nibm_cloud_sdk_core.api_exception.ApiException: Error: unsupported text language: bn, Code: 400 , X-global-transaction-id: 12c0e7ed2112a2ebee0645efebbd03f3\nERROR:root:unsupported text language: unknown\nTraceback (most recent call last):\n  File \"/opt/miniconda3/envs/twitter/lib/python3.8/site-packages/ibm_cloud_sdk_core/base_service.py\", line 228, in send\n    raise ApiException(\nibm_cloud_sdk_core.api_exception.ApiException: Error: unsupported text language: unknown, Code: 400 , X-global-transaction-id: 15faefece91730a18cd65a7f30698e20\nERROR:root:cannot locate keyphrase\nTraceback (most recent call last):\n  File \"/opt/miniconda3/envs/twitter/lib/python3.8/site-packages/ibm_cloud_sdk_core/base_service.py\", line 228, in send\n    raise ApiException(\nibm_cloud_sdk_core.api_exception.ApiException: Error: cannot locate keyphrase, Code: 400 , X-global-transaction-id: 7f0c735e4dd6f92d3740c8abbc423bc6\nERROR:root:unsupported text language: unknown\nTraceback (most recent call last):\n  File \"/opt/miniconda3/envs/twitter/lib/python3.8/site-packages/ibm_cloud_sdk_core/base_service.py\", line 228, in send\n    raise ApiException(\nibm_cloud_sdk_core.api_exception.ApiException: Error: unsupported text language: unknown, Code: 400 , X-global-transaction-id: ea842aafcfd2a120778b291d6bc15913\nERROR:root:cannot locate keyphrase\nTraceback (most recent call last):\n  File \"/opt/miniconda3/envs/twitter/lib/python3.8/site-packages/ibm_cloud_sdk_core/base_service.py\", line 228, in send\n    raise ApiException(\nibm_cloud_sdk_core.api_exception.ApiException: Error: cannot locate keyphrase, Code: 400 , X-global-transaction-id: 1e4bf07ddeb3a35e9a1d489592342637\nERROR:root:unsupported text language: unknown\nTraceback (most recent call last):\n  File \"/opt/miniconda3/envs/twitter/lib/python3.8/site-packages/ibm_cloud_sdk_core/base_service.py\", line 228, in send\n    raise ApiException(\nibm_cloud_sdk_core.api_exception.ApiException: Error: unsupported text language: unknown, Code: 400 , X-global-transaction-id: 1fe87c421acf542278542adc34cb6c2f\nAt Index: 20\nERROR:root:unsupported text language: hi\nTraceback (most recent call last):\n  File \"/opt/miniconda3/envs/twitter/lib/python3.8/site-packages/ibm_cloud_sdk_core/base_service.py\", line 228, in send\n    raise ApiException(\nibm_cloud_sdk_core.api_exception.ApiException: Error: unsupported text language: hi, Code: 400 , X-global-transaction-id: 965c72f837c5e09087d59eb6accfc9cf\nERROR:root:cannot locate keyphrase\nTraceback (most recent call last):\n  File \"/opt/miniconda3/envs/twitter/lib/python3.8/site-packages/ibm_cloud_sdk_core/base_service.py\", line 228, in send\n    raise ApiException(\nibm_cloud_sdk_core.api_exception.ApiException: Error: cannot locate keyphrase, Code: 400 , X-global-transaction-id: 6b8fb68717641fae9521a32307f9e023\nERROR:root:cannot locate keyphrase\nTraceback (most recent call last):\n  File \"/opt/miniconda3/envs/twitter/lib/python3.8/site-packages/ibm_cloud_sdk_core/base_service.py\", line 228, in send\n    raise ApiException(\nibm_cloud_sdk_core.api_exception.ApiException: Error: cannot locate keyphrase, Code: 400 , X-global-transaction-id: e9ebc8b8bcd61e6b44fe2979eabc803f\nERROR:root:cannot locate keyphrase\nTraceback (most recent call last):\n  File \"/opt/miniconda3/envs/twitter/lib/python3.8/site-packages/ibm_cloud_sdk_core/base_service.py\", line 228, in send\n    raise ApiException(\nibm_cloud_sdk_core.api_exception.ApiException: Error: cannot locate keyphrase, Code: 400 , X-global-transaction-id: 10f73840a8fdf8d9fd4376fa79ca72e0\nERROR:root:cannot locate keyphrase\nTraceback (most recent call last):\n  File \"/opt/miniconda3/envs/twitter/lib/python3.8/site-packages/ibm_cloud_sdk_core/base_service.py\", line 228, in send\n    raise ApiException(\nibm_cloud_sdk_core.api_exception.ApiException: Error: cannot locate keyphrase, Code: 400 , X-global-transaction-id: e6c8b68f5e72becd105afa60cd2f87b3\nERROR:root:unsupported text language: unknown\nTraceback (most recent call last):\n  File \"/opt/miniconda3/envs/twitter/lib/python3.8/site-packages/ibm_cloud_sdk_core/base_service.py\", line 228, in send\n    raise ApiException(\nibm_cloud_sdk_core.api_exception.ApiException: Error: unsupported text language: unknown, Code: 400 , X-global-transaction-id: 3ce00f883a901bbd9fafa57b4838d9fc\nAt Index: 40\nERROR:root:unsupported text language: unknown\nTraceback (most recent call last):\n  File \"/opt/miniconda3/envs/twitter/lib/python3.8/site-packages/ibm_cloud_sdk_core/base_service.py\", line 228, in send\n    raise ApiException(\nibm_cloud_sdk_core.api_exception.ApiException: Error: unsupported text language: unknown, Code: 400 , X-global-transaction-id: 8945c1cd463653fdce2c90563cca483d\nERROR:root:unsupported text language: unknown\nTraceback (most recent call last):\n  File \"/opt/miniconda3/envs/twitter/lib/python3.8/site-packages/ibm_cloud_sdk_core/base_service.py\", line 228, in send\n    raise ApiException(\nibm_cloud_sdk_core.api_exception.ApiException: Error: unsupported text language: unknown, Code: 400 , X-global-transaction-id: fa93a09381ffd893ea24bfe604ca7e44\nERROR:root:unsupported text language: unknown\nTraceback (most recent call last):\n  File \"/opt/miniconda3/envs/twitter/lib/python3.8/site-packages/ibm_cloud_sdk_core/base_service.py\", line 228, in send\n    raise ApiException(\nibm_cloud_sdk_core.api_exception.ApiException: Error: unsupported text language: unknown, Code: 400 , X-global-transaction-id: 631fc60213ebae694044d1f1bbbdc846\nAt Index: 60\nERROR:root:cannot locate keyphrase\nTraceback (most recent call last):\n  File \"/opt/miniconda3/envs/twitter/lib/python3.8/site-packages/ibm_cloud_sdk_core/base_service.py\", line 228, in send\n    raise ApiException(\nibm_cloud_sdk_core.api_exception.ApiException: Error: cannot locate keyphrase, Code: 400 , X-global-transaction-id: a17fca2eb4411e32ce0a75e1e01a9715\nERROR:root:cannot locate keyphrase\nTraceback (most recent call last):\n  File \"/opt/miniconda3/envs/twitter/lib/python3.8/site-packages/ibm_cloud_sdk_core/base_service.py\", line 228, in send\n    raise ApiException(\nibm_cloud_sdk_core.api_exception.ApiException: Error: cannot locate keyphrase, Code: 400 , X-global-transaction-id: 656e5fdb0ccd7ffbc1f353396cc9eb1f\nERROR:root:cannot locate keyphrase\nTraceback (most recent call last):\n  File \"/opt/miniconda3/envs/twitter/lib/python3.8/site-packages/ibm_cloud_sdk_core/base_service.py\", line 228, in send\n    raise ApiException(\nibm_cloud_sdk_core.api_exception.ApiException: Error: cannot locate keyphrase, Code: 400 , X-global-transaction-id: f517c85919708c8076264f4a46eaf503\nERROR:root:cannot locate keyphrase\nTraceback (most recent call last):\n  File \"/opt/miniconda3/envs/twitter/lib/python3.8/site-packages/ibm_cloud_sdk_core/base_service.py\", line 228, in send\n    raise ApiException(\nibm_cloud_sdk_core.api_exception.ApiException: Error: cannot locate keyphrase, Code: 400 , X-global-transaction-id: a72bdd3b80877ae7ea393767278ce076\nERROR:root:cannot locate keyphrase\nTraceback (most recent call last):\n  File \"/opt/miniconda3/envs/twitter/lib/python3.8/site-packages/ibm_cloud_sdk_core/base_service.py\", line 228, in send\n    raise ApiException(\nibm_cloud_sdk_core.api_exception.ApiException: Error: cannot locate keyphrase, Code: 400 , X-global-transaction-id: bda2f8c8ac50f2e874f44827a2b89258\nERROR:root:unsupported text language: unknown\nTraceback (most recent call last):\n  File \"/opt/miniconda3/envs/twitter/lib/python3.8/site-packages/ibm_cloud_sdk_core/base_service.py\", line 228, in send\n    raise ApiException(\nibm_cloud_sdk_core.api_exception.ApiException: Error: unsupported text language: unknown, Code: 400 , X-global-transaction-id: 68681e32df2ef3d8b0a0792df7575de6\nAt Index: 80\nERROR:root:cannot locate keyphrase\nTraceback (most recent call last):\n  File \"/opt/miniconda3/envs/twitter/lib/python3.8/site-packages/ibm_cloud_sdk_core/base_service.py\", line 228, in send\n    raise ApiException(\nibm_cloud_sdk_core.api_exception.ApiException: Error: cannot locate keyphrase, Code: 400 , X-global-transaction-id: cb82e257bbd872d2be42e58b4451b0ca\nERROR:root:unsupported text language: sr\nTraceback (most recent call last):\n  File \"/opt/miniconda3/envs/twitter/lib/python3.8/site-packages/ibm_cloud_sdk_core/base_service.py\", line 228, in send\n    raise ApiException(\nibm_cloud_sdk_core.api_exception.ApiException: Error: unsupported text language: sr, Code: 400 , X-global-transaction-id: 3150658b4249e5c30d7b9074cf1fc049\nERROR:root:unsupported text language: unknown\nTraceback (most recent call last):\n  File \"/opt/miniconda3/envs/twitter/lib/python3.8/site-packages/ibm_cloud_sdk_core/base_service.py\", line 228, in send\n    raise ApiException(\nibm_cloud_sdk_core.api_exception.ApiException: Error: unsupported text language: unknown, Code: 400 , X-global-transaction-id: a6607ef30121de5423113c52f0a0db53\nERROR:root:unsupported text language: unknown\nTraceback (most recent call last):\n  File \"/opt/miniconda3/envs/twitter/lib/python3.8/site-packages/ibm_cloud_sdk_core/base_service.py\", line 228, in send\n    raise ApiException(\nibm_cloud_sdk_core.api_exception.ApiException: Error: unsupported text language: unknown, Code: 400 , X-global-transaction-id: 6de96178f3bcbca9c85b67e869038905\nAt Index: 100\nERROR:root:unsupported text language: bh\nTraceback (most recent call last):\n  File \"/opt/miniconda3/envs/twitter/lib/python3.8/site-packages/ibm_cloud_sdk_core/base_service.py\", line 228, in send\n    raise ApiException(\nibm_cloud_sdk_core.api_exception.ApiException: Error: unsupported text language: bh, Code: 400 , X-global-transaction-id: 21d0e54543f30517ffaedb9604e39cd3\nERROR:root:unsupported text language: unknown\nTraceback (most recent call last):\n  File \"/opt/miniconda3/envs/twitter/lib/python3.8/site-packages/ibm_cloud_sdk_core/base_service.py\", line 228, in send\n    raise ApiException(\nibm_cloud_sdk_core.api_exception.ApiException: Error: unsupported text language: unknown, Code: 400 , X-global-transaction-id: 52f8c82e8d0fa384410e4f6b72ca9a57\nERROR:root:cannot locate keyphrase\nTraceback (most recent call last):\n  File \"/opt/miniconda3/envs/twitter/lib/python3.8/site-packages/ibm_cloud_sdk_core/base_service.py\", line 228, in send\n    raise ApiException(\nibm_cloud_sdk_core.api_exception.ApiException: Error: cannot locate keyphrase, Code: 400 , X-global-transaction-id: 6105a08ab1ba4d0c9ded2e6013f128c6\nERROR:root:unsupported text language: bn\nTraceback (most recent call last):\n  File \"/opt/miniconda3/envs/twitter/lib/python3.8/site-packages/ibm_cloud_sdk_core/base_service.py\", line 228, in send\n    raise ApiException(\nibm_cloud_sdk_core.api_exception.ApiException: Error: unsupported text language: bn, Code: 400 , X-global-transaction-id: ea60e9461c0d46fbbcc9f76f6f0e9bf3\nERROR:root:unsupported text language: unknown\nTraceback (most recent call last):\n  File \"/opt/miniconda3/envs/twitter/lib/python3.8/site-packages/ibm_cloud_sdk_core/base_service.py\", line 228, in send\n    raise ApiException(\nibm_cloud_sdk_core.api_exception.ApiException: Error: unsupported text language: unknown, Code: 400 , X-global-transaction-id: b3feb0b91fe9b214c9970134b4db8fb5\nAt Index: 120\nERROR:root:unsupported text language: unknown\nTraceback (most recent call last):\n  File \"/opt/miniconda3/envs/twitter/lib/python3.8/site-packages/ibm_cloud_sdk_core/base_service.py\", line 228, in send\n    raise ApiException(\nibm_cloud_sdk_core.api_exception.ApiException: Error: unsupported text language: unknown, Code: 400 , X-global-transaction-id: 87e804cf38fb76b9703910ee15a5975d\nERROR:root:unsupported text language: unknown\nTraceback (most recent call last):\n  File \"/opt/miniconda3/envs/twitter/lib/python3.8/site-packages/ibm_cloud_sdk_core/base_service.py\", line 228, in send\n    raise ApiException(\nibm_cloud_sdk_core.api_exception.ApiException: Error: unsupported text language: unknown, Code: 400 , X-global-transaction-id: 79344d258bab44fe72dc86aff2fd81ea\n"
    }
   ],
   "source": [
    "df = pd.read_csv('/Users/amogh/Documents/Study/twitter/datasets/raw/kolkata_unlock1.csv')\n",
    "\n",
    "output = pd.DataFrame()\n",
    "\n",
    "for index, row in df[['tweet', 'link']].iterrows():\n",
    "    if(index % 20 == 0):\n",
    "        print(\"At Index: {}\".format(index))\n",
    "    tweet = row['tweet']\n",
    "    stripped_tweet = clean_tweet(tweet)\n",
    "    try:\n",
    "        result = analyze(stripped_tweet, target='kolkata')\n",
    "        result['link'] = row['link']\n",
    "        output = output.append(result, ignore_index=True)\n",
    "    except:\n",
    "        pass\n",
    "\n",
    "column_names = [\"link\", \"anger\", \"disgust\", \"fear\", \"joy\", \"sadness\"]\n",
    "\n",
    "apple = output.reindex(columns=column_names)\n",
    "\n",
    "apple.to_csv('kolkata.csv', index=False, encoding='utf-8')"
   ]
  },
  {
   "cell_type": "code",
   "execution_count": null,
   "metadata": {},
   "outputs": [],
   "source": []
  }
 ],
 "metadata": {
  "language_info": {
   "codemirror_mode": {
    "name": "ipython",
    "version": 3
   },
   "file_extension": ".py",
   "mimetype": "text/x-python",
   "name": "python",
   "nbconvert_exporter": "python",
   "pygments_lexer": "ipython3",
   "version": "3.8.3-final"
  },
  "orig_nbformat": 2,
  "kernelspec": {
   "name": "python3",
   "display_name": "Python 3"
  }
 },
 "nbformat": 4,
 "nbformat_minor": 2
}