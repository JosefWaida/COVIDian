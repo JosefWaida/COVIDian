{
 "cells": [
  {
   "cell_type": "code",
   "execution_count": 1,
   "metadata": {},
   "outputs": [],
   "source": [
    "import numpy as np\n",
    "import pandas as pd\n",
    "import pickle\n"
   ]
  },
  {
   "cell_type": "code",
   "execution_count": 2,
   "metadata": {},
   "outputs": [],
   "source": [
    "import matplotlib.pyplot as plt\n",
    "\n",
    "#from wordcloud import WordCloud\n",
    "from nltk.corpus import stopwords\n",
    "stop = set(stopwords.words('english'))"
   ]
  },
  {
   "cell_type": "code",
   "execution_count": 2,
   "metadata": {},
   "outputs": [],
   "source": [
    "train = pd.read_csv(r'C:\\Users\\Shibbs\\Desktop\\Projects\\Sentiment analysis\\My dataset\\Training\\training_dataset.csv')"
   ]
  },
  {
   "cell_type": "code",
   "execution_count": 3,
   "metadata": {},
   "outputs": [
    {
     "data": {
      "text/plain": [
       "neutral      1194\n",
       "worry        1187\n",
       "sadness      1134\n",
       "angry        1133\n",
       "happiness    1121\n",
       "Name: sentiment, dtype: int64"
      ]
     },
     "execution_count": 3,
     "metadata": {},
     "output_type": "execute_result"
    }
   ],
   "source": [
    "train['sentiment'].value_counts()"
   ]
  },
  {
   "cell_type": "code",
   "execution_count": 4,
   "metadata": {},
   "outputs": [
    {
     "data": {
      "text/html": [
       "<div>\n",
       "<style scoped>\n",
       "    .dataframe tbody tr th:only-of-type {\n",
       "        vertical-align: middle;\n",
       "    }\n",
       "\n",
       "    .dataframe tbody tr th {\n",
       "        vertical-align: top;\n",
       "    }\n",
       "\n",
       "    .dataframe thead th {\n",
       "        text-align: right;\n",
       "    }\n",
       "</style>\n",
       "<table border=\"1\" class=\"dataframe\">\n",
       "  <thead>\n",
       "    <tr style=\"text-align: right;\">\n",
       "      <th></th>\n",
       "      <th>Unnamed: 0</th>\n",
       "      <th>level_0</th>\n",
       "      <th>text</th>\n",
       "      <th>sentiment</th>\n",
       "    </tr>\n",
       "  </thead>\n",
       "  <tbody>\n",
       "    <tr>\n",
       "      <th>0</th>\n",
       "      <td>0</td>\n",
       "      <td>0</td>\n",
       "      <td>charlene my love i miss you</td>\n",
       "      <td>sadness</td>\n",
       "    </tr>\n",
       "    <tr>\n",
       "      <th>1</th>\n",
       "      <td>1</td>\n",
       "      <td>1</td>\n",
       "      <td>the storm is here and the electricity is gone</td>\n",
       "      <td>sadness</td>\n",
       "    </tr>\n",
       "    <tr>\n",
       "      <th>2</th>\n",
       "      <td>2</td>\n",
       "      <td>2</td>\n",
       "      <td>so tired and i think im definitely going to ge...</td>\n",
       "      <td>sadness</td>\n",
       "    </tr>\n",
       "    <tr>\n",
       "      <th>3</th>\n",
       "      <td>3</td>\n",
       "      <td>3</td>\n",
       "      <td>on my way home n having  deal w underage girls...</td>\n",
       "      <td>worry</td>\n",
       "    </tr>\n",
       "    <tr>\n",
       "      <th>4</th>\n",
       "      <td>4</td>\n",
       "      <td>4</td>\n",
       "      <td>im sorry people are so rude to you isaac they ...</td>\n",
       "      <td>sadness</td>\n",
       "    </tr>\n",
       "    <tr>\n",
       "      <th>...</th>\n",
       "      <td>...</td>\n",
       "      <td>...</td>\n",
       "      <td>...</td>\n",
       "      <td>...</td>\n",
       "    </tr>\n",
       "    <tr>\n",
       "      <th>5764</th>\n",
       "      <td>5764</td>\n",
       "      <td>5765</td>\n",
       "      <td>youre not irritating booooooooo love you   omg...</td>\n",
       "      <td>angry</td>\n",
       "    </tr>\n",
       "    <tr>\n",
       "      <th>5765</th>\n",
       "      <td>5765</td>\n",
       "      <td>5766</td>\n",
       "      <td>controversy they causedyes we all know to expe...</td>\n",
       "      <td>angry</td>\n",
       "    </tr>\n",
       "    <tr>\n",
       "      <th>5766</th>\n",
       "      <td>5766</td>\n",
       "      <td>5767</td>\n",
       "      <td>thats so irritating  i wish people cared about...</td>\n",
       "      <td>angry</td>\n",
       "    </tr>\n",
       "    <tr>\n",
       "      <th>5767</th>\n",
       "      <td>5767</td>\n",
       "      <td>5768</td>\n",
       "      <td>ricky sharma tweeted  g aapne besharmi ki saar...</td>\n",
       "      <td>angry</td>\n",
       "    </tr>\n",
       "    <tr>\n",
       "      <th>5768</th>\n",
       "      <td>5768</td>\n",
       "      <td>5769</td>\n",
       "      <td>u know what i hate indie alternative whatever ...</td>\n",
       "      <td>angry</td>\n",
       "    </tr>\n",
       "  </tbody>\n",
       "</table>\n",
       "<p>5769 rows × 4 columns</p>\n",
       "</div>"
      ],
      "text/plain": [
       "      Unnamed: 0  level_0                                               text  \\\n",
       "0              0        0                        charlene my love i miss you   \n",
       "1              1        1      the storm is here and the electricity is gone   \n",
       "2              2        2  so tired and i think im definitely going to ge...   \n",
       "3              3        3  on my way home n having  deal w underage girls...   \n",
       "4              4        4  im sorry people are so rude to you isaac they ...   \n",
       "...          ...      ...                                                ...   \n",
       "5764        5764     5765  youre not irritating booooooooo love you   omg...   \n",
       "5765        5765     5766  controversy they causedyes we all know to expe...   \n",
       "5766        5766     5767  thats so irritating  i wish people cared about...   \n",
       "5767        5767     5768  ricky sharma tweeted  g aapne besharmi ki saar...   \n",
       "5768        5768     5769  u know what i hate indie alternative whatever ...   \n",
       "\n",
       "     sentiment  \n",
       "0      sadness  \n",
       "1      sadness  \n",
       "2      sadness  \n",
       "3        worry  \n",
       "4      sadness  \n",
       "...        ...  \n",
       "5764     angry  \n",
       "5765     angry  \n",
       "5766     angry  \n",
       "5767     angry  \n",
       "5768     angry  \n",
       "\n",
       "[5769 rows x 4 columns]"
      ]
     },
     "execution_count": 4,
     "metadata": {},
     "output_type": "execute_result"
    }
   ],
   "source": [
    "train.loc[:]"
   ]
  },
  {
   "cell_type": "code",
   "execution_count": 6,
   "metadata": {},
   "outputs": [],
   "source": [
    "train.to_csv('5emotions_final_processed_v2.csv')"
   ]
  },
  {
   "cell_type": "code",
   "execution_count": 5,
   "metadata": {},
   "outputs": [
    {
     "name": "stdout",
     "output_type": "stream",
     "text": [
      "GloVe data loaded\n"
     ]
    }
   ],
   "source": [
    "embeddings_index = {}\n",
    "\n",
    "f = open(r'C:\\Users\\Shibbs\\Desktop\\Projects\\Sentiment analysis\\My dataset\\Embeddings\\glove.twitter.27B.200d.txt', encoding=\"utf8\")\n",
    "\n",
    "for line in f:\n",
    "\n",
    "    values = line.split(' ')\n",
    "    word = values[0] ## The first entry is the word\n",
    "    coefs = np.asarray(values[1:], dtype='float32') ## These are the vecotrs representing the embedding for the word\n",
    "    embeddings_index[word] = coefs\n",
    "f.close()\n",
    "\n",
    "print('GloVe data loaded')"
   ]
  },
  {
   "cell_type": "code",
   "execution_count": 8,
   "metadata": {},
   "outputs": [
    {
     "name": "stdout",
     "output_type": "stream",
     "text": [
      "[['charlene', 'love', 'miss'], ['storm', 'electricity', 'gone'], ['tired', 'think', 'im', 'definitely', 'going', 'get', 'ear', 'infection', 'going', 'bed', 'early'], ['way', 'home', 'n', 'deal', 'w', 'underage', 'girls', 'drinking', 'gin', 'da', 'bus', 'talking', 'bout', 'keggers', 'feel', 'old'], ['im', 'sorry', 'people', 'rude', 'isaac', 'get', 'manners', 'know', 'better', 'lewd']]\n"
     ]
    }
   ],
   "source": [
    "import re\n",
    "train.text=train.text.astype(str)\n",
    "## Iterate over the data to preprocess by removing stopwords\n",
    "lines_without_stopwords=[] \n",
    "for line in train['text'].values: \n",
    "    line = line.lower()\n",
    "    line_by_words = re.findall(r'(?:\\w+)', line, flags = re.UNICODE) # remove punctuation ans split\n",
    "    new_line=[]\n",
    "    for word in line_by_words:\n",
    "        if word not in stop:\n",
    "            new_line.append(word)\n",
    "    lines_without_stopwords.append(new_line)\n",
    "texts = lines_without_stopwords\n",
    "\n",
    "print(texts[0:5])"
   ]
  },
  {
   "cell_type": "code",
   "execution_count": 6,
   "metadata": {},
   "outputs": [
    {
     "name": "stdout",
     "output_type": "stream",
     "text": [
      "[['charlene', 'my', 'love', 'i', 'miss', 'you'], ['the', 'storm', 'is', 'here', 'and', 'the', 'electricity', 'is', 'gone'], ['so', 'tired', 'and', 'i', 'think', 'im', 'definitely', 'going', 'to', 'get', 'an', 'ear', 'infection', 'going', 'to', 'bed', 'early', 'for', 'once'], ['on', 'my', 'way', 'home', 'n', 'having', 'deal', 'w', 'underage', 'girls', 'drinking', 'gin', 'on', 'da', 'bus', 'while', 'talking', 'bout', 'keggers', 'i', 'feel', 'old'], ['im', 'sorry', 'people', 'are', 'so', 'rude', 'to', 'you', 'isaac', 'they', 'should', 'get', 'some', 'manners', 'and', 'know', 'better', 'than', 'to', 'be', 'so', 'lewd']]\n"
     ]
    }
   ],
   "source": [
    "import re\n",
    "train.text=train.text.astype(str)\n",
    "## Iterate over the data to preprocess by removing stopwords\n",
    "new_line=[] \n",
    "for line in train['text'].values: \n",
    "    line = line.lower()\n",
    "    line_by_words = re.findall(r'(?:\\w+)', line, flags = re.UNICODE) # remove punctuation ans split\n",
    "    new_line.append(line_by_words)\n",
    "    \n",
    "texts = new_line\n",
    "\n",
    "print(texts[0:5])"
   ]
  },
  {
   "cell_type": "code",
   "execution_count": 7,
   "metadata": {},
   "outputs": [],
   "source": [
    "with open('list.pkl', 'wb') as f:\n",
    "    pickle.dump(texts, f)"
   ]
  },
  {
   "cell_type": "code",
   "execution_count": 8,
   "metadata": {},
   "outputs": [
    {
     "name": "stderr",
     "output_type": "stream",
     "text": [
      "Using TensorFlow backend.\n"
     ]
    },
    {
     "name": "stdout",
     "output_type": "stream",
     "text": [
      "Found 11594 unique tokens.\n",
      "(5769, 48)\n",
      "(5769, 5)\n"
     ]
    }
   ],
   "source": [
    "from keras.preprocessing.text import Tokenizer\n",
    "from keras.preprocessing.sequence import pad_sequences\n",
    "from keras.utils import to_categorical\n",
    "\n",
    "MAX_NUM_WORDS = 30000\n",
    "MAX_SEQUENCE_LENGTH = len(max(texts))*2\n",
    "tokenizer = Tokenizer(num_words=MAX_NUM_WORDS)\n",
    "\n",
    "tokenizer.fit_on_texts(texts)\n",
    "pickle.dump(tokenizer, open('tokenizer.pickle', 'wb'))\n",
    "sequences = tokenizer.texts_to_sequences(texts)\n",
    "'''pickle.dump(sequences, open('sequences.pickle', 'wb'))'''\n",
    "\n",
    "word_index = tokenizer.word_index\n",
    "print('Found %s unique tokens.' % len(word_index))\n",
    "\n",
    "data = pad_sequences(sequences, maxlen=MAX_SEQUENCE_LENGTH, padding='post', truncating='post')\n",
    "\n",
    "labels = pd.get_dummies(train['sentiment']).values\n",
    "print(data.shape)\n",
    "print(labels.shape)"
   ]
  },
  {
   "cell_type": "code",
   "execution_count": 9,
   "metadata": {},
   "outputs": [],
   "source": [
    "from sklearn.model_selection import train_test_split\n",
    "x_train, x_test, y_train, y_test = train_test_split(data, labels, test_size= 0.20)"
   ]
  },
  {
   "cell_type": "code",
   "execution_count": 10,
   "metadata": {},
   "outputs": [],
   "source": [
    "from keras.layers import Embedding\n",
    "from keras.initializers import Constant\n",
    "\n",
    "## EMBEDDING_DIM =  ## seems to need to match the embeddings_index dimension\n",
    "EMBEDDING_DIM = embeddings_index.get('a').shape[0]\n",
    "num_words = min(MAX_NUM_WORDS, len(word_index)) + 1\n",
    "embedding_matrix = np.zeros((num_words, EMBEDDING_DIM))\n",
    "for word, i in word_index.items():\n",
    "    if i > num_words:\n",
    "        continue\n",
    "    embedding_vector = embeddings_index.get(word) ## This references the loaded embeddings dictionary\n",
    "    if embedding_vector is not None:\n",
    "        # words not found in embedding index will be all-zeros.\n",
    "        embedding_matrix[i] = embedding_vector\n",
    "\n",
    "# load pre-trained word embeddings into an Embedding layer\n",
    "# note that we set trainable = False so as to keep the embeddings fixed\n",
    "embedding_layer = Embedding(num_words,\n",
    "                            EMBEDDING_DIM,\n",
    "                            embeddings_initializer=Constant(embedding_matrix),\n",
    "                            input_length=MAX_SEQUENCE_LENGTH,\n",
    "                            trainable=False)"
   ]
  },
  {
   "cell_type": "code",
   "execution_count": 11,
   "metadata": {},
   "outputs": [
    {
     "data": {
      "text/plain": [
       "11594"
      ]
     },
     "execution_count": 11,
     "metadata": {},
     "output_type": "execute_result"
    }
   ],
   "source": [
    "len(word_index)"
   ]
  },
  {
   "cell_type": "code",
   "execution_count": 12,
   "metadata": {},
   "outputs": [
    {
     "name": "stdout",
     "output_type": "stream",
     "text": [
      "Model: \"sequential_1\"\n",
      "_________________________________________________________________\n",
      "Layer (type)                 Output Shape              Param #   \n",
      "=================================================================\n",
      "embedding_2 (Embedding)      (None, 48, 200)           2319000   \n",
      "_________________________________________________________________\n",
      "spatial_dropout1d_1 (Spatial (None, 48, 200)           0         \n",
      "_________________________________________________________________\n",
      "lstm_1 (LSTM)                (None, 48, 64)            67840     \n",
      "_________________________________________________________________\n",
      "conv1d_1 (Conv1D)            (None, 44, 128)           41088     \n",
      "_________________________________________________________________\n",
      "global_max_pooling1d_1 (Glob (None, 128)               0         \n",
      "_________________________________________________________________\n",
      "dense_1 (Dense)              (None, 5)                 645       \n",
      "=================================================================\n",
      "Total params: 2,428,573\n",
      "Trainable params: 109,573\n",
      "Non-trainable params: 2,319,000\n",
      "_________________________________________________________________\n"
     ]
    }
   ],
   "source": [
    "from keras.models import Sequential\n",
    "from keras.layers import Dense, Flatten, LSTM, GRU, Conv1D, MaxPooling1D, Dropout, SpatialDropout1D, Activation, GlobalMaxPooling1D, Bidirectional\n",
    "from tensorflow.keras.callbacks import EarlyStopping\n",
    "from keras.optimizers import Adam\n",
    "add = Adam(lr = 0.001)\n",
    "\n",
    "model = Sequential()\n",
    "model.add(Embedding(num_words, EMBEDDING_DIM, input_length = MAX_SEQUENCE_LENGTH, weights = [embedding_matrix], trainable = False))\n",
    "\n",
    "model.add(SpatialDropout1D(0.4))\n",
    "\n",
    "\n",
    "\n",
    "'''model.add(Dropout(0.5))'''\n",
    "model.add((LSTM(128 , return_sequences = True, dropout = 0.5 , recurrent_dropout = 0.5)))\n",
    "\n",
    "'''model.add(MaxPooling1D(pool_size=2))'''\n",
    "'''model.add(Conv1D(100, 7, activation='relu'))'''\n",
    "'''model.add(GlobalMaxPooling1D())'''\n",
    "'''model.add(Conv1D(100, 5, activation='relu'))\n",
    "model.add(MaxPooling1D(pool_size=2))'''\n",
    "'''\n",
    "\n",
    "model.add(Dense(50,activation = 'relu'))\n",
    "model.add(Dropout(0.5))\n",
    "'''\n",
    "model.add(Conv1D(128, 5, activation='relu'))\n",
    "model.add(GlobalMaxPooling1D())\n",
    "model.add(Dense(5, activation='softmax'))\n",
    "\n",
    "model.compile(loss='binary_crossentropy', optimizer=add, metrics=['accuracy'])\n",
    "\n",
    "model.summary()"
   ]
  },
  {
   "cell_type": "code",
   "execution_count": 13,
   "metadata": {
    "scrolled": true
   },
   "outputs": [
    {
     "name": "stdout",
     "output_type": "stream",
     "text": [
      "Train on 4615 samples, validate on 1154 samples\n",
      "Epoch 1/100\n",
      "4615/4615 [==============================] - 34s 7ms/step - loss: 0.4793 - accuracy: 0.8044 - val_loss: 0.4249 - val_accuracy: 0.8194\n",
      "Epoch 2/100\n",
      "4615/4615 [==============================] - 6s 1ms/step - loss: 0.4200 - accuracy: 0.8233 - val_loss: 0.3853 - val_accuracy: 0.8282\n",
      "Epoch 3/100\n",
      "4615/4615 [==============================] - 6s 1ms/step - loss: 0.3927 - accuracy: 0.8299 - val_loss: 0.3705 - val_accuracy: 0.8326\n",
      "Epoch 4/100\n",
      "4615/4615 [==============================] - 6s 1ms/step - loss: 0.3840 - accuracy: 0.8312 - val_loss: 0.3615 - val_accuracy: 0.8359\n",
      "Epoch 5/100\n",
      "4615/4615 [==============================] - 6s 1ms/step - loss: 0.3744 - accuracy: 0.8335 - val_loss: 0.3477 - val_accuracy: 0.8378\n",
      "Epoch 6/100\n",
      "4615/4615 [==============================] - 6s 1ms/step - loss: 0.3665 - accuracy: 0.8358 - val_loss: 0.3452 - val_accuracy: 0.8393\n",
      "Epoch 7/100\n",
      "4615/4615 [==============================] - 6s 1ms/step - loss: 0.3641 - accuracy: 0.8363 - val_loss: 0.3383 - val_accuracy: 0.8419\n",
      "Epoch 8/100\n",
      "4615/4615 [==============================] - 6s 1ms/step - loss: 0.3621 - accuracy: 0.8365 - val_loss: 0.3356 - val_accuracy: 0.8423\n",
      "Epoch 9/100\n",
      "4615/4615 [==============================] - 6s 1ms/step - loss: 0.3598 - accuracy: 0.8361 - val_loss: 0.3330 - val_accuracy: 0.8438\n",
      "Epoch 10/100\n",
      "4615/4615 [==============================] - 6s 1ms/step - loss: 0.3545 - accuracy: 0.8396 - val_loss: 0.3352 - val_accuracy: 0.8426\n",
      "Epoch 11/100\n",
      "4615/4615 [==============================] - 6s 1ms/step - loss: 0.3559 - accuracy: 0.8379 - val_loss: 0.3321 - val_accuracy: 0.8458\n",
      "Epoch 12/100\n",
      "4615/4615 [==============================] - 6s 1ms/step - loss: 0.3461 - accuracy: 0.8424 - val_loss: 0.3278 - val_accuracy: 0.8461\n",
      "Epoch 13/100\n",
      "4615/4615 [==============================] - 6s 1ms/step - loss: 0.3469 - accuracy: 0.8416 - val_loss: 0.3284 - val_accuracy: 0.8468\n",
      "Epoch 14/100\n",
      "4615/4615 [==============================] - 6s 1ms/step - loss: 0.3462 - accuracy: 0.8405 - val_loss: 0.3293 - val_accuracy: 0.8468\n"
     ]
    },
    {
     "data": {
      "text/plain": [
       "<keras.callbacks.callbacks.History at 0x27f0a062908>"
      ]
     },
     "execution_count": 13,
     "metadata": {},
     "output_type": "execute_result"
    }
   ],
   "source": [
    "epochs = 100\n",
    "batch_size = 128\n",
    "\n",
    "model.fit(x_train, y_train,validation_data=(x_test, y_test), epochs=epochs, batch_size=batch_size,callbacks=[\n",
    "                    EarlyStopping(monitor='val_loss', patience=2, min_delta=0.0001)])"
   ]
  },
  {
   "cell_type": "code",
   "execution_count": 16,
   "metadata": {},
   "outputs": [],
   "source": [
    "with open('model.pickle', 'wb') as file:  \n",
    "    pickle.dump(model, file)"
   ]
  },
  {
   "cell_type": "code",
   "execution_count": 14,
   "metadata": {},
   "outputs": [],
   "source": [
    "data = pad_sequences(tokenizer.texts_to_sequences(['love it so much']),padding = 'post', truncating='post',maxlen=48)\n",
    "score = model.predict([data])"
   ]
  },
  {
   "cell_type": "code",
   "execution_count": 15,
   "metadata": {},
   "outputs": [
    {
     "data": {
      "text/plain": [
       "array([[0.00415167, 0.32623369, 0.16274385, 0.27080914, 0.23606166]],\n",
       "      dtype=float32)"
      ]
     },
     "execution_count": 15,
     "metadata": {},
     "output_type": "execute_result"
    }
   ],
   "source": [
    "score"
   ]
  },
  {
   "cell_type": "code",
   "execution_count": 54,
   "metadata": {},
   "outputs": [
    {
     "data": {
      "text/plain": [
       "array([[172,  80,  99,   0,   0,   0,   0,   0,   0,   0,   0,   0,   0,\n",
       "          0,   0,   0,   0,   0,   0,   0,   0,   0,   0,   0,   0,   0,\n",
       "          0,   0,   0,   0,   0,   0,   0,   0,   0,   0,   0,   0,   0,\n",
       "          0,   0,   0,   0,   0,   0,   0,   0,   0]])"
      ]
     },
     "execution_count": 54,
     "metadata": {},
     "output_type": "execute_result"
    }
   ],
   "source": [
    "data"
   ]
  },
  {
   "cell_type": "code",
   "execution_count": 101,
   "metadata": {},
   "outputs": [],
   "source": [
    "def prediction(dataframe):\n",
    "    \n",
    "    list1 = []\n",
    "    list2 = []\n",
    "    preds = []\n",
    "    list3 = []\n",
    "    \n",
    "    dataframe.tweet = dataframe.tweet.astype(str)\n",
    "    for index,row in dataframe.iterrows():\n",
    "        desc = row['tweet']\n",
    "        list1.append(desc)\n",
    "    \n",
    "    '''list2 = pad_sequences(tokenizer.texts_to_sequences([list1]),padding = 'post', truncating='post',maxlen=MAX_SEQUENCE_LENGTH)\n",
    "    score = model.predict([list2])'''\n",
    "        \n",
    "    for i in list1:\n",
    "        \n",
    "        list2 = pad_sequences(tokenizer.texts_to_sequences([i]),padding = 'post', truncating='post',maxlen=MAX_SEQUENCE_LENGTH)\n",
    "        score = model.predict([list2])\n",
    "        preds.append(score)\n",
    "        emotions = np.array(preds)\n",
    "        \n",
    "    for i in range(0, len(emotions)):\n",
    "        if np.argmax(emotions[i][0]) == 0:\n",
    "            list3.append('anger')\n",
    "        elif np.argmax(emotions[i][0]) == 1:\n",
    "            list3.append('happiness')\n",
    "        elif np.argmax(emotions[i][0]) == 2:\n",
    "            list3.append('neutral')\n",
    "        elif np.argmax(emotions[i][0]) == 3:  \n",
    "            list3.append('sadness')\n",
    "        elif np.argmax(emotions[i][0]) == 4:\n",
    "            list3.append('worry')\n",
    "        \n",
    "        \n",
    "    \n",
    "    return list3"
   ]
  },
  {
   "cell_type": "code",
   "execution_count": 102,
   "metadata": {},
   "outputs": [],
   "source": [
    "sentiments = prediction(df0)"
   ]
  },
  {
   "cell_type": "code",
   "execution_count": 103,
   "metadata": {},
   "outputs": [],
   "source": [
    "df0['sentiment'] = sentiments"
   ]
  },
  {
   "cell_type": "code",
   "execution_count": 104,
   "metadata": {},
   "outputs": [
    {
     "data": {
      "text/plain": [
       "neutral      149\n",
       "worry         99\n",
       "sadness       68\n",
       "happiness     41\n",
       "anger          1\n",
       "Name: sentiment, dtype: int64"
      ]
     },
     "execution_count": 104,
     "metadata": {},
     "output_type": "execute_result"
    }
   ],
   "source": [
    "df0['sentiment'].value_counts()"
   ]
  },
  {
   "cell_type": "code",
   "execution_count": 105,
   "metadata": {},
   "outputs": [
    {
     "name": "stdout",
     "output_type": "stream",
     "text": [
      "the city of dreams slowly is coming back to life after a hiatus like never before slowly but surely we shall experience mumbai in all its former characteristic glory here s saluting the patience of the people the true lifeline of mumbai mumbai unlock\n",
      "worry\n"
     ]
    }
   ],
   "source": [
    "index = 11\n",
    "\n",
    "print(df0['tweet'][index])\n",
    "print(df0['sentiment'][index])"
   ]
  },
  {
   "cell_type": "code",
   "execution_count": null,
   "metadata": {},
   "outputs": [],
   "source": []
  },
  {
   "cell_type": "code",
   "execution_count": null,
   "metadata": {},
   "outputs": [],
   "source": []
  },
  {
   "cell_type": "code",
   "execution_count": null,
   "metadata": {},
   "outputs": [],
   "source": []
  },
  {
   "cell_type": "code",
   "execution_count": null,
   "metadata": {},
   "outputs": [],
   "source": []
  },
  {
   "cell_type": "code",
   "execution_count": null,
   "metadata": {},
   "outputs": [],
   "source": []
  },
  {
   "cell_type": "code",
   "execution_count": null,
   "metadata": {},
   "outputs": [],
   "source": []
  },
  {
   "cell_type": "code",
   "execution_count": null,
   "metadata": {},
   "outputs": [],
   "source": []
  },
  {
   "cell_type": "code",
   "execution_count": null,
   "metadata": {},
   "outputs": [],
   "source": []
  },
  {
   "cell_type": "code",
   "execution_count": 337,
   "metadata": {},
   "outputs": [],
   "source": [
    "df0.to_csv(r'C:\\Users\\Shibbs\\Desktop\\Projects\\Sentiment analysis\\My dataset\\glove_bi_lstm7_7.3.csv')"
   ]
  },
  {
   "cell_type": "code",
   "execution_count": 45,
   "metadata": {},
   "outputs": [],
   "source": [
    "model.save('glove_bi_lstm_gpu9_7.0.h5')"
   ]
  },
  {
   "cell_type": "code",
   "execution_count": 46,
   "metadata": {},
   "outputs": [],
   "source": [
    "model.save_weights('weights_glove_bi_lstm_gpu9_7.0.h5')"
   ]
  },
  {
   "cell_type": "code",
   "execution_count": 170,
   "metadata": {},
   "outputs": [],
   "source": [
    "#df1 =  pd.read_csv(r'C:\\Users\\Shibbs\\Desktop\\Projects\\Sentiment analysis\\My dataset\\glove_cnn_lstm2_7.2.csv')"
   ]
  },
  {
   "cell_type": "code",
   "execution_count": 173,
   "metadata": {},
   "outputs": [
    {
     "data": {
      "text/plain": [
       "neutral      189\n",
       "worry         73\n",
       "sadness       52\n",
       "happiness     26\n",
       "joy           18\n",
       "Name: sentiment, dtype: int64"
      ]
     },
     "execution_count": 173,
     "metadata": {},
     "output_type": "execute_result"
    }
   ],
   "source": [
    "df1['sentiment'].value_counts()"
   ]
  },
  {
   "cell_type": "code",
   "execution_count": 172,
   "metadata": {},
   "outputs": [
    {
     "name": "stdout",
     "output_type": "stream",
     "text": [
      "seeing the current covid india situation and talking abt unlock in mumbai is surprising new cases have not stopped no other city wld have dreamed to even unlock in current situation mumbai shd have been last in country to open up\n",
      "a map prepared by csir neeri mumbai showing covid cases in india th june coronavirus maharashtrafightscorona medicalmaharashtra medd coronaupdatesindia unlockingindia unlock mumbaifightscovid stayhomestaysafesavelives covid india unlockindia\n",
      "i feel people from other states are getting back to mumbai after unlock pls ensure to follow protocol so that it doesn t spread again\n",
      "how many covid tests are done on a daily basis in mumbai thane kalyan dombivli ambarnath badlapur vasai virar navi mumbai why is there unlock when there are less number beds hospital facilities covid mumbai udhavthackeray unlock lockdownfailed\n",
      "the city of dreams slowly is coming back to life after a hiatus like never before slowly but surely we shall experience mumbai in all its former characteristic glory here s saluting the patience of the people the true lifeline of mumbai mumbai unlock\n",
      "a map prepared by csir neeri mumbai showing covid cases in maharashtra th june coronavirus maharashtrafightscorona medicalmaharashtra medd coronaupdatesindia unlockingindia unlock mumbaifightscovid stayhomestaysafesavelives covid india unlockindia\n",
      "its amazing how everyone gets away with trash like this cheers mumbai mybmc lockdown unlock unlockingindia mumbai covid india at anglo eastern ship management\n",
      "justin starting june will cater to a total of domestic commercial passenger flight movements which includes departures and arrivals domesticflights unlock mumbai\n",
      "starting june will cater to a total of domestic commercial passenger flight movements which includes departures and arrivals domesticflights unlock mumbai\n",
      "a map prepared by csir neeri mumbai showing covid cases in maharashtra th june parbhanifightscorona coronavirusindia maharashtrafightscorona medicalmaharashtra coronaupdatesindia unlockingindia unlock stayhomestaysafesavelives covid india unlockindia\n",
      "mumbai local starts today e pass to train timings know new rules of travelling livemint epass localtrain mumbai ivyasa covid covid india unlock\n",
      "mumbai local trains start from today for people in essential services mumbai news hindustan times mumbai doctors policeworkers india covid lockdown essential maharashtra unlock indiafightscovid coronaupdatesinindia indiafightscorona\n",
      "mumbailocals mumbai unlock covid india coronavirus realnews westbengal eisamay\n",
      "let s be grateful to the real life heroes who are ensuring that we stay safe from covid our heroes are our coronawarriors togetheragainstcovid swasthabharat healthforall unlock\n",
      "oneplus t photographers of india shutterhubindia shuttersofindia phonephotography india gram incredibleindia picoftheday bloom hopeforthebest indianshutterbugs mumbai mumbaidiaries happiness unlock\n",
      "mumbai best buses to operate on feeder routes unlock mumbai\n",
      "clear do s don ts are needed for indiafightscorona indiafightscovid delhi mumbai pune bengaluru chennai modi chembur covid india thane up coronavirusindia indian maharashtra unlock lockdownfailed gujarat lockdown icmr indiafightscoronavirus\n",
      "once upon a time in mumbai contestalert film movie movies bollywoodmovies bollywood meme contestalert giveaway unlock vyaparappcontest goals l\n",
      "ward wise coronavirus positive cases discharged active cases details highest growth rate of against cases mumbai mumbaifightscovid unlock\n",
      "gulabo sitabo movie review by ibs india business story gulabositabo moviereview mediareport bollywood actor mumbai coronavirus lockdown unlock india pmmodi ottplatform amazonprimevideo amitabhbachchan ayushmannkhurrana juhichaturvedi\n",
      "unseenphotos mumbai the cases are raising day by day after unlock yesterday around k cases which is highest in a single day please do not gather anywhere maintain social distancing wear mask and follow\n",
      "the same sky has different shades everyday so does life shades of sky unlock unlock mumbai mumbailockdown mumbaiunlock maibhisadakchap mobilephotography instamumbai shades shadesofsky sun sunset\n",
      "coronavirus unlock mumbai delhi\n",
      "so we really needed this at this time of crisis retweet mumbailockdown mumbai mumbaipolice lockdownextension unlock unlock mahabharata\n",
      "why is hill population less effected from covid by binny yadav click here to see full article hillpopulationlesseffectedfromcovid india population delhi binnyyadav mosttrendingnews mumbai coronavirus lockdown unlock pmmodi usa china\n",
      "as india reopens under unlock coronavirus infection continue to soar in big cities including delhi mumbai businesses like salons adapt to new normal covid india coronavirus do watch\n",
      "life before and after unlock more people were out on the streets and traffic snarls made a comeback this combination picture shows mumbai s marine drive before and after lockdown\n",
      "unlock has drowned mumbai cm is a big time failure\n",
      "lockdown unlock covid corona delhi mumbai\n",
      "what is homequarantine mumbai delhi lucknow chennai bengaluru indore india rajasthan haryana indians lockdownindia unlock modi mumbaikar pune tamilnadu jaipur kolkata up ahmedabad gujarat maharashtra thane indian chembur navimumbai gurgaon\n",
      "mumbai police at their best socialdistancing unlock queensnecklace marinedrive\n",
      "sakal sakalnews viral sakalmedia news mumbai india marathinews maharashtra unlock china border\n",
      "watch new vlog cricket match at versova beach day via verosva mumbai beach unlock unlockindia unlockingindia lockdownextended\n",
      "glimpses of life before and after unlock via india delhi mumbai marinedrive lockdown unlock unlockindia beforeafter covid coronavirusupdates\n",
      "kaali peeli taxis in mumbai continue to face lockdown blues with minimal bookings even after unlock\n",
      "maharashtra covid mumbai social distancing unlock\n",
      "crispedit sections of the media social media across india have been going overboard with crowds at marinedrive in mumbai instead of looking at the silver linings across the entire zone thedraft unlock covid georgefloyd blacklivesmatter\n",
      "quarantine ward life of gujjus gujjus can be happy anywhere retweet quarantinetimepass unlock unlock gujarat maharashtra lockdown bangalore coimbatore indianairforce karachi katrinakaif mumbairains mumbai sidnaaz upsc voguechallenge missyouyuvi\n",
      "unlock lockdown corona covid mumbai covid covid china\n",
      "if you are missing the toi s print edition in the lockdown click here to read the toi epaper and your city edition mumbaifightscorona unlock cautionyespanicno coronavirusoutbreak\n",
      "anyone who says we have to learn to live with this coronavirus in india needs to check the nos below and we haven t even spoken abt the elderly malnourished so how many are we willing to let die indiafightscorona stayhome mumbai unlock lockdown delhi\n",
      "in maharashtra new cases were found in hours with deaths the highest figure tweet twitter vitorr india mumbai coronavirus covid unlock news onlinemarketing share follow\n",
      "mumbai mein public aise ghoom rahi hai jaise inlogo ne gharpe hi vaccine bana liya ho unlock\n",
      "after unlock in a day cases in ghatkopar mumbai stayhomestaysafe unlockchallenge\n",
      "it s pathetic state of affairs mumbai maharashtra unlock\n",
      "mumbai the city never stops sleeps corona i like and respect your spirit mumbai but i am not here to see your stupid stunt stay home indiafightscorona covid stayhome staysafe mumbaitraffic coronavirus unlock\n",
      "follow for more memes do like comment spreadit covid coronavirusmeme coronavrus corona coronavirus coronamemes covid pandemic mumbai marinedrive maharashtra maharashtrianmemes marathimemes mumbaimemes mumbaikar unlock\n",
      "unlock india unlock unlockindia unlock india lockdown jatraa covid pandemic mumbai maharashtra corona coronavirus\n",
      "life before and after unlock more people were out on the streets and traffic snarls made a comeback this combination picture shows mumbai s marine drive before and after lockdown see more\n",
      "why are the cops and government allowing sharing autos to run where is the common sense bansharingautos mumbai covid covid mumbai unlock stayhomestaysafe\n",
      "rakul preet singh goes cycling on mumbai streets addresses fans concern about mask unlock\n",
      "msmes in mumbai apprehensive about opening offices with staff b b msme publicrelations pr b bpr b b msmes mumbai news media spincommunique unlock coronavirus covid wfh\n",
      "inspite having a large number of covid cases hundreds of mumbaikars flocked to marine drive as soon as the government announced unlock india spirit of mumbai or stupidity lockdownend unlock failedlockdown mumbai covid india\n",
      "anonymous break the silence covid india covid fleets fleetsfeedback fleet fleeting goodmorning johnnydepp mumbai mondaythoughts neetpostpone onlyfans quotes rock shopian shehnaazgill twitterfleets unlock uttarpradesh vocalforlocal wednesdaymorning\n",
      "future kid s homework children competition wednesdaymorning twitterfleets unlock onlyfans facebook flowers carryminati nature mumbai voguechallenge blackpinkiscoming jo with fleets indianarmy fleeting wednesdaymotivation\n",
      "unlock migrants returning to mumbai\n",
      "unlock goes out cycling on the streets of mumbai rakulpreetsingh\n",
      "traffic on western express highway going towards bandra mumbai unlock\n",
      "bus crowds push maharashtra govt into reviewing its unlock move mumbai news times of india unlock\n",
      "couldn t resist in sharing this forward unlock mumbaikars mumbai backtowork\n",
      "unlock be careful and extra cautious lockdown unlock staysafe becareful helpanimals navi mumbai new mumbai india\n",
      "they should have unlock at all with highest deaths and infections guess we have some visionaries in these state governments mumbai bmc is now allowing shops to be open all throughout the day as per pre covid timings super we thought out clap clap clap\n",
      "kya mast plan hay re baba covid coronavirus covid india unlock tuesdayvibes wednesdaymorning india indiafightscoronavirus memes mumbai memesdaily memes arnabgoswami indianews indiatoday covid wednesdayvibes tuesdayvibes lockdownfailed\n",
      "don t be so badshah guys stay safe coronavirus unlock shahrukhkhan shahrukhkhanfan covid memesdaily bjp mumbai delhi narendermodi lockdownextension coronawarriors vaccine newshot shahrukh asksrk\n",
      "best bus mumbai unlock lockdown covid mt depot buses operating on route ltd for higher frequency buses parked on mg road waiting for departure ltd at borivali stn safety livery bus from w operating on ltd cc\n",
      "covid coronaupdates mumbai maharashtrafightscorona wuhanflu chinesevirus bollywood uddhavthackeray unlock negative justiceforstudents modiwonchinirahulfail\n",
      "friend kya hoga mumbai ka after unlock me\n",
      "mumbai heavy traffic at jogeshwari west near jvlr fly over unlock\n",
      "unlock top rule please wear face mask our humble request is go out only if absolutely necessary wassupmumbai unlock\n",
      "humanityfirst convid unlock saveself mumbai dosto me app sabhi se ek baat kehna chahta hu ki sarkar ha but a safal hai police ha lachar ha doctors ha insaniyat nhi hospitals ha usse koi madat nhi hum aam insan ha hume kisi bhi tarah jiveet rehne ke bare me sochna ha bas\n",
      "calm and serene unlock mumbai juhu beach\n",
      "as mumbai eases its lockdown in unlock the super fit takes a walk around juhu to stay healthy anilkapoor juhu workout fitness exercise health healthylifestyle goals walk stayhome lockdown bollywood movietalkies tuesdayvibes tuesdaymotivation\n",
      "unlock mumbai tweaks norms lets shops remain open for full working hours pathakkalpana reports coronavirusoutbreak\n",
      "what happened to this drug any report anyone can confirm mumbai covid india indianarmy unlock coronawarriors coronavirus\n",
      "social distancing out coronavirus in with no proper procedure mumbai is bound to face huge challenges amid unlock dark days ahead\n",
      "social distancing being strictly followed by people kolkata mumbai socialdistancing coronavirus unlock tmc speakupdelhi\n",
      "bmc has revised its unlock guidlines as per the new guidelines shops in mumbai will be allowed to stay open for the full working hours for six days in a week however shops will remain closed on sundays follow live updates on covid\n",
      "unlock mumbai beach lokhandwala infinty mall mumbai stree via unlock\n",
      "unlock bmc issues new guidelines for mumbai allows shops to open with left right lane rule via mumbai unlock bmc\n",
      "it s time to unlock experience the joy of biking try something new feel alive start cycling be the change you want to see unlock unlockfirefox unlocklectro bikelife powai powaipedals mumbai pedaltoplaces immunebooster fitnessjourney postlockdownlife ebikes at powai lake promenade\n",
      "my friend gautam sends this pic of gurukripa sion central mumbai best known for their samosas and chole guess mumbai has decided to go all out social distancing what s that unlock\n",
      "if such is the level of negligence at home minister home ground nagpur the overall preparedness for covid in the state especially mumbai post the unlock is highly questionable what action is the mh govt going to take\n",
      "bombay was famous for its orderly queue for public transport best buses taxis autos traffic discipline well bombay has changed mumbai isnt the same mumbai needs to rediscover itself unlock mumbai mumbairains missionbeginagain\n",
      "actress shared a pic of her with her daughter wearing ppe kits and face shields as the duo travelled to mumbai kamyapunjabi covid unlock\n",
      "creators and influencers especially please take a moment to read if possible mumbai stayhomestaysafe unlock\n",
      "unlock just a bad decission we could have waited for another weeks coronavirus covid india mumbai\n",
      "and here we enter into bhagwan bharose coronavirus covid india mumbai unlock\n",
      "some more visuals from the site where phase of the covid hospital for critical patients is being constructed at bkc mumbai by the coronavirus restartingindia unlock\n",
      "this is aamchi mumbai ram bharose andher nagri chaupat raja virar phulpada am line for best bus unlock mumbai\n",
      "morning motivation unlock mumbai morningthoughts riseandshine\n",
      "this how people going to work in mumbai mumbaitraffic unlock\n",
      "covid india mumbai unlock coronavirus lockdown indiafightscorona yeh hai mumbai meri jaan\n",
      "as we all know of offices are open in mumbai so mumbaikar mumbai stay safe and stay fit coronaupdate coronaoutbreak unlock\n",
      "mumbai daily unlocked but roseringedparakeets parrots socialdistancing bandraeast mumbai india unlock\n",
      "comparision of deltacorp casino company of india with mgm date unlock lasvegas vs goa bigbulls warrenbuffett of bharat rj iqbalmenon worli ceejay house mumbai hft colocation of servers india\n",
      "socaildistancing unlock in india mumbai indiafightscoronavirus\n",
      "mumbai mission infecting again st of unlock and it was crowded everywhere follow gvmnt guidelines please watch the news on unlock mumbai\n",
      "covid cases in mumbai near mark death toll touches covid india coronavirusoutbreak covid unlock\n",
      "with this kind of dedication we will surely defeat corona in mumbai strict rules and actions required in unlock too to flatten the curve\n",
      "how to apply for e pass to move from gujarat to mumbai via road during unlock unlock\n",
      "as recd on whatsapp claimed to be of mumbai unlock day unlock unlock\n",
      "stepped out of the house after days for a quick walk to the beach and i was greeted with this beauty stood there in awe and watched the sunset hope is all we have hang in there unlock mumbai thememoryalbum photography photographer\n",
      "unlock ghazal by nidafazli ji sung by alhadkashikar ji from our album nida between the lines subscribe unlock mumbai monsoon lockdown\n",
      "they do say mumbai spirit is infectious marinedrive unlock coronavirus\n",
      "coming up at pm inside saravana bhavan in chennai forum mall in bengaluru dadar market in mumbai and select city mall in delhi we bring you special reports on how day one of unlock panned out\n",
      "rise and shine covid india maharashtra mumbai lockdownfailed godsaveusall godblessall unlock\n",
      "wah just see the clamour of ppl who are dying to get into coronaexpress did someone mention socialdistancing mumbai bestcm unlock bhagwanbharose\n",
      "mumbai people are unlocking really well unlock lockdown covid india coronavirus\n",
      "waah ji waaah unlock ka day in mumbai kya adbhut tareeke se socialdistancing ka paalan ho raha hai ab pata chala mumbai me sabse jyada cases kyon hain ab kuch log yahan bhi worldbestcm ka raag alaapne aayenge ground reality ko ignore karenge\n",
      "best unlock bestbus mumbai\n",
      "mumbai day of unlock happy days are here again\n",
      "bringing back the good old days mumbai unlock days mumbaifightscovid\n",
      "very sad news sir lockdown didn t worked as expected sir mumbai is leading lockdownfailed covid india and now there is unlock unlock\n",
      "t income tax update mumbai itat l has issued a circular explaining modalities of functioning of virtual smc courts from th june to th june itat mumbai incometax tax update taxinbrief unlock\n",
      "mumbai unlock traffic\n",
      "i think it is logical to ban the entry on such public places as i don t think mumbai is ready for such freedom still pls do something else we are staring at a really high numbers missionbeginagain unlock maharashtra\n",
      "aur aap abhi filhal aapke farm house par na jao mahine jane dijiye kyu ki corona abhi bhi bahar faila hua hai bhalehi aaj se unlock start hua ho aap apna khayal rakhiye aur hum mumbai maharashtra k logo ko sabse jyada dhyan rakhna hai take care be safe love u\n",
      "mumbai is almost back on its feet unlock covid\n",
      "longqueues at bus stop for with average waiting time of two hours before one can get in a bus most buses plying full don t stop as only one passenger per seat and five standing to maintain social distancing unlock\n",
      "the new normal is just like the old one sharing as received authenticity is still a question mumbai mumbaicorona schoolreopening newnormal unlock unlock covid coronavirus\n",
      "specially in delhi maharashtra mumbai n densely spread states unlock kejriwal unlock schoolreopening covid india coronavirusindia\n",
      "best mumbai unlock covid\n",
      "this is mumbai social distancing is a joke unlock unlock mumbai\n",
      "taking a day break from twitter as it is becoming a little toxic thanks to abuses on my dms from peacefools will be back with p of my thread also got loads of work to do now that we are in unlock mode in mumbai\n",
      "instead of sharing videos and criticizing your city try to support and educate people baki toh you can leave upto this phase of bhagwan bharose mumbai unlock missionbeginagain\n",
      "why did we have lockdown only to see this so well managed unlock unlock mumbai lockdownfailed\n",
      "unlock corona case delhi mumbai unlock uddhavthackeray arvindkejriwal\n",
      "mumbai has highest number of corona cases and people want to stay fit by crowding not mainting social distancing and then blame government for increase in corona cases what surprises me is most of them are senior citizens marinedrive mumbai covid unlock\n",
      "read best mumbai unlock\n",
      "unlock unlock mondaythoughts coronavirus mumbai india\n",
      "mumbai day unlock\n",
      "mumbai s coronavirus cases have surpassed but the first day of unlock has already seen heavy traffic on western express highway office going people have little choice but those at marine drive can save their fitness goals for another day\n",
      "corona drive crowd at marine drive in unlock is proof we are not taking covid seriously read more about it on paperboyapp download now unlock unlock covid coronavirusindia mumbai marinedrive india bombay paperboy paperboyapp awarnessredefined\n",
      "unlock mumbai covid coronavirus indiafightscoronavirus unlock everyone is exposed\n",
      "crowd at marine drive on sunday crowd today to get inside the bus with limited transport the st day itself led to chaos i don t know what will happen in next few days missionbeginagain unlock mumbai thane\n",
      "throwback traditionalwear photoshoot mondaythoughts mondaymotivation unlock fashionworld fashionista model beauty beautyqueens beautyblogger thane mumbai mumbaifashion desigirl\n",
      "unlock mumbai best buses watch full story mumbai bestbuses\n",
      "what did you do in days of lockdown if this is the arrangement of unlock new cases will rise exponentially we will have to again lockdown mumbai for months\n",
      "government has started the economy but citizens aren t realizing that social distancing should be followed otherwise living with corona are just words which will be spoken until unless there is some vaccine or a medicine covid india mumbai socialdistancing unlock\n",
      "the new normal mumbai monday mondayblues mondaymotivation unlock india birds gopro at taj mahal palace tower\n",
      "mumbai on work mode unlock covid india\n",
      "is our mumbai safe the real mumbai start no social distance no mask on face god bless best driver and conductor god bless corporate security mumbailockdown mumbaitraffic bestbus cmomaharashtra udhavthackeray adityathackeray pmmodi pmofindia bmc unlock\n"
     ]
    }
   ],
   "source": [
    "for index, row in df0.iterrows():\n",
    "    if df0['sentiment'][index] == 'happiness':\n",
    "        print(df0['tweet'][index])\n",
    "        "
   ]
  },
  {
   "cell_type": "code",
   "execution_count": null,
   "metadata": {},
   "outputs": [],
   "source": []
  }
 ],
 "metadata": {
  "kernelspec": {
   "display_name": "Python 3",
   "language": "python",
   "name": "python3"
  },
  "language_info": {
   "codemirror_mode": {
    "name": "ipython",
    "version": 3
   },
   "file_extension": ".py",
   "mimetype": "text/x-python",
   "name": "python",
   "nbconvert_exporter": "python",
   "pygments_lexer": "ipython3",
   "version": "3.7.6"
  }
 },
 "nbformat": 4,
 "nbformat_minor": 4
}
