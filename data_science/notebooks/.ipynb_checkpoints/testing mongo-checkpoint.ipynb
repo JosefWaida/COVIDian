{
 "cells": [
  {
   "cell_type": "code",
   "execution_count": 22,
   "metadata": {},
   "outputs": [],
   "source": [
    "import pymongo\n",
    "import os\n",
    "import csv\n",
    "from dotenv import load_dotenv\n",
    "from tqdm import tqdm"
   ]
  },
  {
   "cell_type": "code",
   "execution_count": 2,
   "metadata": {
    "tags": []
   },
   "outputs": [],
   "source": [
    "load_dotenv()\n",
    "mongo_url = os.environ.get(\"mongo_url\")\n",
    "myclient = pymongo.MongoClient(mongo_url)\n",
    "mydb = myclient[\"twitter\"]\n",
    "mycol = mydb[\"sentiments\"]\n",
    "\n",
    "#mydict = { \"name\": \"John\", \"address\": \"Highway 37\" }\n",
    "#x = mycol.insert_one(mydict)"
   ]
  },
  {
   "cell_type": "code",
   "execution_count": 17,
   "metadata": {},
   "outputs": [
    {
     "data": {
      "text/plain": [
       "<pymongo.results.InsertOneResult at 0x112121b40>"
      ]
     },
     "execution_count": 17,
     "metadata": {},
     "output_type": "execute_result"
    }
   ],
   "source": [
    "mydict = { \"name\": \"Johjkn\", \"address\": \"Highway 37\" }\n",
    "mycol.insert_one(mydict)"
   ]
  },
  {
   "cell_type": "code",
   "execution_count": 20,
   "metadata": {},
   "outputs": [
    {
     "data": {
      "text/plain": [
       "{'_id': ObjectId('5eef8e86aa6b69ac5366fdf9'),\n",
       " 'name': 'Johjkn',\n",
       " 'address': 'Highway 37'}"
      ]
     },
     "execution_count": 20,
     "metadata": {},
     "output_type": "execute_result"
    }
   ],
   "source": [
    "mycol.find_one({\"name\": \"Johjkn\"})"
   ]
  },
  {
   "cell_type": "code",
   "execution_count": 24,
   "metadata": {},
   "outputs": [
    {
     "name": "stderr",
     "output_type": "stream",
     "text": [
      "319it [00:07, 41.81it/s]\n"
     ]
    }
   ],
   "source": [
    "input_file = csv.DictReader(open(\"../datasets/processed/mumbai_all_emotion_data.csv\"))\n",
    "for row in tqdm(input_file):\n",
    "    temp = {'state': 'maharashtra', 'city': 'mumbai'}\n",
    "    temp.update(row)\n",
    "    mycol.insert_one(temp)"
   ]
  },
  {
   "cell_type": "markdown",
   "metadata": {},
   "source": [
    "def Merge(dict1, dict2): \n",
    "    return(dict2.update(dict1)) \n",
    "      \n",
    "dict1 = {'a': 10, 'b': 8} \n",
    "dict2 = {'d': 6, 'c': 4} \n",
    "  \n",
    "print(Merge(dict1, dict2)) \n",
    "print(dict2) "
   ]
  },
  {
   "cell_type": "code",
   "execution_count": 23,
   "metadata": {},
   "outputs": [
    {
     "name": "stderr",
     "output_type": "stream",
     "text": [
      "319it [00:00, 10601.50it/s]"
     ]
    },
    {
     "name": "stdout",
     "output_type": "stream",
     "text": [
      "{'state': 'maharashtra', 'city': 'mumbai', 'link': 'https://twitter.com/mumbaimatterz/status/1273287168379588608', 'anger': '0.073625', 'disgust': '0.036269', 'fear': '0.277498', 'joy': '0.078709', 'sadness': '0.673792'}\n",
      "{'state': 'maharashtra', 'city': 'mumbai', 'link': 'https://twitter.com/yogeshsakh/status/1273255966142795777', 'anger': '0.061298', 'disgust': '0.093881', 'fear': '0.127759', 'joy': '0.289874', 'sadness': '0.247836'}\n",
      "{'state': 'maharashtra', 'city': 'mumbai', 'link': 'https://twitter.com/Maha_MEDD/status/1273206174373089283', 'anger': '0.028663', 'disgust': '0.072313', 'fear': '0.084191', 'joy': '0.099946', 'sadness': '0.224858'}\n",
      "{'state': 'maharashtra', 'city': 'mumbai', 'link': 'https://twitter.com/theprasannata/status/1273196311173427201', 'anger': '0.121082', 'disgust': '0.112676', 'fear': '0.234891', 'joy': '0.139355', 'sadness': '0.567514'}\n",
      "{'state': 'maharashtra', 'city': 'mumbai', 'link': 'https://twitter.com/d_tejal/status/1273162197963886594', 'anger': '0.049405', 'disgust': '0.038421', 'fear': '0.235149', 'joy': '0.334971', 'sadness': '0.456907'}\n",
      "{'state': 'maharashtra', 'city': 'mumbai', 'link': 'https://twitter.com/vinitkumar_p/status/1273150061275426817', 'anger': '0.046069', 'disgust': '0.045439', 'fear': '0.051791', 'joy': '0.102473', 'sadness': '0.374229'}\n",
      "{'state': 'maharashtra', 'city': 'mumbai', 'link': 'https://twitter.com/14_aditi/status/1273003725758447616', 'anger': '0.04923', 'disgust': '0.047827', 'fear': '0.028722', 'joy': '0.301101', 'sadness': '0.07742'}\n",
      "{'state': 'maharashtra', 'city': 'mumbai', 'link': 'https://twitter.com/14_aditi/status/1273002520906887168', 'anger': '0.084285', 'disgust': '0.029279', 'fear': '0.194293', 'joy': '0.086895', 'sadness': '0.2237'}\n",
      "{'state': 'maharashtra', 'city': 'mumbai', 'link': 'https://twitter.com/mumbaimatterz/status/1272928997932797953', 'anger': '0.074982', 'disgust': '0.033199', 'fear': '0.281905', 'joy': '0.047363', 'sadness': '0.642231'}\n",
      "{'state': 'maharashtra', 'city': 'mumbai', 'link': 'https://twitter.com/SocialCentralMS/status/1272887023746064393', 'anger': '0.066214', 'disgust': '0.01508', 'fear': '0.014395', 'joy': '0.273984', 'sadness': '0.664165'}\n",
      "{'state': 'maharashtra', 'city': 'mumbai', 'link': 'https://twitter.com/jakejoss/status/1272885289393020930', 'anger': '0.140249', 'disgust': '0.079838', 'fear': '0.114432', 'joy': '0.238627', 'sadness': '0.218086'}\n",
      "{'state': 'maharashtra', 'city': 'mumbai', 'link': 'https://twitter.com/Maha_MEDD/status/1272796975788785665', 'anger': '0.027942', 'disgust': '0.066991', 'fear': '0.082719', 'joy': '0.098108', 'sadness': '0.223127'}\n",
      "{'state': 'maharashtra', 'city': 'mumbai', 'link': 'https://twitter.com/Maha_MEDD/status/1272780567184945153', 'anger': '0.028663', 'disgust': '0.072313', 'fear': '0.084191', 'joy': '0.099946', 'sadness': '0.224858'}\n",
      "{'state': 'maharashtra', 'city': 'mumbai', 'link': 'https://twitter.com/Sunshiinegal/status/1272774541060653056', 'anger': '0.039624', 'disgust': '0.0491', 'fear': '0.02273', 'joy': '0.311003', 'sadness': '0.401125'}\n",
      "{'state': 'maharashtra', 'city': 'mumbai', 'link': 'https://twitter.com/susanmuchhala/status/1272756157174571008', 'anger': '0.245574', 'disgust': '0.184555', 'fear': '0.052248', 'joy': '0.490072', 'sadness': '0.174527'}\n",
      "{'state': 'maharashtra', 'city': 'mumbai', 'link': 'https://twitter.com/ChaitanyaThor8/status/1272723524445036544', 'anger': '0.332394', 'disgust': '0.17553', 'fear': '0.164377', 'joy': '0.104576', 'sadness': '0.450167'}\n",
      "{'state': 'maharashtra', 'city': 'mumbai', 'link': 'https://twitter.com/BulletinHours/status/1272602618854903808', 'anger': '0.187861', 'disgust': '0.344039', 'fear': '0.114547', 'joy': '0.219433', 'sadness': '0.301447'}\n",
      "{'state': 'maharashtra', 'city': 'mumbai', 'link': 'https://twitter.com/NewsParho/status/1272600252651057153', 'anger': '0.090169', 'disgust': '0.050718', 'fear': '0.167692', 'joy': '0.069646', 'sadness': '0.090876'}\n",
      "{'state': 'maharashtra', 'city': 'mumbai', 'link': 'https://twitter.com/IBS_MediaNews/status/1272580126203473921', 'anger': '0.152117', 'disgust': '0.182348', 'fear': '0.140402', 'joy': '0.052234', 'sadness': '0.216584'}\n",
      "{'state': 'maharashtra', 'city': 'mumbai', 'link': 'https://twitter.com/mumbaimatterz/status/1272566418467246086', 'anger': '0.073625', 'disgust': '0.036269', 'fear': '0.277498', 'joy': '0.078709', 'sadness': '0.673792'}\n",
      "{'state': 'maharashtra', 'city': 'mumbai', 'link': 'https://twitter.com/payaltalk/status/1272541440321568768', 'anger': '0.129748', 'disgust': '0.058585', 'fear': '0.06535', 'joy': '0.149145', 'sadness': '0.134679'}\n",
      "{'state': 'maharashtra', 'city': 'mumbai', 'link': 'https://twitter.com/JayKhuthia/status/1272531230513262592', 'anger': '0.44932', 'disgust': '0.046864', 'fear': '0.304135', 'joy': '0.048427', 'sadness': '0.240763'}\n",
      "{'state': 'maharashtra', 'city': 'mumbai', 'link': 'https://twitter.com/anandaditya/status/1272507950741905408', 'anger': '0.037223', 'disgust': '0.192289', 'fear': '0.052556', 'joy': '0.056545', 'sadness': '0.064214'}\n",
      "{'state': 'maharashtra', 'city': 'mumbai', 'link': 'https://twitter.com/anandaditya/status/1272507720122249217', 'anger': '0.036147', 'disgust': '0.168824', 'fear': '0.056373', 'joy': '0.055831', 'sadness': '0.055576'}\n",
      "{'state': 'maharashtra', 'city': 'mumbai', 'link': 'https://twitter.com/akshaysatardek3/status/1272502830763515904', 'anger': '0.333456', 'disgust': '0.049266', 'fear': '0.092252', 'joy': '0.029774', 'sadness': '0.432756'}\n",
      "{'state': 'maharashtra', 'city': 'mumbai', 'link': 'https://twitter.com/phimanshi45/status/1272477080161157121', 'anger': '0.032067', 'disgust': '0.139789', 'fear': '0.070279', 'joy': '0.039578', 'sadness': '0.29612'}\n",
      "{'state': 'maharashtra', 'city': 'mumbai', 'link': 'https://twitter.com/ParbhaniInfo/status/1272475509377531904', 'anger': '0.01903', 'disgust': '0.036367', 'fear': '0.036719', 'joy': '0.377804', 'sadness': '0.096522'}\n",
      "{'state': 'maharashtra', 'city': 'mumbai', 'link': 'https://twitter.com/Maha_MEDD/status/1272465150755266560', 'anger': '0.027942', 'disgust': '0.066991', 'fear': '0.082719', 'joy': '0.098108', 'sadness': '0.223127'}\n",
      "{'state': 'maharashtra', 'city': 'mumbai', 'link': 'https://twitter.com/NewsMobileIndia/status/1272455935152156673', 'anger': '0.101822', 'disgust': '0.069061', 'fear': '0.067434', 'joy': '0.091186', 'sadness': '0.335853'}\n",
      "{'state': 'maharashtra', 'city': 'mumbai', 'link': 'https://twitter.com/ivyasaa/status/1272445454861479937', 'anger': '0.051976', 'disgust': '0.035041', 'fear': '0.088416', 'joy': '0.540965', 'sadness': '0.203536'}\n",
      "{'state': 'maharashtra', 'city': 'mumbai', 'link': 'https://twitter.com/newsexpresslive/status/1272436779530874881', 'anger': '0.118194', 'disgust': '0.143965', 'fear': '0.048219', 'joy': '0.295883', 'sadness': '0.391786'}\n",
      "{'state': 'maharashtra', 'city': 'mumbai', 'link': 'https://twitter.com/Maha_MEDD/status/1272435857589297152', 'anger': '0.028663', 'disgust': '0.072313', 'fear': '0.084191', 'joy': '0.099946', 'sadness': '0.224858'}\n",
      "{'state': 'maharashtra', 'city': 'mumbai', 'link': 'https://twitter.com/NEWSinfer/status/1272431069439000579', 'anger': '0.128358', 'disgust': '0.13384', 'fear': '0.129586', 'joy': '0.331332', 'sadness': '0.298934'}\n",
      "{'state': 'maharashtra', 'city': 'mumbai', 'link': 'https://twitter.com/Ei_Samay/status/1272427604310515713', 'anger': '0.129748', 'disgust': '0.058585', 'fear': '0.06535', 'joy': '0.149145', 'sadness': '0.134679'}\n",
      "{'state': 'maharashtra', 'city': 'mumbai', 'link': 'https://twitter.com/dhake_narendra/status/1272422267964751872', 'anger': '0.06468', 'disgust': '0.071116', 'fear': '0.161291', 'joy': '0.071943', 'sadness': '0.765076'}\n",
      "{'state': 'maharashtra', 'city': 'mumbai', 'link': 'https://twitter.com/SawantSanjyot/status/1272397786877693952', 'anger': '0.047488', 'disgust': '0.080096', 'fear': '0.034628', 'joy': '0.067228', 'sadness': '0.100426'}\n",
      "{'state': 'maharashtra', 'city': 'mumbai', 'link': 'https://twitter.com/addymitra/status/1272391819435757568', 'anger': '0.005922', 'disgust': '0.003579', 'fear': '0.002991', 'joy': '0.898621', 'sadness': '0.007993'}\n",
      "{'state': 'maharashtra', 'city': 'mumbai', 'link': 'https://twitter.com/21Kaustubh/status/1272389154135932930', 'anger': '0.02082', 'disgust': '0.020164', 'fear': '0.013711', 'joy': '0.222738', 'sadness': '0.033575'}\n",
      "{'state': 'maharashtra', 'city': 'mumbai', 'link': 'https://twitter.com/21Kaustubh/status/1272388673380610048', 'anger': '0.11159', 'disgust': '0.130659', 'fear': '0.051655', 'joy': '0.052803', 'sadness': '0.03675'}\n",
      "{'state': 'maharashtra', 'city': 'mumbai', 'link': 'https://twitter.com/ndtv/status/1272378372920799232', 'anger': '0.106666', 'disgust': '0.124562', 'fear': '0.162268', 'joy': '0.511263', 'sadness': '0.079005'}\n",
      "{'state': 'maharashtra', 'city': 'mumbai', 'link': 'https://twitter.com/ItvBharat/status/1272210579277484032', 'anger': '0.022377', 'disgust': '0.059812', 'fear': '0.108595', 'joy': '0.091198', 'sadness': '0.166377'}\n",
      "{'state': 'maharashtra', 'city': 'mumbai', 'link': 'https://twitter.com/mumbaimatterz/status/1272198184844976129', 'anger': '0.058877', 'disgust': '0.037606', 'fear': '0.200514', 'joy': '0.072383', 'sadness': '0.730975'}\n",
      "{'state': 'maharashtra', 'city': 'mumbai', 'link': 'https://twitter.com/Maha_MEDD/status/1272073035617415169', 'anger': '0.027942', 'disgust': '0.066991', 'fear': '0.082719', 'joy': '0.098108', 'sadness': '0.223127'}\n",
      "{'state': 'maharashtra', 'city': 'mumbai', 'link': 'https://twitter.com/Maha_MEDD/status/1272072259100749824', 'anger': '0.028663', 'disgust': '0.072313', 'fear': '0.084191', 'joy': '0.099946', 'sadness': '0.224858'}\n",
      "{'state': 'maharashtra', 'city': 'mumbai', 'link': 'https://twitter.com/bluetreelakes/status/1272068335048351744', 'anger': '0.071475', 'disgust': '0.140855', 'fear': '0.052201', 'joy': '0.043033', 'sadness': '0.35487'}\n",
      "{'state': 'maharashtra', 'city': 'mumbai', 'link': 'https://twitter.com/blood_punjabi/status/1272066388731949056', 'anger': '0.332518', 'disgust': '0.12125', 'fear': '0.019497', 'joy': '0.035532', 'sadness': '0.366608'}\n",
      "{'state': 'maharashtra', 'city': 'mumbai', 'link': 'https://twitter.com/TOIMumbai/status/1272053820374183937', 'anger': '0.064881', 'disgust': '0.06011', 'fear': '0.077552', 'joy': '0.192978', 'sadness': '0.164321'}\n",
      "{'state': 'maharashtra', 'city': 'mumbai', 'link': 'https://twitter.com/Thetrueshittys1/status/1272037662589947904', 'anger': '0.038424', 'disgust': '0.019347', 'fear': '0.088755', 'joy': '0.254995', 'sadness': '0.533217'}\n",
      "{'state': 'maharashtra', 'city': 'mumbai', 'link': 'https://twitter.com/rjanardhan/status/1272020337824108545', 'anger': '0.037417', 'disgust': '0.060097', 'fear': '0.03563', 'joy': '0.579594', 'sadness': '0.080791'}\n",
      "{'state': 'maharashtra', 'city': 'mumbai', 'link': 'https://twitter.com/RohitMehtaActor/status/1271862517397102593', 'anger': '0.168855', 'disgust': '0.030666', 'fear': '0.136452', 'joy': '0.157044', 'sadness': '0.530489'}\n",
      "{'state': 'maharashtra', 'city': 'mumbai', 'link': 'https://twitter.com/vinit9489/status/1271844515855261703', 'anger': '0.198007', 'disgust': '0.085939', 'fear': '0.155715', 'joy': '0.050505', 'sadness': '0.649404'}\n",
      "{'state': 'maharashtra', 'city': 'mumbai', 'link': 'https://twitter.com/mumbaimatterz/status/1271823714254897152', 'anger': '0.186699', 'disgust': '0.044646', 'fear': '0.162284', 'joy': '0.091785', 'sadness': '0.69201'}\n",
      "{'state': 'maharashtra', 'city': 'mumbai', 'link': 'https://twitter.com/Arundhativeera/status/1271769176907100160', 'anger': '0.129748', 'disgust': '0.058585', 'fear': '0.06535', 'joy': '0.149145', 'sadness': '0.134679'}\n",
      "{'state': 'maharashtra', 'city': 'mumbai', 'link': 'https://twitter.com/dhirendrasgala/status/1271765923670528001', 'anger': '0.017018', 'disgust': '0.004381', 'fear': '0.021011', 'joy': '0.336403', 'sadness': '0.01487'}\n",
      "{'state': 'maharashtra', 'city': 'mumbai', 'link': 'https://twitter.com/IBS_MediaNews/status/1271751105442017283', 'anger': '0.040804', 'disgust': '0.130795', 'fear': '0.039282', 'joy': '0.486705', 'sadness': '0.12982'}\n",
      "{'state': 'maharashtra', 'city': 'mumbai', 'link': 'https://twitter.com/IBS_MediaNews/status/1271750269097766912', 'anger': '0.105711', 'disgust': '0.492156', 'fear': '0.029762', 'joy': '0.352178', 'sadness': '0.129217'}\n",
      "{'state': 'maharashtra', 'city': 'mumbai', 'link': 'https://twitter.com/Maha_MEDD/status/1271739527405568000', 'anger': '0.027942', 'disgust': '0.066991', 'fear': '0.082719', 'joy': '0.098108', 'sadness': '0.223127'}\n",
      "{'state': 'maharashtra', 'city': 'mumbai', 'link': 'https://twitter.com/veena_developer/status/1271725580510040064', 'anger': '0.060287', 'disgust': '0.081979', 'fear': '0.042893', 'joy': '0.093382', 'sadness': '0.371635'}\n",
      "{'state': 'maharashtra', 'city': 'mumbai', 'link': 'https://twitter.com/Maha_MEDD/status/1271701436120936448', 'anger': '0.028663', 'disgust': '0.072313', 'fear': '0.084191', 'joy': '0.099946', 'sadness': '0.224858'}\n",
      "{'state': 'maharashtra', 'city': 'mumbai', 'link': 'https://twitter.com/amarbutala/status/1271667565807276033', 'anger': '0.043398', 'disgust': '0.024543', 'fear': '0.021281', 'joy': '0.245275', 'sadness': '0.470312'}\n",
      "{'state': 'maharashtra', 'city': 'mumbai', 'link': 'https://twitter.com/LoksattaLive/status/1271660206733185025', 'anger': '0.129748', 'disgust': '0.058585', 'fear': '0.06535', 'joy': '0.149145', 'sadness': '0.134679'}\n",
      "{'state': 'maharashtra', 'city': 'mumbai', 'link': 'https://twitter.com/mataonline/status/1271628720722161665', 'anger': '0.129748', 'disgust': '0.058585', 'fear': '0.06535', 'joy': '0.149145', 'sadness': '0.134679'}\n",
      "{'state': 'maharashtra', 'city': 'mumbai', 'link': 'https://twitter.com/gogesh/status/1271490138695176193', 'anger': '0.013477', 'disgust': '0.041853', 'fear': '0.010689', 'joy': '0.808231', 'sadness': '0.098767'}\n",
      "{'state': 'maharashtra', 'city': 'mumbai', 'link': 'https://twitter.com/mumbaimatterz/status/1271478611980070914', 'anger': '0.186699', 'disgust': '0.044646', 'fear': '0.162284', 'joy': '0.091785', 'sadness': '0.69201'}\n",
      "{'state': 'maharashtra', 'city': 'mumbai', 'link': 'https://twitter.com/narvekar_raj/status/1271467887715405825', 'anger': '0.017164', 'disgust': '0.005154', 'fear': '0.027165', 'joy': '0.769067', 'sadness': '0.125469'}\n",
      "{'state': 'maharashtra', 'city': 'mumbai', 'link': 'https://twitter.com/bhumika_t/status/1271458023941320704', 'anger': '0.280456', 'disgust': '0.053724', 'fear': '0.250259', 'joy': '0.16419', 'sadness': '0.218028'}\n",
      "{'state': 'maharashtra', 'city': 'mumbai', 'link': 'https://twitter.com/Facto_news/status/1271448283882254336', 'anger': '0.189113', 'disgust': '0.17478', 'fear': '0.04921', 'joy': '0.064203', 'sadness': '0.268655'}\n",
      "{'state': 'maharashtra', 'city': 'mumbai', 'link': 'https://twitter.com/Maha_MEDD/status/1271438418631786496', 'anger': '0.027942', 'disgust': '0.066991', 'fear': '0.082719', 'joy': '0.098108', 'sadness': '0.223127'}\n",
      "{'state': 'maharashtra', 'city': 'mumbai', 'link': 'https://twitter.com/GautamGada1/status/1271435604794896386', 'anger': '0.121462', 'disgust': '0.311539', 'fear': '0.365519', 'joy': '0.074224', 'sadness': '0.425143'}\n",
      "{'state': 'maharashtra', 'city': 'mumbai', 'link': 'https://twitter.com/Maha_MEDD/status/1271434799433936896', 'anger': '0.028663', 'disgust': '0.072313', 'fear': '0.084191', 'joy': '0.099946', 'sadness': '0.224858'}\n",
      "{'state': 'maharashtra', 'city': 'mumbai', 'link': 'https://twitter.com/jyotirai29/status/1271410458784706566', 'anger': '0.31251', 'disgust': '0.097391', 'fear': '0.352453', 'joy': '0.042325', 'sadness': '0.147742'}\n",
      "{'state': 'maharashtra', 'city': 'mumbai', 'link': 'https://twitter.com/AsianNewsMakers/status/1271391385719984128', 'anger': '0.051368', 'disgust': '0.015331', 'fear': '0.090954', 'joy': '0.050349', 'sadness': '0.26048'}\n",
      "{'state': 'maharashtra', 'city': 'mumbai', 'link': 'https://twitter.com/ndtv/status/1271388977266745345', 'anger': '0.280438', 'disgust': '0.193397', 'fear': '0.03574', 'joy': '0.111153', 'sadness': '0.115459'}\n",
      "{'state': 'maharashtra', 'city': 'mumbai', 'link': 'https://twitter.com/AdriftRider/status/1271383225227755520', 'anger': '0.309245', 'disgust': '0.156827', 'fear': '0.249935', 'joy': '0.192503', 'sadness': '0.275508'}\n",
      "{'state': 'maharashtra', 'city': 'mumbai', 'link': 'https://twitter.com/anahita_kapoor/status/1271381936783720450', 'anger': '0.007097', 'disgust': '0.002447', 'fear': '0.008424', 'joy': '0.930985', 'sadness': '0.047038'}\n",
      "{'state': 'maharashtra', 'city': 'mumbai', 'link': 'https://twitter.com/larryhert_10/status/1271381490870386688', 'anger': '0.17515', 'disgust': '0.018314', 'fear': '0.045716', 'joy': '0.682674', 'sadness': '0.067875'}\n",
      "{'state': 'maharashtra', 'city': 'mumbai', 'link': 'https://twitter.com/patidarsom/status/1271372077723983874', 'anger': '0.023531', 'disgust': '0.091741', 'fear': '0.07025', 'joy': '0.381063', 'sadness': '0.196304'}\n",
      "{'state': 'maharashtra', 'city': 'mumbai', 'link': 'https://twitter.com/ZEE5News/status/1271361859002626048', 'anger': '0.169616', 'disgust': '0.079705', 'fear': '0.306817', 'joy': '0.390089', 'sadness': '0.172105'}\n",
      "{'state': 'maharashtra', 'city': 'mumbai', 'link': 'https://twitter.com/gujarati_mulgi/status/1271333083317284864', 'anger': '0.06404', 'disgust': '0.139189', 'fear': '0.412956', 'joy': '0.015436', 'sadness': '0.627015'}\n",
      "{'state': 'maharashtra', 'city': 'mumbai', 'link': 'https://twitter.com/bluetreelakes/status/1271314519533342720', 'anger': '0.057819', 'disgust': '0.074584', 'fear': '0.017658', 'joy': '0.053853', 'sadness': '0.55405'}\n",
      "{'state': 'maharashtra', 'city': 'mumbai', 'link': 'https://twitter.com/SumanSaurabh007/status/1271250935465930752', 'anger': '0.203304', 'disgust': '0.235303', 'fear': '0.113405', 'joy': '0.026857', 'sadness': '0.673559'}\n",
      "{'state': 'maharashtra', 'city': 'mumbai', 'link': 'https://twitter.com/RaoMandar/status/1271175167415332865', 'anger': '0.135683', 'disgust': '0.099824', 'fear': '0.272356', 'joy': '0.239291', 'sadness': '0.124736'}\n",
      "{'state': 'maharashtra', 'city': 'mumbai', 'link': 'https://twitter.com/BalBolkhare/status/1271155589888897024', 'anger': '0.391052', 'disgust': '0.222943', 'fear': '0.157706', 'joy': '0.028877', 'sadness': '0.322653'}\n",
      "{'state': 'maharashtra', 'city': 'mumbai', 'link': 'https://twitter.com/mumbaimatterz/status/1271107832792793088', 'anger': '0.163122', 'disgust': '0.053978', 'fear': '0.165727', 'joy': '0.036198', 'sadness': '0.75932'}\n",
      "{'state': 'maharashtra', 'city': 'mumbai', 'link': 'https://twitter.com/sajeshsudhanshu/status/1271091398142377984', 'anger': '0.01697', 'disgust': '0.062072', 'fear': '0.109817', 'joy': '0.676978', 'sadness': '0.153197'}\n",
      "{'state': 'maharashtra', 'city': 'mumbai', 'link': 'https://twitter.com/R_P_Khare/status/1271059394134831104', 'anger': '0.167255', 'disgust': '0.143474', 'fear': '0.264651', 'joy': '0.427129', 'sadness': '0.017798'}\n",
      "{'state': 'maharashtra', 'city': 'mumbai', 'link': 'https://twitter.com/Samruddhak107/status/1271058118814777344', 'anger': '0.066136', 'disgust': '0.054865', 'fear': '0.426128', 'joy': '0.402054', 'sadness': '0.162756'}\n",
      "{'state': 'maharashtra', 'city': 'mumbai', 'link': 'https://twitter.com/TheMahaMTB/status/1271048583479873536', 'anger': '0.249512', 'disgust': '0.099425', 'fear': '0.049525', 'joy': '0.249451', 'sadness': '0.242864'}\n",
      "{'state': 'maharashtra', 'city': 'mumbai', 'link': 'https://twitter.com/Odisha_Tweets/status/1271044024036519936', 'anger': '0.297984', 'disgust': '0.136717', 'fear': '0.035638', 'joy': '0.201581', 'sadness': '0.301834'}\n",
      "{'state': 'maharashtra', 'city': 'mumbai', 'link': 'https://twitter.com/MovieTalkies/status/1271039054683836416', 'anger': '0.126493', 'disgust': '0.02108', 'fear': '0.115377', 'joy': '0.248842', 'sadness': '0.21605'}\n",
      "{'state': 'maharashtra', 'city': 'mumbai', 'link': 'https://twitter.com/krunaljoshii/status/1271036483227377664', 'anger': '0.096937', 'disgust': '0.103768', 'fear': '0.050269', 'joy': '0.04386', 'sadness': '0.344427'}\n",
      "{'state': 'maharashtra', 'city': 'mumbai', 'link': 'https://twitter.com/AnkitMadX/status/1271034504992272384', 'anger': '0.346788', 'disgust': '0.041788', 'fear': '0.255274', 'joy': '0.017112', 'sadness': '0.431609'}\n",
      "{'state': 'maharashtra', 'city': 'mumbai', 'link': 'https://twitter.com/latestly/status/1271027081271369728', 'anger': '0.090482', 'disgust': '0.175638', 'fear': '0.050016', 'joy': '0.157248', 'sadness': '0.516737'}\n",
      "{'state': 'maharashtra', 'city': 'mumbai', 'link': 'https://twitter.com/Maha_MEDD/status/1270994291154997252', 'anger': '0.151631', 'disgust': '0.086156', 'fear': '0.085709', 'joy': '0.085339', 'sadness': '0.222351'}\n",
      "{'state': 'maharashtra', 'city': 'mumbai', 'link': 'https://twitter.com/Maha_MEDD/status/1270988353542840321', 'anger': '0.028663', 'disgust': '0.072313', 'fear': '0.084191', 'joy': '0.099946', 'sadness': '0.224858'}\n",
      "{'state': 'maharashtra', 'city': 'mumbai', 'link': 'https://twitter.com/TheDraftWorld/status/1270986581294215168', 'anger': '0.204597', 'disgust': '0.102101', 'fear': '0.147769', 'joy': '0.13391', 'sadness': '0.530457'}\n",
      "{'state': 'maharashtra', 'city': 'mumbai', 'link': 'https://twitter.com/AlokShukla1929/status/1270979217614729216', 'anger': '0.105807', 'disgust': '0.148921', 'fear': '0.098013', 'joy': '0.158976', 'sadness': '0.254026'}\n",
      "{'state': 'maharashtra', 'city': 'mumbai', 'link': 'https://twitter.com/HydTimes/status/1270977818592194560', 'anger': '0.035443', 'disgust': '0.086276', 'fear': '0.006986', 'joy': '0.82254', 'sadness': '0.042838'}\n",
      "{'state': 'maharashtra', 'city': 'mumbai', 'link': 'https://twitter.com/GautamGada1/status/1270934682943647744', 'anger': '0.05607', 'disgust': '0.064769', 'fear': '0.015847', 'joy': '0.762781', 'sadness': '0.061975'}\n",
      "{'state': 'maharashtra', 'city': 'mumbai', 'link': 'https://twitter.com/rotalks/status/1270928794916798464', 'anger': '0.146914', 'disgust': '0.05544', 'fear': '0.636523', 'joy': '0.212541', 'sadness': '0.048564'}\n",
      "{'state': 'maharashtra', 'city': 'mumbai', 'link': 'https://twitter.com/FoxBat_IND/status/1270789251345584128', 'anger': '0.059946', 'disgust': '0.113185', 'fear': '0.059591', 'joy': '0.098425', 'sadness': '0.736554'}\n",
      "{'state': 'maharashtra', 'city': 'mumbai', 'link': 'https://twitter.com/AnkitSh39191021/status/1270777212174647297', 'anger': '0.037405', 'disgust': '0.055949', 'fear': '0.158242', 'joy': '0.190902', 'sadness': '0.652032'}\n",
      "{'state': 'maharashtra', 'city': 'mumbai', 'link': 'https://twitter.com/ItvBharat/status/1270766884003045376', 'anger': '0.022377', 'disgust': '0.059812', 'fear': '0.108595', 'joy': '0.091198', 'sadness': '0.166377'}\n",
      "{'state': 'maharashtra', 'city': 'mumbai', 'link': 'https://twitter.com/chheda_pravin/status/1270764742286512128', 'anger': '0.129743', 'disgust': '0.058791', 'fear': '0.04208', 'joy': '0.211996', 'sadness': '0.223073'}\n",
      "{'state': 'maharashtra', 'city': 'mumbai', 'link': 'https://twitter.com/mumbaimatterz/status/1270753624998776833', 'anger': '0.163122', 'disgust': '0.053978', 'fear': '0.165727', 'joy': '0.036198', 'sadness': '0.75932'}\n",
      "{'state': 'maharashtra', 'city': 'mumbai', 'link': 'https://twitter.com/PriyaDalal_/status/1270752900927684616', 'anger': '0.499184', 'disgust': '0.385263', 'fear': '0.104634', 'joy': '0.020406', 'sadness': '0.314712'}\n",
      "{'state': 'maharashtra', 'city': 'mumbai', 'link': 'https://twitter.com/TopGearMagIndia/status/1270746373508366336', 'anger': '0.044098', 'disgust': '0.070669', 'fear': '0.022369', 'joy': '0.059689', 'sadness': '0.27141'}\n",
      "{'state': 'maharashtra', 'city': 'mumbai', 'link': 'https://twitter.com/farzi_gyaan/status/1270745276752334856', 'anger': '0.352664', 'disgust': '0.098817', 'fear': '0.150122', 'joy': '0.319042', 'sadness': '0.235858'}\n",
      "{'state': 'maharashtra', 'city': 'mumbai', 'link': 'https://twitter.com/BT_India/status/1270744938800541696', 'anger': '0.124691', 'disgust': '0.015474', 'fear': '0.193187', 'joy': '0.08518', 'sadness': '0.552457'}\n",
      "{'state': 'maharashtra', 'city': 'mumbai', 'link': 'https://twitter.com/postistan/status/1270738467316568064', 'anger': '0.136438', 'disgust': '0.101282', 'fear': '0.10569', 'joy': '0.323082', 'sadness': '0.160873'}\n",
      "{'state': 'maharashtra', 'city': 'mumbai', 'link': 'https://twitter.com/prasadk2k/status/1270728677161132034', 'anger': '0.089559', 'disgust': '0.115617', 'fear': '0.288461', 'joy': '0.021142', 'sadness': '0.725106'}\n",
      "{'state': 'maharashtra', 'city': 'mumbai', 'link': 'https://twitter.com/jatraacomm/status/1270724975868051457', 'anger': '0.088058', 'disgust': '0.087462', 'fear': '0.093992', 'joy': '0.146533', 'sadness': '0.167184'}\n",
      "{'state': 'maharashtra', 'city': 'mumbai', 'link': 'https://twitter.com/BKandhari_Prop/status/1270710238216220676', 'anger': '0.05698', 'disgust': '0.027943', 'fear': '0.006354', 'joy': '0.689899', 'sadness': '0.076535'}\n",
      "{'state': 'maharashtra', 'city': 'mumbai', 'link': 'https://twitter.com/shucoyan/status/1270709772900130822', 'anger': '0.19416', 'disgust': '0.035776', 'fear': '0.179405', 'joy': '0.076913', 'sadness': '0.712583'}\n",
      "{'state': 'maharashtra', 'city': 'mumbai', 'link': 'https://twitter.com/harjotmankoo/status/1270706091601489920', 'anger': '0.157234', 'disgust': '0.133613', 'fear': '0.174739', 'joy': '0.051771', 'sadness': '0.222789'}\n",
      "{'state': 'maharashtra', 'city': 'mumbai', 'link': 'https://twitter.com/republic_glitz/status/1270686901633253376', 'anger': '0.135341', 'disgust': '0.206423', 'fear': '0.134333', 'joy': '0.207726', 'sadness': '0.18288'}\n",
      "{'state': 'maharashtra', 'city': 'mumbai', 'link': 'https://twitter.com/Olagarage/status/1270679745848651778', 'anger': '0.08535', 'disgust': '0.049546', 'fear': '0.051652', 'joy': '0.011479', 'sadness': '0.300971'}\n",
      "{'state': 'maharashtra', 'city': 'mumbai', 'link': 'https://twitter.com/AnkitMadX/status/1270675065697337344', 'anger': '0.018242', 'disgust': '0.010844', 'fear': '0.07849', 'joy': '0.770483', 'sadness': '0.127118'}\n",
      "{'state': 'maharashtra', 'city': 'mumbai', 'link': 'https://twitter.com/ClubTinted/status/1270655851401867265', 'anger': '0.073442', 'disgust': '0.013169', 'fear': '0.055486', 'joy': '0.063214', 'sadness': '0.385862'}\n",
      "{'state': 'maharashtra', 'city': 'mumbai', 'link': 'https://twitter.com/anujgcasting/status/1270654990198030336', 'anger': '0.054707', 'disgust': '0.079747', 'fear': '0.00984', 'joy': '0.230587', 'sadness': '0.05219'}\n",
      "{'state': 'maharashtra', 'city': 'mumbai', 'link': 'https://twitter.com/Priyanka_208/status/1270644614740021250', 'anger': '0.09816', 'disgust': '0.084509', 'fear': '0.04114', 'joy': '0.172329', 'sadness': '0.285806'}\n",
      "{'state': 'maharashtra', 'city': 'mumbai', 'link': 'https://twitter.com/SilpyGupta/status/1270642267712356353', 'anger': '0.109491', 'disgust': '0.098684', 'fear': '0.152251', 'joy': '0.195529', 'sadness': '0.279138'}\n",
      "{'state': 'maharashtra', 'city': 'mumbai', 'link': 'https://twitter.com/Maha_MEDD/status/1270633928131395585', 'anger': '0.027942', 'disgust': '0.066991', 'fear': '0.082719', 'joy': '0.098108', 'sadness': '0.223127'}\n",
      "{'state': 'maharashtra', 'city': 'mumbai', 'link': 'https://twitter.com/Maha_MEDD/status/1270633602905108491', 'anger': '0.028663', 'disgust': '0.072313', 'fear': '0.084191', 'joy': '0.099946', 'sadness': '0.224858'}\n",
      "{'state': 'maharashtra', 'city': 'mumbai', 'link': 'https://twitter.com/SpinCommunique/status/1270628682269253632', 'anger': '0.14763', 'disgust': '0.231381', 'fear': '0.092775', 'joy': '0.111291', 'sadness': '0.231935'}\n",
      "{'state': 'maharashtra', 'city': 'mumbai', 'link': 'https://twitter.com/manasii_d/status/1270628669543682049', 'anger': '0.191282', 'disgust': '0.040464', 'fear': '0.116238', 'joy': '0.148843', 'sadness': '0.162436'}\n",
      "{'state': 'maharashtra', 'city': 'mumbai', 'link': 'https://twitter.com/aishwar2414/status/1270617203847487488', 'anger': '0.040986', 'disgust': '0.071447', 'fear': '0.364245', 'joy': '0.082968', 'sadness': '0.340258'}\n",
      "{'state': 'maharashtra', 'city': 'mumbai', 'link': 'https://twitter.com/SMWPramesh/status/1270616195977424897', 'anger': '0.065436', 'disgust': '0.017303', 'fear': '0.032007', 'joy': '0.78708', 'sadness': '0.031718'}\n",
      "{'state': 'maharashtra', 'city': 'mumbai', 'link': 'https://twitter.com/MandloiRashmi/status/1270600752025788417', 'anger': '0.17998', 'disgust': '0.053843', 'fear': '0.29862', 'joy': '0.098294', 'sadness': '0.594152'}\n",
      "{'state': 'maharashtra', 'city': 'mumbai', 'link': 'https://twitter.com/ketanbhalala/status/1270599989463519232', 'anger': '0.083165', 'disgust': '0.090233', 'fear': '0.058675', 'joy': '0.712734', 'sadness': '0.051352'}\n",
      "{'state': 'maharashtra', 'city': 'mumbai', 'link': 'https://twitter.com/THMumbai/status/1270598943613890560', 'anger': '0.193265', 'disgust': '0.04075', 'fear': '0.030617', 'joy': '0.072699', 'sadness': '0.282668'}\n",
      "{'state': 'maharashtra', 'city': 'mumbai', 'link': 'https://twitter.com/loniless_18/status/1270598001870831622', 'anger': '0.122647', 'disgust': '0.058433', 'fear': '0.052109', 'joy': '0.215373', 'sadness': '0.137551'}\n",
      "{'state': 'maharashtra', 'city': 'mumbai', 'link': 'https://twitter.com/mid_day/status/1270596731307282433', 'anger': '0.267371', 'disgust': '0.15668', 'fear': '0.060351', 'joy': '0.215283', 'sadness': '0.165754'}\n",
      "{'state': 'maharashtra', 'city': 'mumbai', 'link': 'https://twitter.com/DelhiTimesTweet/status/1270585942399647746', 'anger': '0.045326', 'disgust': '0.055322', 'fear': '0.03885', 'joy': '0.364224', 'sadness': '0.359583'}\n",
      "{'state': 'maharashtra', 'city': 'mumbai', 'link': 'https://twitter.com/sandesh_samant/status/1270585074602344448', 'anger': '0.10609', 'disgust': '0.08624', 'fear': '0.197366', 'joy': '0.157696', 'sadness': '0.243591'}\n",
      "{'state': 'maharashtra', 'city': 'mumbai', 'link': 'https://twitter.com/ComradeAbhi/status/1270583823550615552', 'anger': '0.040991', 'disgust': '0.046908', 'fear': '0.033066', 'joy': '0.084031', 'sadness': '0.664987'}\n",
      "{'state': 'maharashtra', 'city': 'mumbai', 'link': 'https://twitter.com/boxofficeindia/status/1270581991352623109', 'anger': '0.160495', 'disgust': '0.071351', 'fear': '0.187049', 'joy': '0.264855', 'sadness': '0.131471'}\n",
      "{'state': 'maharashtra', 'city': 'mumbai', 'link': 'https://twitter.com/AProudIndian8/status/1270574658698522624', 'anger': '0.140132', 'disgust': '0.209263', 'fear': '0.309119', 'joy': '0.016382', 'sadness': '0.335524'}\n",
      "{'state': 'maharashtra', 'city': 'mumbai', 'link': 'https://twitter.com/sachinmedhekar/status/1270573219804786688', 'anger': '0.484091', 'disgust': '0.033893', 'fear': '0.127729', 'joy': '0.044914', 'sadness': '0.195193'}\n",
      "{'state': 'maharashtra', 'city': 'mumbai', 'link': 'https://twitter.com/sachinmedhekar/status/1270571990534012931', 'anger': '0.380087', 'disgust': '0.040739', 'fear': '0.123609', 'joy': '0.070492', 'sadness': '0.200674'}\n",
      "{'state': 'maharashtra', 'city': 'mumbai', 'link': 'https://twitter.com/kunnal/status/1270559917192044545', 'anger': '0.031941', 'disgust': '0.033088', 'fear': '0.032801', 'joy': '0.17864', 'sadness': '0.282643'}\n",
      "{'state': 'maharashtra', 'city': 'mumbai', 'link': 'https://twitter.com/idemitc/status/1270547794869313536', 'anger': '0.188417', 'disgust': '0.155608', 'fear': '0.085035', 'joy': '0.084093', 'sadness': '0.655493'}\n",
      "{'state': 'maharashtra', 'city': 'mumbai', 'link': 'https://twitter.com/gyan_duu/status/1270547675172048897', 'anger': '0.020117', 'disgust': '0.010431', 'fear': '0.020525', 'joy': '0.19439', 'sadness': '0.126655'}\n",
      "{'state': 'maharashtra', 'city': 'mumbai', 'link': 'https://twitter.com/rupadhikari/status/1270541655829917697', 'anger': '0.260149', 'disgust': '0.061566', 'fear': '0.071674', 'joy': '0.142502', 'sadness': '0.16336'}\n",
      "{'state': 'maharashtra', 'city': 'mumbai', 'link': 'https://twitter.com/99Moonmen/status/1270476702167293956', 'anger': '0.263806', 'disgust': '0.085289', 'fear': '0.193613', 'joy': '0.340486', 'sadness': '0.275487'}\n",
      "{'state': 'maharashtra', 'city': 'mumbai', 'link': 'https://twitter.com/PeepingMoon/status/1270471343645941760', 'anger': '0.135108', 'disgust': '0.13658', 'fear': '0.177677', 'joy': '0.037703', 'sadness': '0.216811'}\n",
      "{'state': 'maharashtra', 'city': 'mumbai', 'link': 'https://twitter.com/varunnorway/status/1270448291810021380', 'anger': '0.019604', 'disgust': '0.021326', 'fear': '0.068874', 'joy': '0.102307', 'sadness': '0.843438'}\n",
      "{'state': 'maharashtra', 'city': 'mumbai', 'link': 'https://twitter.com/varunnorway/status/1270446767360876545', 'anger': '0.202186', 'disgust': '0.070023', 'fear': '0.097897', 'joy': '0.054015', 'sadness': '0.739899'}\n",
      "{'state': 'maharashtra', 'city': 'mumbai', 'link': 'https://twitter.com/steffyshappypa1/status/1270434383778856962', 'anger': '0.069419', 'disgust': '0.206505', 'fear': '0.048469', 'joy': '0.381634', 'sadness': '0.205289'}\n",
      "{'state': 'maharashtra', 'city': 'mumbai', 'link': 'https://twitter.com/ShanawazChinoy/status/1270409798094331907', 'anger': '0.14603', 'disgust': '0.036076', 'fear': '0.027927', 'joy': '0.486471', 'sadness': '0.148893'}\n",
      "{'state': 'maharashtra', 'city': 'mumbai', 'link': 'https://twitter.com/DinooMarino/status/1270408400497762307', 'anger': '0.038081', 'disgust': '0.205538', 'fear': '0.204865', 'joy': '0.452161', 'sadness': '0.222687'}\n",
      "{'state': 'maharashtra', 'city': 'mumbai', 'link': 'https://twitter.com/RizwanSoorya1/status/1270407046517657609', 'anger': '0.133634', 'disgust': '0.060585', 'fear': '0.090017', 'joy': '0.11943', 'sadness': '0.137626'}\n",
      "{'state': 'maharashtra', 'city': 'mumbai', 'link': 'https://twitter.com/DramaFlick/status/1270406051565916160', 'anger': '0.083913', 'disgust': '0.164884', 'fear': '0.023291', 'joy': '0.048599', 'sadness': '0.13523'}\n",
      "{'state': 'maharashtra', 'city': 'mumbai', 'link': 'https://twitter.com/Yash_Railfan/status/1270405916152614917', 'anger': '0.033756', 'disgust': '0.050693', 'fear': '0.016526', 'joy': '0.055191', 'sadness': '0.054131'}\n",
      "{'state': 'maharashtra', 'city': 'mumbai', 'link': 'https://twitter.com/ItvBharat/status/1270404955451645952', 'anger': '0.022377', 'disgust': '0.059812', 'fear': '0.108595', 'joy': '0.091198', 'sadness': '0.166377'}\n",
      "{'state': 'maharashtra', 'city': 'mumbai', 'link': 'https://twitter.com/Nimitiwari/status/1270401575299641344', 'anger': '0.215001', 'disgust': '0.063561', 'fear': '0.200288', 'joy': '0.193993', 'sadness': '0.525045'}\n",
      "{'state': 'maharashtra', 'city': 'mumbai', 'link': 'https://twitter.com/mumbairailusers/status/1270394222873464832', 'anger': '0.06608', 'disgust': '0.035414', 'fear': '0.051291', 'joy': '0.524733', 'sadness': '0.191912'}\n",
      "{'state': 'maharashtra', 'city': 'mumbai', 'link': 'https://twitter.com/Facto_news/status/1270385848790298624', 'anger': '0.20038', 'disgust': '0.172331', 'fear': '0.030092', 'joy': '0.498736', 'sadness': '0.172001'}\n",
      "{'state': 'maharashtra', 'city': 'mumbai', 'link': 'https://twitter.com/mumbaimatterz/status/1270378274347266049', 'anger': '0.186699', 'disgust': '0.044646', 'fear': '0.162284', 'joy': '0.091785', 'sadness': '0.69201'}\n",
      "{'state': 'maharashtra', 'city': 'mumbai', 'link': 'https://twitter.com/AProudIndian8/status/1270366872253239296', 'anger': '0.140132', 'disgust': '0.209263', 'fear': '0.309119', 'joy': '0.016382', 'sadness': '0.335524'}\n",
      "{'state': 'maharashtra', 'city': 'mumbai', 'link': 'https://twitter.com/AProudIndian8/status/1270365743058571265', 'anger': '0.140132', 'disgust': '0.209263', 'fear': '0.309119', 'joy': '0.016382', 'sadness': '0.335524'}\n",
      "{'state': 'maharashtra', 'city': 'mumbai', 'link': 'https://twitter.com/AProudIndian8/status/1270365665682046978', 'anger': '0.140132', 'disgust': '0.209263', 'fear': '0.309119', 'joy': '0.016382', 'sadness': '0.335524'}\n",
      "{'state': 'maharashtra', 'city': 'mumbai', 'link': 'https://twitter.com/BeardWalaChokra/status/1270364863211220992', 'anger': '0.037572', 'disgust': '0.009837', 'fear': '0.00589', 'joy': '0.09925', 'sadness': '0.029061'}\n",
      "{'state': 'maharashtra', 'city': 'mumbai', 'link': 'https://twitter.com/Indradev_007/status/1270346349008097282', 'anger': '0.283265', 'disgust': '0.053684', 'fear': '0.181276', 'joy': '0.103822', 'sadness': '0.369782'}\n",
      "{'state': 'maharashtra', 'city': 'mumbai', 'link': 'https://twitter.com/CNBCTV18News/status/1270332331799097344', 'anger': '0.079651', 'disgust': '0.060441', 'fear': '0.003865', 'joy': '0.649874', 'sadness': '0.015608'}\n",
      "{'state': 'maharashtra', 'city': 'mumbai', 'link': 'https://twitter.com/VeeraJain/status/1270330211809112065', 'anger': '0.175954', 'disgust': '0.050378', 'fear': '0.079405', 'joy': '0.40671', 'sadness': '0.16944'}\n",
      "{'state': 'maharashtra', 'city': 'mumbai', 'link': 'https://twitter.com/LoksattaLive/status/1270325482609729536', 'anger': '0.057381', 'disgust': '0.128859', 'fear': '0.167726', 'joy': '0.222999', 'sadness': '0.194699'}\n",
      "{'state': 'maharashtra', 'city': 'mumbai', 'link': 'https://twitter.com/TheSarlashkar/status/1270325130841993216', 'anger': '0.118968', 'disgust': '0.022173', 'fear': '0.054986', 'joy': '0.616802', 'sadness': '0.044997'}\n",
      "{'state': 'maharashtra', 'city': 'mumbai', 'link': 'https://twitter.com/AvezFaiz/status/1270324451545137153', 'anger': '0.050817', 'disgust': '0.077432', 'fear': '0.040191', 'joy': '0.494615', 'sadness': '0.067015'}\n",
      "{'state': 'maharashtra', 'city': 'mumbai', 'link': 'https://twitter.com/MovieTalkies/status/1270323563635990529', 'anger': '0.028285', 'disgust': '0.007884', 'fear': '0.029356', 'joy': '0.899425', 'sadness': '0.011964'}\n",
      "{'state': 'maharashtra', 'city': 'mumbai', 'link': 'https://twitter.com/livemint/status/1270322022069854209', 'anger': '0.254468', 'disgust': '0.153239', 'fear': '0.027906', 'joy': '0.075784', 'sadness': '0.498248'}\n",
      "{'state': 'maharashtra', 'city': 'mumbai', 'link': 'https://twitter.com/TheMahaMTB/status/1270321848325111809', 'anger': '0.157596', 'disgust': '0.089746', 'fear': '0.037655', 'joy': '0.461338', 'sadness': '0.132692'}\n",
      "{'state': 'maharashtra', 'city': 'mumbai', 'link': 'https://twitter.com/munshi1857/status/1270315817834434566', 'anger': '0.037846', 'disgust': '0.272083', 'fear': '0.129338', 'joy': '0.106024', 'sadness': '0.190128'}\n",
      "{'state': 'maharashtra', 'city': 'mumbai', 'link': 'https://twitter.com/saurabhs0607/status/1270315330829762561', 'anger': '0.056843', 'disgust': '0.056769', 'fear': '0.159594', 'joy': '0.057783', 'sadness': '0.289284'}\n",
      "{'state': 'maharashtra', 'city': 'mumbai', 'link': 'https://twitter.com/ABPNews/status/1270310811953586178', 'anger': '0.211944', 'disgust': '0.061271', 'fear': '0.027778', 'joy': '0.071217', 'sadness': '0.063285'}\n",
      "{'state': 'maharashtra', 'city': 'mumbai', 'link': 'https://twitter.com/withSNirupam/status/1270307491633643524', 'anger': '0.017418', 'disgust': '0.032784', 'fear': '0.26579', 'joy': '0.47537', 'sadness': '0.279817'}\n",
      "{'state': 'maharashtra', 'city': 'mumbai', 'link': 'https://twitter.com/hitesh_thakkar3/status/1270306911980859393', 'anger': '0.310888', 'disgust': '0.117244', 'fear': '0.095246', 'joy': '0.025476', 'sadness': '0.466935'}\n",
      "{'state': 'maharashtra', 'city': 'mumbai', 'link': 'https://twitter.com/sarang160499/status/1270303079867600896', 'anger': '0.12971', 'disgust': '0.027757', 'fear': '0.155845', 'joy': '0.291028', 'sadness': '0.250627'}\n",
      "{'state': 'maharashtra', 'city': 'mumbai', 'link': 'https://twitter.com/ankita_bhattar/status/1270298490158153733', 'anger': '0.240524', 'disgust': '0.118331', 'fear': '0.158285', 'joy': '0.107793', 'sadness': '0.145657'}\n",
      "{'state': 'maharashtra', 'city': 'mumbai', 'link': 'https://twitter.com/Maha_MEDD/status/1270296225078808579', 'anger': '0.027942', 'disgust': '0.066991', 'fear': '0.082719', 'joy': '0.098108', 'sadness': '0.223127'}\n",
      "{'state': 'maharashtra', 'city': 'mumbai', 'link': 'https://twitter.com/firstpost/status/1270292250220802051', 'anger': '0.177605', 'disgust': '0.020206', 'fear': '0.054284', 'joy': '0.514772', 'sadness': '0.146717'}\n",
      "{'state': 'maharashtra', 'city': 'mumbai', 'link': 'https://twitter.com/sajeshsudhanshu/status/1270289551072718848', 'anger': '0.020739', 'disgust': '0.107331', 'fear': '0.077629', 'joy': '0.43243', 'sadness': '0.139763'}\n",
      "{'state': 'maharashtra', 'city': 'mumbai', 'link': 'https://twitter.com/indiatvnews/status/1270286642733961216', 'anger': '0.25654', 'disgust': '0.157366', 'fear': '0.061276', 'joy': '0.171793', 'sadness': '0.135104'}\n",
      "{'state': 'maharashtra', 'city': 'mumbai', 'link': 'https://twitter.com/LeoThomasekar/status/1270283575972122624', 'anger': '0.290327', 'disgust': '0.193343', 'fear': '0.112037', 'joy': '0.133768', 'sadness': '0.465364'}\n",
      "{'state': 'maharashtra', 'city': 'mumbai', 'link': 'https://twitter.com/he21im32/status/1270281410004176897', 'anger': '0.066278', 'disgust': '0.018964', 'fear': '0.104325', 'joy': '0.793366', 'sadness': '0.03857'}\n",
      "{'state': 'maharashtra', 'city': 'mumbai', 'link': 'https://twitter.com/smitadeshmukh/status/1270281005652496384', 'anger': '0.228324', 'disgust': '0.018673', 'fear': '0.135537', 'joy': '0.289788', 'sadness': '0.371931'}\n",
      "{'state': 'maharashtra', 'city': 'mumbai', 'link': 'https://twitter.com/PriyaDalal_/status/1270274417935945730', 'anger': '0.09535', 'disgust': '0.021444', 'fear': '0.047008', 'joy': '0.205991', 'sadness': '0.099943'}\n",
      "{'state': 'maharashtra', 'city': 'mumbai', 'link': 'https://twitter.com/Yogeshsagar09/status/1270272778776842240', 'anger': '0.185968', 'disgust': '0.224309', 'fear': '0.443461', 'joy': '0.121447', 'sadness': '0.191535'}\n",
      "{'state': 'maharashtra', 'city': 'mumbai', 'link': 'https://twitter.com/badal_taneja/status/1270271200212783104', 'anger': '0.058116', 'disgust': '0.084185', 'fear': '0.224058', 'joy': '0.395809', 'sadness': '0.27869'}\n",
      "{'state': 'maharashtra', 'city': 'mumbai', 'link': 'https://twitter.com/PriyaDalal_/status/1270264458758090753', 'anger': '0.101914', 'disgust': '0.087536', 'fear': '0.055323', 'joy': '0.116779', 'sadness': '0.229446'}\n",
      "{'state': 'maharashtra', 'city': 'mumbai', 'link': 'https://twitter.com/Akhil_C/status/1270263537294868481', 'anger': '0.170711', 'disgust': '0.024108', 'fear': '0.033502', 'joy': '0.224544', 'sadness': '0.187726'}\n",
      "{'state': 'maharashtra', 'city': 'mumbai', 'link': 'https://twitter.com/smitadeshmukh/status/1270261297255297024', 'anger': '0.166624', 'disgust': '0.029445', 'fear': '0.186066', 'joy': '0.134302', 'sadness': '0.631865'}\n",
      "{'state': 'maharashtra', 'city': 'mumbai', 'link': 'https://twitter.com/TheFearlessInd1/status/1270260266496901131', 'anger': '0.361756', 'disgust': '0.086276', 'fear': '0.085545', 'joy': '0.028607', 'sadness': '0.642174'}\n",
      "{'state': 'maharashtra', 'city': 'mumbai', 'link': 'https://twitter.com/DelhiTimesTweet/status/1270259960396431363', 'anger': '0.042485', 'disgust': '0.123565', 'fear': '0.046323', 'joy': '0.449506', 'sadness': '0.17109'}\n",
      "{'state': 'maharashtra', 'city': 'mumbai', 'link': 'https://twitter.com/Maha_MEDD/status/1270257073851437056', 'anger': '0.028663', 'disgust': '0.072313', 'fear': '0.084191', 'joy': '0.099946', 'sadness': '0.224858'}\n",
      "{'state': 'maharashtra', 'city': 'mumbai', 'link': 'https://twitter.com/notnewnaveen/status/1270253969281933313', 'anger': '0.085309', 'disgust': '0.076903', 'fear': '0.117415', 'joy': '0.232838', 'sadness': '0.152708'}\n",
      "{'state': 'maharashtra', 'city': 'mumbai', 'link': 'https://twitter.com/hemant_parida/status/1270245155690307584', 'anger': '0.118972', 'disgust': '0.065948', 'fear': '0.090098', 'joy': '0.143379', 'sadness': '0.167264'}\n",
      "{'state': 'maharashtra', 'city': 'mumbai', 'link': 'https://twitter.com/LoksattaLive/status/1270242305782321152', 'anger': '0.129748', 'disgust': '0.058585', 'fear': '0.06535', 'joy': '0.149145', 'sadness': '0.134679'}\n",
      "{'state': 'maharashtra', 'city': 'mumbai', 'link': 'https://twitter.com/Gershwynp/status/1270240835867721728', 'anger': '0.294443', 'disgust': '0.147331', 'fear': '0.229544', 'joy': '0.025241', 'sadness': '0.574842'}\n",
      "{'state': 'maharashtra', 'city': 'mumbai', 'link': 'https://twitter.com/DeewanaShetty/status/1270240045925109761', 'anger': '0.075004', 'disgust': '0.100941', 'fear': '0.089986', 'joy': '0.146972', 'sadness': '0.160153'}\n",
      "{'state': 'maharashtra', 'city': 'mumbai', 'link': 'https://twitter.com/kunnal/status/1270239937892216833', 'anger': '0.165283', 'disgust': '0.026085', 'fear': '0.779885', 'joy': '0.074408', 'sadness': '0.063048'}\n",
      "{'state': 'maharashtra', 'city': 'mumbai', 'link': 'https://twitter.com/VineetaDwivedi/status/1270236110090887172', 'anger': '0.023438', 'disgust': '0.021706', 'fear': '0.132656', 'joy': '0.427363', 'sadness': '0.26616'}\n",
      "{'state': 'maharashtra', 'city': 'mumbai', 'link': 'https://twitter.com/lvmillenium/status/1270231294912237570', 'anger': '0.080305', 'disgust': '0.015133', 'fear': '0.024807', 'joy': '0.502739', 'sadness': '0.086399'}\n",
      "{'state': 'maharashtra', 'city': 'mumbai', 'link': 'https://twitter.com/hemant_parida/status/1270231202922782720', 'anger': '0.157755', 'disgust': '0.13461', 'fear': '0.130384', 'joy': '0.184309', 'sadness': '0.281824'}\n",
      "{'state': 'maharashtra', 'city': 'mumbai', 'link': 'https://twitter.com/RiaRevealed/status/1270225918015926272', 'anger': '0.036096', 'disgust': '0.109385', 'fear': '0.042977', 'joy': '0.370026', 'sadness': '0.308243'}\n",
      "{'state': 'maharashtra', 'city': 'mumbai', 'link': 'https://twitter.com/prathod2008/status/1270225761048248320', 'anger': '0.13647', 'disgust': '0.1573', 'fear': '0.149284', 'joy': '0.080861', 'sadness': '0.342002'}\n",
      "{'state': 'maharashtra', 'city': 'mumbai', 'link': 'https://twitter.com/SakalMediaNews/status/1270225460790624256', 'anger': '0.238807', 'disgust': '0.082721', 'fear': '0.217233', 'joy': '0.023451', 'sadness': '0.595851'}\n",
      "{'state': 'maharashtra', 'city': 'mumbai', 'link': 'https://twitter.com/BKandhari_Prop/status/1270221132948365320', 'anger': '0.036383', 'disgust': '0.026221', 'fear': '0.030022', 'joy': '0.119323', 'sadness': '0.138353'}\n",
      "{'state': 'maharashtra', 'city': 'mumbai', 'link': 'https://twitter.com/CNBCTV18News/status/1270217045372628992', 'anger': '0.096303', 'disgust': '0.038037', 'fear': '0.069737', 'joy': '0.031957', 'sadness': '0.662701'}\n",
      "{'state': 'maharashtra', 'city': 'mumbai', 'link': 'https://twitter.com/CNBCTV18Live/status/1270215740407209984', 'anger': '0.13647', 'disgust': '0.1573', 'fear': '0.149284', 'joy': '0.080861', 'sadness': '0.342002'}\n",
      "{'state': 'maharashtra', 'city': 'mumbai', 'link': 'https://twitter.com/hemant_parida/status/1270209625644838913', 'anger': '0.129748', 'disgust': '0.058585', 'fear': '0.06535', 'joy': '0.149145', 'sadness': '0.134679'}\n",
      "{'state': 'maharashtra', 'city': 'mumbai', 'link': 'https://twitter.com/Chatraraj_S/status/1270202687867551744', 'anger': '0.106902', 'disgust': '0.055746', 'fear': '0.034', 'joy': '0.341462', 'sadness': '0.071184'}\n",
      "{'state': 'maharashtra', 'city': 'mumbai', 'link': 'https://twitter.com/kunnal/status/1270197003826237441', 'anger': '0.100425', 'disgust': '0.067149', 'fear': '0.076814', 'joy': '0.102676', 'sadness': '0.133798'}\n",
      "{'state': 'maharashtra', 'city': 'mumbai', 'link': 'https://twitter.com/aartiinaagpal/status/1270195800186839040', 'anger': '0.080013', 'disgust': '0.015031', 'fear': '0.012458', 'joy': '0.612886', 'sadness': '0.238392'}\n",
      "{'state': 'maharashtra', 'city': 'mumbai', 'link': 'https://twitter.com/urvashikhona/status/1270195399723061251', 'anger': '0.069574', 'disgust': '0.028217', 'fear': '0.071798', 'joy': '0.339608', 'sadness': '0.122237'}\n",
      "{'state': 'maharashtra', 'city': 'mumbai', 'link': 'https://twitter.com/LoksattaLive/status/1270194494500040705', 'anger': '0.129748', 'disgust': '0.058585', 'fear': '0.06535', 'joy': '0.149145', 'sadness': '0.134679'}\n",
      "{'state': 'maharashtra', 'city': 'mumbai', 'link': 'https://twitter.com/BigTownPost/status/1270192457423024129', 'anger': '0.149856', 'disgust': '0.150308', 'fear': '0.190172', 'joy': '0.13548', 'sadness': '0.411838'}\n",
      "{'state': 'maharashtra', 'city': 'mumbai', 'link': 'https://twitter.com/ProCloud_/status/1270189224701067264', 'anger': '0.110842', 'disgust': '0.060688', 'fear': '0.07174', 'joy': '0.159031', 'sadness': '0.145077'}\n",
      "{'state': 'maharashtra', 'city': 'mumbai', 'link': 'https://twitter.com/echoman911/status/1270176396325687296', 'anger': '0.031833', 'disgust': '0.005937', 'fear': '0.018955', 'joy': '0.823399', 'sadness': '0.014008'}\n",
      "{'state': 'maharashtra', 'city': 'mumbai', 'link': 'https://twitter.com/Arvindr66397850/status/1270158818127876096', 'anger': '0.076158', 'disgust': '0.02125', 'fear': '0.066651', 'joy': '0.207671', 'sadness': '0.047203'}\n",
      "{'state': 'maharashtra', 'city': 'mumbai', 'link': 'https://twitter.com/magic_eye/status/1270147958818947077', 'anger': '0.059729', 'disgust': '0.018825', 'fear': '0.108119', 'joy': '0.430513', 'sadness': '0.220383'}\n",
      "{'state': 'maharashtra', 'city': 'mumbai', 'link': 'https://twitter.com/kokilaben2019/status/1270114079806545921', 'anger': '0.110965', 'disgust': '0.094548', 'fear': '0.077134', 'joy': '0.103034', 'sadness': '0.230926'}\n",
      "{'state': 'maharashtra', 'city': 'mumbai', 'link': 'https://twitter.com/LeoThomasekar/status/1270065089492574211', 'anger': '0.084842', 'disgust': '0.27702', 'fear': '0.124922', 'joy': '0.136729', 'sadness': '0.17496'}\n",
      "{'state': 'maharashtra', 'city': 'mumbai', 'link': 'https://twitter.com/dna/status/1270063283437854720', 'anger': '0.180477', 'disgust': '0.060102', 'fear': '0.099962', 'joy': '0.019498', 'sadness': '0.553223'}\n",
      "{'state': 'maharashtra', 'city': 'mumbai', 'link': 'https://twitter.com/dna/status/1270062950758268928', 'anger': '0.174534', 'disgust': '0.214751', 'fear': '0.126426', 'joy': '0.023937', 'sadness': '0.345598'}\n",
      "{'state': 'maharashtra', 'city': 'mumbai', 'link': 'https://twitter.com/jatinjkothari/status/1270058838322851840', 'anger': '0.05872', 'disgust': '0.040578', 'fear': '0.176907', 'joy': '0.229917', 'sadness': '0.291057'}\n",
      "{'state': 'maharashtra', 'city': 'mumbai', 'link': 'https://twitter.com/CutyWithBrains/status/1270055652602175493', 'anger': '0.113', 'disgust': '0.054752', 'fear': '0.067908', 'joy': '0.157729', 'sadness': '0.128352'}\n",
      "{'state': 'maharashtra', 'city': 'mumbai', 'link': 'https://twitter.com/MumbaiExpress11/status/1270044702289604614', 'anger': '0.331743', 'disgust': '0.187077', 'fear': '0.072938', 'joy': '0.184092', 'sadness': '0.266843'}\n",
      "{'state': 'maharashtra', 'city': 'mumbai', 'link': 'https://twitter.com/PRERAKOGALA/status/1270042563106439168', 'anger': '0.098016', 'disgust': '0.051036', 'fear': '0.22912', 'joy': '0.189931', 'sadness': '0.205596'}\n",
      "{'state': 'maharashtra', 'city': 'mumbai', 'link': 'https://twitter.com/ketan25shah/status/1270032256611082256', 'anger': '0.157571', 'disgust': '0.038973', 'fear': '0.376428', 'joy': '0.066327', 'sadness': '0.273737'}\n",
      "{'state': 'maharashtra', 'city': 'mumbai', 'link': 'https://twitter.com/zzzubair/status/1270029927690035202', 'anger': '0.160955', 'disgust': '0.07102', 'fear': '0.063142', 'joy': '0.108084', 'sadness': '0.190086'}\n",
      "{'state': 'maharashtra', 'city': 'mumbai', 'link': 'https://twitter.com/kapoordipanshu1/status/1270029800330190848', 'anger': '0.040634', 'disgust': '0.137594', 'fear': '0.052999', 'joy': '0.259209', 'sadness': '0.375836'}\n",
      "{'state': 'maharashtra', 'city': 'mumbai', 'link': 'https://twitter.com/rama2091/status/1270027629861597184', 'anger': '0.252705', 'disgust': '0.028516', 'fear': '0.06116', 'joy': '0.059579', 'sadness': '0.445593'}\n",
      "{'state': 'maharashtra', 'city': 'mumbai', 'link': 'https://twitter.com/mumbaimatterz/status/1270026502931804167', 'anger': '0.186699', 'disgust': '0.044646', 'fear': '0.162284', 'joy': '0.091785', 'sadness': '0.69201'}\n",
      "{'state': 'maharashtra', 'city': 'mumbai', 'link': 'https://twitter.com/rizvitaus/status/1270026104577785856', 'anger': '0.077614', 'disgust': '0.241757', 'fear': '0.063265', 'joy': '0.438503', 'sadness': '0.317687'}\n",
      "{'state': 'maharashtra', 'city': 'mumbai', 'link': 'https://twitter.com/Soldier_forlife/status/1270025876252397568', 'anger': '0.070581', 'disgust': '0.101167', 'fear': '0.232779', 'joy': '0.252476', 'sadness': '0.375791'}\n",
      "{'state': 'maharashtra', 'city': 'mumbai', 'link': 'https://twitter.com/neeru_za/status/1270014980713099264', 'anger': '0.279202', 'disgust': '0.155842', 'fear': '0.145558', 'joy': '0.144494', 'sadness': '0.168058'}\n",
      "{'state': 'maharashtra', 'city': 'mumbai', 'link': 'https://twitter.com/PrithvirajM25/status/1270012312749879296', 'anger': '0.112747', 'disgust': '0.074862', 'fear': '0.077812', 'joy': '0.0119', 'sadness': '0.287858'}\n",
      "{'state': 'maharashtra', 'city': 'mumbai', 'link': 'https://twitter.com/CNBCTV18News/status/1270009390016237568', 'anger': '0.065329', 'disgust': '0.089735', 'fear': '0.05299', 'joy': '0.241118', 'sadness': '0.309352'}\n",
      "{'state': 'maharashtra', 'city': 'mumbai', 'link': 'https://twitter.com/thememoryalbum/status/1270008544281219072', 'anger': '0.019198', 'disgust': '0.032842', 'fear': '0.026754', 'joy': '0.866356', 'sadness': '0.06467'}\n",
      "{'state': 'maharashtra', 'city': 'mumbai', 'link': 'https://twitter.com/sameeratweeter/status/1270006116773236736', 'anger': '0.098954', 'disgust': '0.100864', 'fear': '0.0498', 'joy': '0.051641', 'sadness': '0.373233'}\n",
      "{'state': 'maharashtra', 'city': 'mumbai', 'link': 'https://twitter.com/ashishlh/status/1270004033193984000', 'anger': '0.033657', 'disgust': '0.033197', 'fear': '0.078396', 'joy': '0.358736', 'sadness': '0.561924'}\n",
      "{'state': 'maharashtra', 'city': 'mumbai', 'link': 'https://twitter.com/RJKaran911/status/1270003696668155904', 'anger': '0.093623', 'disgust': '0.094227', 'fear': '0.527072', 'joy': '0.127062', 'sadness': '0.306001'}\n",
      "{'state': 'maharashtra', 'city': 'mumbai', 'link': 'https://twitter.com/GhazalForSoul/status/1270002751724896256', 'anger': '0.102578', 'disgust': '0.027469', 'fear': '0.026369', 'joy': '0.448853', 'sadness': '0.37724'}\n",
      "{'state': 'maharashtra', 'city': 'mumbai', 'link': 'https://twitter.com/mataonline/status/1269999905650556928', 'anger': '0.115958', 'disgust': '0.110287', 'fear': '0.078402', 'joy': '0.187868', 'sadness': '0.300925'}\n",
      "{'state': 'maharashtra', 'city': 'mumbai', 'link': 'https://twitter.com/pratwah/status/1269999785680891910', 'anger': '0.070422', 'disgust': '0.021433', 'fear': '0.188684', 'joy': '0.316779', 'sadness': '0.337319'}\n",
      "{'state': 'maharashtra', 'city': 'mumbai', 'link': 'https://twitter.com/CNBCTV18Live/status/1269995850282881026', 'anger': '0.010368', 'disgust': '0.048523', 'fear': '0.026012', 'joy': '0.339923', 'sadness': '0.190403'}\n",
      "{'state': 'maharashtra', 'city': 'mumbai', 'link': 'https://twitter.com/CEncroachment/status/1269992624708034560', 'anger': '0.084785', 'disgust': '0.055936', 'fear': '0.039814', 'joy': '0.066593', 'sadness': '0.846054'}\n",
      "{'state': 'maharashtra', 'city': 'mumbai', 'link': 'https://twitter.com/biybalu/status/1269992417316372480', 'anger': '0.024386', 'disgust': '0.106336', 'fear': '0.112842', 'joy': '0.474127', 'sadness': '0.051985'}\n",
      "{'state': 'maharashtra', 'city': 'mumbai', 'link': 'https://twitter.com/tVoiceOfCitizen/status/1269990595407339521', 'anger': '0.050466', 'disgust': '0.030043', 'fear': '0.157144', 'joy': '0.184269', 'sadness': '0.589361'}\n",
      "{'state': 'maharashtra', 'city': 'mumbai', 'link': 'https://twitter.com/CEncroachment/status/1269990164845264897', 'anger': '0.275798', 'disgust': '0.065198', 'fear': '0.041079', 'joy': '0.031131', 'sadness': '0.609461'}\n",
      "{'state': 'maharashtra', 'city': 'mumbai', 'link': 'https://twitter.com/vg3875/status/1269987690902024193', 'anger': '0.083735', 'disgust': '0.024206', 'fear': '0.045123', 'joy': '0.450441', 'sadness': '0.269507'}\n",
      "{'state': 'maharashtra', 'city': 'mumbai', 'link': 'https://twitter.com/echoman911/status/1269986959570530306', 'anger': '0.159231', 'disgust': '0.129452', 'fear': '0.163285', 'joy': '0.06293', 'sadness': '0.596209'}\n",
      "{'state': 'maharashtra', 'city': 'mumbai', 'link': 'https://twitter.com/LotusBharat/status/1269984077752516609', 'anger': '0.164386', 'disgust': '0.234117', 'fear': '0.114518', 'joy': '0.043769', 'sadness': '0.668576'}\n",
      "{'state': 'maharashtra', 'city': 'mumbai', 'link': 'https://twitter.com/badpaps/status/1269984063097499650', 'anger': '0.145926', 'disgust': '0.088903', 'fear': '0.041282', 'joy': '0.471001', 'sadness': '0.139215'}\n",
      "{'state': 'maharashtra', 'city': 'mumbai', 'link': 'https://twitter.com/its_dsk/status/1269981204801077254', 'anger': '0.018356', 'disgust': '0.004009', 'fear': '0.007132', 'joy': '0.034061', 'sadness': '0.129126'}\n",
      "{'state': 'maharashtra', 'city': 'mumbai', 'link': 'https://twitter.com/commonmanspowar/status/1269978366939148288', 'anger': '0.091409', 'disgust': '0.03119', 'fear': '0.092895', 'joy': '0.183447', 'sadness': '0.107771'}\n",
      "{'state': 'maharashtra', 'city': 'mumbai', 'link': 'https://twitter.com/BKandhari_Prop/status/1269977153162051584', 'anger': '0.05698', 'disgust': '0.027943', 'fear': '0.006354', 'joy': '0.689899', 'sadness': '0.076535'}\n",
      "{'state': 'maharashtra', 'city': 'mumbai', 'link': 'https://twitter.com/hsachdev/status/1269973872683646978', 'anger': '0.011053', 'disgust': '0.008401', 'fear': '0.015148', 'joy': '0.857105', 'sadness': '0.044994'}\n",
      "{'state': 'maharashtra', 'city': 'mumbai', 'link': 'https://twitter.com/mangeshdigital/status/1269972413464207362', 'anger': '0.299716', 'disgust': '0.335332', 'fear': '0.126146', 'joy': '0.152526', 'sadness': '0.273542'}\n",
      "{'state': 'maharashtra', 'city': 'mumbai', 'link': 'https://twitter.com/Kiranghulepati1/status/1269966324278587394', 'anger': '0.049334', 'disgust': '0.040677', 'fear': '0.063815', 'joy': '0.557732', 'sadness': '0.175822'}\n",
      "{'state': 'maharashtra', 'city': 'mumbai', 'link': 'https://twitter.com/i_amssp/status/1269966134373167105', 'anger': '0.283044', 'disgust': '0.221477', 'fear': '0.072703', 'joy': '0.212503', 'sadness': '0.158791'}\n",
      "{'state': 'maharashtra', 'city': 'mumbai', 'link': 'https://twitter.com/LocalSamosa/status/1269965263652491264', 'anger': '0.041494', 'disgust': '0.094341', 'fear': '0.049545', 'joy': '0.465351', 'sadness': '0.096342'}\n",
      "{'state': 'maharashtra', 'city': 'mumbai', 'link': 'https://twitter.com/BirgeShadab/status/1269964538092441600', 'anger': '0.036709', 'disgust': '0.066213', 'fear': '0.166173', 'joy': '0.010654', 'sadness': '0.85387'}\n",
      "{'state': 'maharashtra', 'city': 'mumbai', 'link': 'https://twitter.com/taxinbrief/status/1269963408536993792', 'anger': '0.083619', 'disgust': '0.071437', 'fear': '0.042513', 'joy': '0.036186', 'sadness': '0.221593'}\n",
      "{'state': 'maharashtra', 'city': 'mumbai', 'link': 'https://twitter.com/MumbaiLiveNews/status/1269962977114873856', 'anger': '0.375552', 'disgust': '0.023033', 'fear': '0.073816', 'joy': '0.087039', 'sadness': '0.117709'}\n",
      "{'state': 'maharashtra', 'city': 'mumbai', 'link': 'https://twitter.com/deep9007/status/1269962330772631552', 'anger': '0.384404', 'disgust': '0.09273', 'fear': '0.118662', 'joy': '0.242678', 'sadness': '0.353538'}\n",
      "{'state': 'maharashtra', 'city': 'mumbai', 'link': 'https://twitter.com/Sharan_Nair93/status/1269961124515987463', 'anger': '0.005192', 'disgust': '0.015896', 'fear': '0.309918', 'joy': '0.621675', 'sadness': '0.121928'}\n",
      "{'state': 'maharashtra', 'city': 'mumbai', 'link': 'https://twitter.com/NehaPoonia/status/1269959068912771072', 'anger': '0.086511', 'disgust': '0.243259', 'fear': '0.037142', 'joy': '0.308436', 'sadness': '0.453149'}\n",
      "{'state': 'maharashtra', 'city': 'mumbai', 'link': 'https://twitter.com/MumbaiMirror/status/1269958602694864896', 'anger': '0.255602', 'disgust': '0.109561', 'fear': '0.31007', 'joy': '0.106248', 'sadness': '0.454279'}\n",
      "{'state': 'maharashtra', 'city': 'mumbai', 'link': 'https://twitter.com/BT_India/status/1269957998178234373', 'anger': '0.07081', 'disgust': '0.030615', 'fear': '0.111508', 'joy': '0.177421', 'sadness': '0.1932'}\n",
      "{'state': 'maharashtra', 'city': 'mumbai', 'link': 'https://twitter.com/iamvarunbajaj/status/1269956780500508672', 'anger': '0.129522', 'disgust': '0.058941', 'fear': '0.055471', 'joy': '0.261772', 'sadness': '0.238758'}\n",
      "{'state': 'maharashtra', 'city': 'mumbai', 'link': 'https://twitter.com/_downandirty_/status/1269956161115246594', 'anger': '0.180085', 'disgust': '0.123329', 'fear': '0.169045', 'joy': '0.319985', 'sadness': '0.304044'}\n",
      "{'state': 'maharashtra', 'city': 'mumbai', 'link': 'https://twitter.com/GAUTAMGUPTA10/status/1269953856550563846', 'anger': '0.098745', 'disgust': '0.093888', 'fear': '0.157093', 'joy': '0.158914', 'sadness': '0.201676'}\n",
      "{'state': 'maharashtra', 'city': 'mumbai', 'link': 'https://twitter.com/BWAutoworld/status/1269952510162358272', 'anger': '0.027981', 'disgust': '0.043788', 'fear': '0.007982', 'joy': '0.078267', 'sadness': '0.378003'}\n",
      "{'state': 'maharashtra', 'city': 'mumbai', 'link': 'https://twitter.com/nileshamesar/status/1269952114182127616', 'anger': '0.081414', 'disgust': '0.073887', 'fear': '0.100591', 'joy': '0.309787', 'sadness': '0.142243'}\n",
      "{'state': 'maharashtra', 'city': 'mumbai', 'link': 'https://twitter.com/purohitvaibhav/status/1269951475234615297', 'anger': '0.203254', 'disgust': '0.135277', 'fear': '0.113724', 'joy': '0.155541', 'sadness': '0.08862'}\n",
      "{'state': 'maharashtra', 'city': 'mumbai', 'link': 'https://twitter.com/TheTrueIndian01/status/1269951376995442690', 'anger': '0.241007', 'disgust': '0.045035', 'fear': '0.231066', 'joy': '0.064342', 'sadness': '0.562899'}\n",
      "{'state': 'maharashtra', 'city': 'mumbai', 'link': 'https://twitter.com/razoredgeDM/status/1269949369932935168', 'anger': '0.093001', 'disgust': '0.040565', 'fear': '0.117076', 'joy': '0.565446', 'sadness': '0.215707'}\n",
      "{'state': 'maharashtra', 'city': 'mumbai', 'link': 'https://twitter.com/TheOfficialYogs/status/1269949229209841670', 'anger': '0.205272', 'disgust': '0.317148', 'fear': '0.049939', 'joy': '0.138982', 'sadness': '0.470762'}\n",
      "{'state': 'maharashtra', 'city': 'mumbai', 'link': 'https://twitter.com/TheOfficialYogs/status/1269949050536656898', 'anger': '0.417108', 'disgust': '0.006725', 'fear': '0.153177', 'joy': '0.314786', 'sadness': '0.290366'}\n",
      "{'state': 'maharashtra', 'city': 'mumbai', 'link': 'https://twitter.com/shahvishu79/status/1269948965283389446', 'anger': '0.076498', 'disgust': '0.075302', 'fear': '0.567264', 'joy': '0.001284', 'sadness': '0.593249'}\n",
      "{'state': 'maharashtra', 'city': 'mumbai', 'link': 'https://twitter.com/CNBCTV18News/status/1269948844818612224', 'anger': '0.280369', 'disgust': '0.036963', 'fear': '0.114009', 'joy': '0.167533', 'sadness': '0.378419'}\n",
      "{'state': 'maharashtra', 'city': 'mumbai', 'link': 'https://twitter.com/iam_Beardcules/status/1269946818403667968', 'anger': '0.048753', 'disgust': '0.032982', 'fear': '0.157776', 'joy': '0.280882', 'sadness': '0.11634'}\n",
      "{'state': 'maharashtra', 'city': 'mumbai', 'link': 'https://twitter.com/itssanjay__/status/1269944593228890117', 'anger': '0.135606', 'disgust': '0.044956', 'fear': '0.089772', 'joy': '0.210655', 'sadness': '0.281077'}\n",
      "{'state': 'maharashtra', 'city': 'mumbai', 'link': 'https://twitter.com/reena14777343/status/1269941716867354624', 'anger': '0.261692', 'disgust': '0.27324', 'fear': '0.132406', 'joy': '0.097169', 'sadness': '0.362063'}\n",
      "{'state': 'maharashtra', 'city': 'mumbai', 'link': 'https://twitter.com/peyushkamal/status/1269941094780776448', 'anger': '0.131098', 'disgust': '0.072153', 'fear': '0.071064', 'joy': '0.020787', 'sadness': '0.599946'}\n",
      "{'state': 'maharashtra', 'city': 'mumbai', 'link': 'https://twitter.com/phones_wiki/status/1269937587134685184', 'anger': '0.245406', 'disgust': '0.043772', 'fear': '0.16976', 'joy': '0.103759', 'sadness': '0.194916'}\n",
      "{'state': 'maharashtra', 'city': 'mumbai', 'link': 'https://twitter.com/AnaghaArdalkar/status/1269933468193976322', 'anger': '0.145643', 'disgust': '0.06162', 'fear': '0.069121', 'joy': '0.140098', 'sadness': '0.129122'}\n",
      "{'state': 'maharashtra', 'city': 'mumbai', 'link': 'https://twitter.com/softengineer20/status/1269932032299339778', 'anger': '0.169885', 'disgust': '0.130495', 'fear': '0.072139', 'joy': '0.162331', 'sadness': '0.136694'}\n",
      "{'state': 'maharashtra', 'city': 'mumbai', 'link': 'https://twitter.com/pinkeshpinkesh/status/1269931785737011202', 'anger': '0.105033', 'disgust': '0.047004', 'fear': '0.076115', 'joy': '0.298603', 'sadness': '0.192354'}\n",
      "{'state': 'maharashtra', 'city': 'mumbai', 'link': 'https://twitter.com/FishyRishi/status/1269928205160460288', 'anger': '0.094327', 'disgust': '0.047437', 'fear': '0.218789', 'joy': '0.161193', 'sadness': '0.622158'}\n",
      "{'state': 'maharashtra', 'city': 'mumbai', 'link': 'https://twitter.com/proxax/status/1269926513832534016', 'anger': '0.687378', 'disgust': '0.170053', 'fear': '0.067526', 'joy': '0.026796', 'sadness': '0.138242'}\n",
      "{'state': 'maharashtra', 'city': 'mumbai', 'link': 'https://twitter.com/ganeshmpandey/status/1269926246789509122', 'anger': '0.592867', 'disgust': '0.085761', 'fear': '0.062416', 'joy': '0.083813', 'sadness': '0.106818'}\n",
      "{'state': 'maharashtra', 'city': 'mumbai', 'link': 'https://twitter.com/Indradev_007/status/1269924968701231106', 'anger': '0.304784', 'disgust': '0.086999', 'fear': '0.151108', 'joy': '0.172668', 'sadness': '0.475471'}\n",
      "{'state': 'maharashtra', 'city': 'mumbai', 'link': 'https://twitter.com/PaperboyOnline/status/1269923826546008066', 'anger': '0.417197', 'disgust': '0.190742', 'fear': '0.123306', 'joy': '0.10488', 'sadness': '0.257429'}\n",
      "{'state': 'maharashtra', 'city': 'mumbai', 'link': 'https://twitter.com/akash_devgude/status/1269922552161300480', 'anger': '0.451137', 'disgust': '0.091259', 'fear': '0.080259', 'joy': '0.20213', 'sadness': '0.149265'}\n",
      "{'state': 'maharashtra', 'city': 'mumbai', 'link': 'https://twitter.com/rupesh1729/status/1269920424655310849', 'anger': '0.077144', 'disgust': '0.043126', 'fear': '0.120807', 'joy': '0.15686', 'sadness': '0.482145'}\n",
      "{'state': 'maharashtra', 'city': 'mumbai', 'link': 'https://twitter.com/LeoThomasekar/status/1269920225819889667', 'anger': '0.207008', 'disgust': '0.053573', 'fear': '0.110383', 'joy': '0.382554', 'sadness': '0.265618'}\n",
      "{'state': 'maharashtra', 'city': 'mumbai', 'link': 'https://twitter.com/Manishkumbhar03/status/1269914419636523012', 'anger': '0.108251', 'disgust': '0.035329', 'fear': '0.046558', 'joy': '0.28703', 'sadness': '0.211317'}\n",
      "{'state': 'maharashtra', 'city': 'mumbai', 'link': 'https://twitter.com/imlahoti/status/1269914329652105216', 'anger': '0.403463', 'disgust': '0.114493', 'fear': '0.189007', 'joy': '0.037467', 'sadness': '0.553278'}\n",
      "{'state': 'maharashtra', 'city': 'mumbai', 'link': 'https://twitter.com/knownaskarkera/status/1269913852633726977', 'anger': '0.037275', 'disgust': '0.016087', 'fear': '0.126168', 'joy': '0.633683', 'sadness': '0.190098'}\n",
      "{'state': 'maharashtra', 'city': 'mumbai', 'link': 'https://twitter.com/fashionistanik1/status/1269912673329639425', 'anger': '0.020794', 'disgust': '0.012128', 'fear': '0.003973', 'joy': '0.744482', 'sadness': '0.045851'}\n",
      "{'state': 'maharashtra', 'city': 'mumbai', 'link': 'https://twitter.com/mumbaitak/status/1269912332970442752', 'anger': '0.018444', 'disgust': '0.521606', 'fear': '0.010164', 'joy': '0.486944', 'sadness': '0.024694'}\n",
      "{'state': 'maharashtra', 'city': 'mumbai', 'link': 'https://twitter.com/samirtewari/status/1269911877871521792', 'anger': '0.165452', 'disgust': '0.053465', 'fear': '0.091089', 'joy': '0.136404', 'sadness': '0.057654'}\n",
      "{'state': 'maharashtra', 'city': 'mumbai', 'link': 'https://twitter.com/Deb_Rc03/status/1269911146129059840', 'anger': '0.439725', 'disgust': '0.098858', 'fear': '0.175532', 'joy': '0.080951', 'sadness': '0.129316'}\n",
      "{'state': 'maharashtra', 'city': 'mumbai', 'link': 'https://twitter.com/indiansighthub/status/1269910928348393472', 'anger': '0.098059', 'disgust': '0.109221', 'fear': '0.259307', 'joy': '0.061419', 'sadness': '0.635591'}\n",
      "{'state': 'maharashtra', 'city': 'mumbai', 'link': 'https://twitter.com/shoopyin/status/1269908789391765506', 'anger': '0.140285', 'disgust': '0.053931', 'fear': '0.074652', 'joy': '0.158283', 'sadness': '0.135891'}\n",
      "{'state': 'maharashtra', 'city': 'mumbai', 'link': 'https://twitter.com/Maha_MEDD/status/1269908669090525185', 'anger': '0.028663', 'disgust': '0.072313', 'fear': '0.084191', 'joy': '0.099946', 'sadness': '0.224858'}\n",
      "{'state': 'maharashtra', 'city': 'mumbai', 'link': 'https://twitter.com/brijeshyadav/status/1269908461288140801', 'anger': '0.071962', 'disgust': '0.154288', 'fear': '0.078654', 'joy': '0.016407', 'sadness': '0.873551'}\n",
      "{'state': 'maharashtra', 'city': 'mumbai', 'link': 'https://twitter.com/drkarekar/status/1269907706820902912', 'anger': '0.392855', 'disgust': '0.093103', 'fear': '0.060977', 'joy': '0.353743', 'sadness': '0.222388'}\n",
      "{'state': 'maharashtra', 'city': 'mumbai', 'link': 'https://twitter.com/Maha_MEDD/status/1269907150048038913', 'anger': '0.027942', 'disgust': '0.066991', 'fear': '0.082719', 'joy': '0.098108', 'sadness': '0.223127'}\n",
      "{'state': 'maharashtra', 'city': 'mumbai', 'link': 'https://twitter.com/uttampa18328157/status/1269904015258763264', 'anger': '0.166526', 'disgust': '0.115366', 'fear': '0.192643', 'joy': '0.059171', 'sadness': '0.129208'}\n",
      "{'state': 'maharashtra', 'city': 'mumbai', 'link': 'https://twitter.com/MonilDalal/status/1269903621019193344', 'anger': '0.242222', 'disgust': '0.063929', 'fear': '0.317972', 'joy': '0.25598', 'sadness': '0.160566'}\n",
      "{'state': 'maharashtra', 'city': 'mumbai', 'link': 'https://twitter.com/NBhalwankar/status/1269896786249805824', 'anger': '0.407986', 'disgust': '0.037405', 'fear': '0.162268', 'joy': '0.133586', 'sadness': '0.325217'}\n",
      "{'state': 'maharashtra', 'city': 'mumbai', 'link': 'https://twitter.com/ompsyram/status/1269896580909457408', 'anger': '0.096693', 'disgust': '0.030751', 'fear': '0.087156', 'joy': '0.362654', 'sadness': '0.180523'}\n",
      "{'state': 'maharashtra', 'city': 'mumbai', 'link': 'https://twitter.com/ScribeUpma/status/1269895296538095617', 'anger': '0.100693', 'disgust': '0.014174', 'fear': '0.092227', 'joy': '0.098477', 'sadness': '0.093341'}\n",
      "{'state': 'maharashtra', 'city': 'mumbai', 'link': 'https://twitter.com/ajyadavji/status/1269895125389508608', 'anger': '0.135606', 'disgust': '0.044956', 'fear': '0.089772', 'joy': '0.210655', 'sadness': '0.281077'}\n",
      "{'state': 'maharashtra', 'city': 'mumbai', 'link': 'https://twitter.com/pareshoswal70/status/1269894874989563910', 'anger': '0.016638', 'disgust': '0.006099', 'fear': '0.02869', 'joy': '0.898256', 'sadness': '0.041093'}\n"
     ]
    },
    {
     "name": "stderr",
     "output_type": "stream",
     "text": [
      "\n"
     ]
    }
   ],
   "source": [
    "input_file = csv.DictReader(open(\"../datasets/processed/mumbai_all_emotion_data.csv\"))\n",
    "for row in tqdm(input_file):\n",
    "    temp = {'state': 'maharashtra', 'city': 'mumbai'}\n",
    "    temp.update(row)\n",
    "    mycol.insert_one(temp)"
   ]
  },
  {
   "cell_type": "code",
   "execution_count": 25,
   "metadata": {},
   "outputs": [
    {
     "name": "stderr",
     "output_type": "stream",
     "text": [
      "54it [00:01, 42.57it/s]\n"
     ]
    }
   ],
   "source": [
    "input_file = csv.DictReader(open(\"../datasets/processed/bangalore_all_emotion_data.csv\"))\n",
    "for row in tqdm(input_file):\n",
    "    temp = {'state': 'karnataka', 'city': 'bangalore'}\n",
    "    temp.update(row)\n",
    "    mycol.insert_one(temp)"
   ]
  },
  {
   "cell_type": "code",
   "execution_count": 26,
   "metadata": {},
   "outputs": [
    {
     "name": "stderr",
     "output_type": "stream",
     "text": [
      "114it [00:02, 43.24it/s]\n"
     ]
    }
   ],
   "source": [
    "input_file = csv.DictReader(open(\"../datasets/processed/chennai_all_emotion_data.csv\"))\n",
    "for row in tqdm(input_file):\n",
    "    temp = {'state': 'tamil_nadu', 'city': 'chennai'}\n",
    "    temp.update(row)\n",
    "    mycol.insert_one(temp)"
   ]
  },
  {
   "cell_type": "code",
   "execution_count": 27,
   "metadata": {},
   "outputs": [
    {
     "name": "stderr",
     "output_type": "stream",
     "text": [
      "114it [00:02, 43.64it/s]\n"
     ]
    }
   ],
   "source": [
    "input_file = csv.DictReader(open(\"../datasets/processed/hyderabad_all_emotion_data.csv\"))\n",
    "for row in tqdm(input_file):\n",
    "    temp = {'state': 'telangana', 'city': 'hyderabad'}\n",
    "    temp.update(row)\n",
    "    mycol.insert_one(temp)"
   ]
  },
  {
   "cell_type": "code",
   "execution_count": 28,
   "metadata": {},
   "outputs": [
    {
     "name": "stderr",
     "output_type": "stream",
     "text": [
      "95it [00:02, 41.80it/s]\n"
     ]
    }
   ],
   "source": [
    "input_file = csv.DictReader(open(\"../datasets/processed/kolkata_all_emotion_data.csv\"))\n",
    "for row in tqdm(input_file):\n",
    "    temp = {'state': 'west_bengal', 'city': 'kolkata'}\n",
    "    temp.update(row)\n",
    "    mycol.insert_one(temp)"
   ]
  },
  {
   "cell_type": "code",
   "execution_count": null,
   "metadata": {},
   "outputs": [],
   "source": []
  }
 ],
 "metadata": {
  "kernelspec": {
   "display_name": "Python 3",
   "language": "python",
   "name": "python3"
  },
  "language_info": {
   "codemirror_mode": {
    "name": "ipython",
    "version": 3
   },
   "file_extension": ".py",
   "mimetype": "text/x-python",
   "name": "python",
   "nbconvert_exporter": "python",
   "pygments_lexer": "ipython3",
   "version": "3.8.3"
  }
 },
 "nbformat": 4,
 "nbformat_minor": 2
}
