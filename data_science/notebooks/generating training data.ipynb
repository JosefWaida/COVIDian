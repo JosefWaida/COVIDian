{
 "cells": [
  {
   "cell_type": "code",
   "execution_count": 24,
   "metadata": {},
   "outputs": [],
   "source": [
    "import numpy as np\n",
    "import pandas as pd\n",
    "import matplotlib.pyplot as plt"
   ]
  },
  {
   "cell_type": "code",
   "execution_count": 3,
   "metadata": {},
   "outputs": [],
   "source": [
    "df_bangalore = pd.read_csv('/Users/amogh/Documents/Study/twitter/data_science/datasets/processed/bangalore_all_emotion_data.csv')\n",
    "df_chennai = pd.read_csv('/Users/amogh/Documents/Study/twitter/data_science/datasets/processed/chennai_all_emotion_data.csv')\n",
    "df_hyderabad = pd.read_csv('/Users/amogh/Documents/Study/twitter/data_science/datasets/processed/hyderabad_all_emotion_data.csv')\n",
    "df_kolkata = pd.read_csv('/Users/amogh/Documents/Study/twitter/data_science/datasets/processed/kolkata_all_emotion_data.csv')\n",
    "df_mumbai = pd.read_csv('/Users/amogh/Documents/Study/twitter/data_science/datasets/processed/mumbai_all_emotion_data.csv')"
   ]
  },
  {
   "cell_type": "code",
   "execution_count": 6,
   "metadata": {},
   "outputs": [],
   "source": [
    "df_bangalore_raw = pd.read_csv('/Users/amogh/Documents/Study/twitter/data_science/datasets/raw/bangalore_unlock1.csv')\n",
    "df_chennai_raw = pd.read_csv('/Users/amogh/Documents/Study/twitter/data_science/datasets/raw/chennai_unlock1.csv')\n",
    "df_hyderabad_raw = pd.read_csv('/Users/amogh/Documents/Study/twitter/data_science/datasets/raw/hyderabad_unlock1.csv')\n",
    "df_kolkata_raw = pd.read_csv('/Users/amogh/Documents/Study/twitter/data_science/datasets/raw/kolkata_unlock1.csv')\n",
    "df_mumbai_raw = pd.read_csv('/Users/amogh/Documents/Study/twitter/data_science/datasets/raw/mumbai_unlock1.csv')"
   ]
  },
  {
   "cell_type": "code",
   "execution_count": 18,
   "metadata": {
    "tags": []
   },
   "outputs": [
    {
     "output_type": "execute_result",
     "data": {
      "text/plain": "Index(['link', 'anger', 'disgust', 'fear', 'joy', 'sadness'], dtype='object')"
     },
     "metadata": {},
     "execution_count": 18
    }
   ],
   "source": [
    "df_bangalore.columns"
   ]
  },
  {
   "cell_type": "code",
   "execution_count": 60,
   "metadata": {
    "tags": []
   },
   "outputs": [],
   "source": [
    "emotion_dict = {0: 'anger', 1: 'disgust', 2: 'fear', 3: 'joy', 4: 'sadness'}\n",
    "\n",
    "output = pd.DataFrame()\n",
    "\n",
    "for row in df_bangalore.values:\n",
    "    output = output.append({'link': row[0], 'emotion': emotion_dict[np.argmax(row[1:])]}, ignore_index=True)"
   ]
  },
  {
   "cell_type": "code",
   "execution_count": 61,
   "metadata": {},
   "outputs": [
    {
     "output_type": "execute_result",
     "data": {
      "text/plain": "    emotion                                               link\n0       joy  https://twitter.com/DirectorMms/status/1273237...\n1       joy  https://twitter.com/Zafirsyed93/status/1272947...\n2   sadness  https://twitter.com/DirectorMms/status/1272835...\n3       joy  https://twitter.com/DirectorMms/status/1272472...\n4       joy  https://twitter.com/deepesh9189/status/1272026...\n5     anger  https://twitter.com/anil_lulla/status/12720206...\n6     anger  https://twitter.com/PrabhuKeDarshan/status/127...\n7       joy  https://twitter.com/bloggerjessie/status/12716...\n8   sadness  https://twitter.com/ABaradwaj/status/127168191...\n9   sadness  https://twitter.com/AmithPawar13/status/127146...\n10      joy  https://twitter.com/DirectorMms/status/1271400...\n11  sadness  https://twitter.com/SportNext1/status/12713054...\n12      joy  https://twitter.com/EnvoyNgo/status/1271125248...\n13      joy  https://twitter.com/lasya24281664/status/12710...\n14      joy  https://twitter.com/DirectorMms/status/1271051...\n15  disgust  https://twitter.com/mahmood_saberi/status/1270...\n16      joy  https://twitter.com/GautamGada1/status/1270934...\n17    anger  https://twitter.com/skumara003d/status/1270696...\n18     fear  https://twitter.com/BilalJaiHind/status/127038...\n19      joy  https://twitter.com/DirectorMms/status/1270306...\n20      joy  https://twitter.com/IndiaToday/status/12700090...\n21    anger  https://twitter.com/the_real_Leemi/status/1269...\n22      joy  https://twitter.com/rohini_mohan/status/126990...\n23    anger  https://twitter.com/sheshagiri_pk/status/12698...\n24    anger  https://twitter.com/gupta__a/status/1269818611...\n25      joy  https://twitter.com/CentreStandView/status/126...\n26      joy  https://twitter.com/fyxbuddy/status/1269175338...\n27      joy  https://twitter.com/fyxbuddy/status/1269175209...\n28      joy  https://twitter.com/fyxbuddy/status/1269175077...\n29      joy  https://twitter.com/fyxbuddy/status/1269174969...\n30      joy  https://twitter.com/fyxbuddy/status/1269174831...\n31      joy  https://twitter.com/fyxbuddy/status/1269174685...\n32      joy  https://twitter.com/signorperi/status/12689108...\n33    anger  https://twitter.com/rightangleprop/status/1268...\n34      joy  https://twitter.com/rightangleprop/status/1268...\n35      joy  https://twitter.com/deepakgurunath/status/1268...\n36      joy  https://twitter.com/princess_anshu/status/1268...\n37      joy  https://twitter.com/contact_doers/status/12684...\n38  sadness  https://twitter.com/SitamMoharana/status/12683...\n39      joy  https://twitter.com/VipinVijayNair/status/1267...\n40      joy  https://twitter.com/nandini1058/status/1267898...\n41     fear  https://twitter.com/IamSolanky/status/12678753...\n42  disgust  https://twitter.com/koolmayur/status/126785612...\n43      joy  https://twitter.com/Onerupee2015/status/126772...\n44  sadness  https://twitter.com/UWCforYouth/status/1267691...\n45    anger  https://twitter.com/SharonThambala/status/1267...\n46      joy  https://twitter.com/SharonThambala/status/1267...\n47    anger  https://twitter.com/vedvaghela/status/12675390...\n48    anger  https://twitter.com/babu_babuty563/status/1267...\n49      joy  https://twitter.com/4700BCPopcorn/status/12673...\n50      joy  https://twitter.com/_shailesh_gupta/status/126...\n51    anger  https://twitter.com/Redfish18/status/126731161...\n52      joy  https://twitter.com/IamSolanky/status/12671221...\n53    anger  https://twitter.com/MaaKi_Aankh/status/1266788...",
      "text/html": "<div>\n<style scoped>\n    .dataframe tbody tr th:only-of-type {\n        vertical-align: middle;\n    }\n\n    .dataframe tbody tr th {\n        vertical-align: top;\n    }\n\n    .dataframe thead th {\n        text-align: right;\n    }\n</style>\n<table border=\"1\" class=\"dataframe\">\n  <thead>\n    <tr style=\"text-align: right;\">\n      <th></th>\n      <th>emotion</th>\n      <th>link</th>\n    </tr>\n  </thead>\n  <tbody>\n    <tr>\n      <th>0</th>\n      <td>joy</td>\n      <td>https://twitter.com/DirectorMms/status/1273237...</td>\n    </tr>\n    <tr>\n      <th>1</th>\n      <td>joy</td>\n      <td>https://twitter.com/Zafirsyed93/status/1272947...</td>\n    </tr>\n    <tr>\n      <th>2</th>\n      <td>sadness</td>\n      <td>https://twitter.com/DirectorMms/status/1272835...</td>\n    </tr>\n    <tr>\n      <th>3</th>\n      <td>joy</td>\n      <td>https://twitter.com/DirectorMms/status/1272472...</td>\n    </tr>\n    <tr>\n      <th>4</th>\n      <td>joy</td>\n      <td>https://twitter.com/deepesh9189/status/1272026...</td>\n    </tr>\n    <tr>\n      <th>5</th>\n      <td>anger</td>\n      <td>https://twitter.com/anil_lulla/status/12720206...</td>\n    </tr>\n    <tr>\n      <th>6</th>\n      <td>anger</td>\n      <td>https://twitter.com/PrabhuKeDarshan/status/127...</td>\n    </tr>\n    <tr>\n      <th>7</th>\n      <td>joy</td>\n      <td>https://twitter.com/bloggerjessie/status/12716...</td>\n    </tr>\n    <tr>\n      <th>8</th>\n      <td>sadness</td>\n      <td>https://twitter.com/ABaradwaj/status/127168191...</td>\n    </tr>\n    <tr>\n      <th>9</th>\n      <td>sadness</td>\n      <td>https://twitter.com/AmithPawar13/status/127146...</td>\n    </tr>\n    <tr>\n      <th>10</th>\n      <td>joy</td>\n      <td>https://twitter.com/DirectorMms/status/1271400...</td>\n    </tr>\n    <tr>\n      <th>11</th>\n      <td>sadness</td>\n      <td>https://twitter.com/SportNext1/status/12713054...</td>\n    </tr>\n    <tr>\n      <th>12</th>\n      <td>joy</td>\n      <td>https://twitter.com/EnvoyNgo/status/1271125248...</td>\n    </tr>\n    <tr>\n      <th>13</th>\n      <td>joy</td>\n      <td>https://twitter.com/lasya24281664/status/12710...</td>\n    </tr>\n    <tr>\n      <th>14</th>\n      <td>joy</td>\n      <td>https://twitter.com/DirectorMms/status/1271051...</td>\n    </tr>\n    <tr>\n      <th>15</th>\n      <td>disgust</td>\n      <td>https://twitter.com/mahmood_saberi/status/1270...</td>\n    </tr>\n    <tr>\n      <th>16</th>\n      <td>joy</td>\n      <td>https://twitter.com/GautamGada1/status/1270934...</td>\n    </tr>\n    <tr>\n      <th>17</th>\n      <td>anger</td>\n      <td>https://twitter.com/skumara003d/status/1270696...</td>\n    </tr>\n    <tr>\n      <th>18</th>\n      <td>fear</td>\n      <td>https://twitter.com/BilalJaiHind/status/127038...</td>\n    </tr>\n    <tr>\n      <th>19</th>\n      <td>joy</td>\n      <td>https://twitter.com/DirectorMms/status/1270306...</td>\n    </tr>\n    <tr>\n      <th>20</th>\n      <td>joy</td>\n      <td>https://twitter.com/IndiaToday/status/12700090...</td>\n    </tr>\n    <tr>\n      <th>21</th>\n      <td>anger</td>\n      <td>https://twitter.com/the_real_Leemi/status/1269...</td>\n    </tr>\n    <tr>\n      <th>22</th>\n      <td>joy</td>\n      <td>https://twitter.com/rohini_mohan/status/126990...</td>\n    </tr>\n    <tr>\n      <th>23</th>\n      <td>anger</td>\n      <td>https://twitter.com/sheshagiri_pk/status/12698...</td>\n    </tr>\n    <tr>\n      <th>24</th>\n      <td>anger</td>\n      <td>https://twitter.com/gupta__a/status/1269818611...</td>\n    </tr>\n    <tr>\n      <th>25</th>\n      <td>joy</td>\n      <td>https://twitter.com/CentreStandView/status/126...</td>\n    </tr>\n    <tr>\n      <th>26</th>\n      <td>joy</td>\n      <td>https://twitter.com/fyxbuddy/status/1269175338...</td>\n    </tr>\n    <tr>\n      <th>27</th>\n      <td>joy</td>\n      <td>https://twitter.com/fyxbuddy/status/1269175209...</td>\n    </tr>\n    <tr>\n      <th>28</th>\n      <td>joy</td>\n      <td>https://twitter.com/fyxbuddy/status/1269175077...</td>\n    </tr>\n    <tr>\n      <th>29</th>\n      <td>joy</td>\n      <td>https://twitter.com/fyxbuddy/status/1269174969...</td>\n    </tr>\n    <tr>\n      <th>30</th>\n      <td>joy</td>\n      <td>https://twitter.com/fyxbuddy/status/1269174831...</td>\n    </tr>\n    <tr>\n      <th>31</th>\n      <td>joy</td>\n      <td>https://twitter.com/fyxbuddy/status/1269174685...</td>\n    </tr>\n    <tr>\n      <th>32</th>\n      <td>joy</td>\n      <td>https://twitter.com/signorperi/status/12689108...</td>\n    </tr>\n    <tr>\n      <th>33</th>\n      <td>anger</td>\n      <td>https://twitter.com/rightangleprop/status/1268...</td>\n    </tr>\n    <tr>\n      <th>34</th>\n      <td>joy</td>\n      <td>https://twitter.com/rightangleprop/status/1268...</td>\n    </tr>\n    <tr>\n      <th>35</th>\n      <td>joy</td>\n      <td>https://twitter.com/deepakgurunath/status/1268...</td>\n    </tr>\n    <tr>\n      <th>36</th>\n      <td>joy</td>\n      <td>https://twitter.com/princess_anshu/status/1268...</td>\n    </tr>\n    <tr>\n      <th>37</th>\n      <td>joy</td>\n      <td>https://twitter.com/contact_doers/status/12684...</td>\n    </tr>\n    <tr>\n      <th>38</th>\n      <td>sadness</td>\n      <td>https://twitter.com/SitamMoharana/status/12683...</td>\n    </tr>\n    <tr>\n      <th>39</th>\n      <td>joy</td>\n      <td>https://twitter.com/VipinVijayNair/status/1267...</td>\n    </tr>\n    <tr>\n      <th>40</th>\n      <td>joy</td>\n      <td>https://twitter.com/nandini1058/status/1267898...</td>\n    </tr>\n    <tr>\n      <th>41</th>\n      <td>fear</td>\n      <td>https://twitter.com/IamSolanky/status/12678753...</td>\n    </tr>\n    <tr>\n      <th>42</th>\n      <td>disgust</td>\n      <td>https://twitter.com/koolmayur/status/126785612...</td>\n    </tr>\n    <tr>\n      <th>43</th>\n      <td>joy</td>\n      <td>https://twitter.com/Onerupee2015/status/126772...</td>\n    </tr>\n    <tr>\n      <th>44</th>\n      <td>sadness</td>\n      <td>https://twitter.com/UWCforYouth/status/1267691...</td>\n    </tr>\n    <tr>\n      <th>45</th>\n      <td>anger</td>\n      <td>https://twitter.com/SharonThambala/status/1267...</td>\n    </tr>\n    <tr>\n      <th>46</th>\n      <td>joy</td>\n      <td>https://twitter.com/SharonThambala/status/1267...</td>\n    </tr>\n    <tr>\n      <th>47</th>\n      <td>anger</td>\n      <td>https://twitter.com/vedvaghela/status/12675390...</td>\n    </tr>\n    <tr>\n      <th>48</th>\n      <td>anger</td>\n      <td>https://twitter.com/babu_babuty563/status/1267...</td>\n    </tr>\n    <tr>\n      <th>49</th>\n      <td>joy</td>\n      <td>https://twitter.com/4700BCPopcorn/status/12673...</td>\n    </tr>\n    <tr>\n      <th>50</th>\n      <td>joy</td>\n      <td>https://twitter.com/_shailesh_gupta/status/126...</td>\n    </tr>\n    <tr>\n      <th>51</th>\n      <td>anger</td>\n      <td>https://twitter.com/Redfish18/status/126731161...</td>\n    </tr>\n    <tr>\n      <th>52</th>\n      <td>joy</td>\n      <td>https://twitter.com/IamSolanky/status/12671221...</td>\n    </tr>\n    <tr>\n      <th>53</th>\n      <td>anger</td>\n      <td>https://twitter.com/MaaKi_Aankh/status/1266788...</td>\n    </tr>\n  </tbody>\n</table>\n</div>"
     },
     "metadata": {},
     "execution_count": 61
    }
   ],
   "source": [
    "output"
   ]
  },
  {
   "cell_type": "code",
   "execution_count": 64,
   "metadata": {},
   "outputs": [
    {
     "output_type": "execute_result",
     "data": {
      "text/plain": "Index(['id', 'conversation_id', 'created_at', 'date', 'time', 'timezone',\n       'user_id', 'username', 'name', 'place', 'tweet', 'mentions', 'urls',\n       'photos', 'replies_count', 'retweets_count', 'likes_count', 'hashtags',\n       'cashtags', 'link', 'retweet', 'quote_url', 'video', 'near', 'geo',\n       'source', 'user_rt_id', 'user_rt', 'retweet_id', 'reply_to',\n       'retweet_date', 'translate', 'trans_src', 'trans_dest'],\n      dtype='object')"
     },
     "metadata": {},
     "execution_count": 64
    }
   ],
   "source": [
    "df_bangalore_raw.columns"
   ]
  },
  {
   "cell_type": "code",
   "execution_count": 65,
   "metadata": {},
   "outputs": [
    {
     "output_type": "execute_result",
     "data": {
      "text/plain": "                                                 link  \\\n0   https://twitter.com/DirectorMms/status/1273237...   \n1   https://twitter.com/Zafirsyed93/status/1272947...   \n2   https://twitter.com/DirectorMms/status/1272835...   \n3   https://twitter.com/DirectorMms/status/1272472...   \n4   https://twitter.com/deepesh9189/status/1272026...   \n..                                                ...   \n57  https://twitter.com/_shailesh_gupta/status/126...   \n58  https://twitter.com/Redfish18/status/126731161...   \n59  https://twitter.com/NiftyNews2/status/12671610...   \n60  https://twitter.com/IamSolanky/status/12671221...   \n61  https://twitter.com/MaaKi_Aankh/status/1266788...   \n\n                                                tweet  \n0   Start your weekend early,  Pamper yourself wit...  \n1   This is the #NewNormal\\n https://www.instagram...  \n2   Save big time when you book a Salon Appointmen...  \n3   A good look is not always about the attire you...  \n4   @DDNewslive #Unlock1.0Challenge \\nName: Mukund...  \n..                                                ...  \n57  Hi @SonuSood, I am Founder & CEO of @yolobusin...  \n58  To be or not to be. That is the question. \\n\\n...  \n59  NIFTY PLAN - 1st JUNE. Link below. #nifty #nif...  \n60  For all those who are traveling to #Bangalore ...  \n61  People -  #Unlock1 me ye khulega , wo khulega....  \n\n[62 rows x 2 columns]",
      "text/html": "<div>\n<style scoped>\n    .dataframe tbody tr th:only-of-type {\n        vertical-align: middle;\n    }\n\n    .dataframe tbody tr th {\n        vertical-align: top;\n    }\n\n    .dataframe thead th {\n        text-align: right;\n    }\n</style>\n<table border=\"1\" class=\"dataframe\">\n  <thead>\n    <tr style=\"text-align: right;\">\n      <th></th>\n      <th>link</th>\n      <th>tweet</th>\n    </tr>\n  </thead>\n  <tbody>\n    <tr>\n      <th>0</th>\n      <td>https://twitter.com/DirectorMms/status/1273237...</td>\n      <td>Start your weekend early,  Pamper yourself wit...</td>\n    </tr>\n    <tr>\n      <th>1</th>\n      <td>https://twitter.com/Zafirsyed93/status/1272947...</td>\n      <td>This is the #NewNormal\\n https://www.instagram...</td>\n    </tr>\n    <tr>\n      <th>2</th>\n      <td>https://twitter.com/DirectorMms/status/1272835...</td>\n      <td>Save big time when you book a Salon Appointmen...</td>\n    </tr>\n    <tr>\n      <th>3</th>\n      <td>https://twitter.com/DirectorMms/status/1272472...</td>\n      <td>A good look is not always about the attire you...</td>\n    </tr>\n    <tr>\n      <th>4</th>\n      <td>https://twitter.com/deepesh9189/status/1272026...</td>\n      <td>@DDNewslive #Unlock1.0Challenge \\nName: Mukund...</td>\n    </tr>\n    <tr>\n      <th>...</th>\n      <td>...</td>\n      <td>...</td>\n    </tr>\n    <tr>\n      <th>57</th>\n      <td>https://twitter.com/_shailesh_gupta/status/126...</td>\n      <td>Hi @SonuSood, I am Founder &amp; CEO of @yolobusin...</td>\n    </tr>\n    <tr>\n      <th>58</th>\n      <td>https://twitter.com/Redfish18/status/126731161...</td>\n      <td>To be or not to be. That is the question. \\n\\n...</td>\n    </tr>\n    <tr>\n      <th>59</th>\n      <td>https://twitter.com/NiftyNews2/status/12671610...</td>\n      <td>NIFTY PLAN - 1st JUNE. Link below. #nifty #nif...</td>\n    </tr>\n    <tr>\n      <th>60</th>\n      <td>https://twitter.com/IamSolanky/status/12671221...</td>\n      <td>For all those who are traveling to #Bangalore ...</td>\n    </tr>\n    <tr>\n      <th>61</th>\n      <td>https://twitter.com/MaaKi_Aankh/status/1266788...</td>\n      <td>People -  #Unlock1 me ye khulega , wo khulega....</td>\n    </tr>\n  </tbody>\n</table>\n<p>62 rows × 2 columns</p>\n</div>"
     },
     "metadata": {},
     "execution_count": 65
    }
   ],
   "source": [
    "df_bangalore_raw[['link', 'tweet']]"
   ]
  },
  {
   "cell_type": "code",
   "execution_count": 72,
   "metadata": {},
   "outputs": [],
   "source": [
    "output = pd.merge(output, df_bangalore_raw[['link', 'tweet']], on='link')"
   ]
  },
  {
   "cell_type": "code",
   "execution_count": 73,
   "metadata": {},
   "outputs": [
    {
     "output_type": "execute_result",
     "data": {
      "text/plain": "                                                tweet  emotion\n0   Start your weekend early,  Pamper yourself wit...      joy\n1   This is the #NewNormal\\n https://www.instagram...      joy\n2   Save big time when you book a Salon Appointmen...  sadness\n3   A good look is not always about the attire you...      joy\n4   @DDNewslive #Unlock1.0Challenge \\nName: Mukund...      joy\n5   Am @Shell shocked! Normal #petrolPrice has cro...    anger\n6   Restaurants trying different ways to reassure ...    anger\n7   The new normal “Life”\\n.\\n.\\n#aatmanirbhar #lo...      joy\n8   News channel talking about unlock in Bengaluru...  sadness\n9   Indian Dads are too savage. Don’t mess with th...  sadness\n10  MakeMyStyles - Makes you feel yourself, relaxe...      joy\n11  India's tour of Sri Lanka - for three ODIs and...  sadness\n12  The new Normal is to take precautions and stay...      joy\n13  Yeeaaayyy!!! And finally everything is open, u...      joy\n14  Now Maintain Social Distancing with Make My St...      joy\n15  dont spray droplets in my dosa..dining out in ...  disgust\n16  Quarantine ward life of gujjus \\n\\nGujjus can ...      joy\n17  Crazy!👌👌👌\\nSambar dip aa illa separate aa?? \\n...    anger\n18  @RahmathGroup did not stop after lockdown 4, i...     fear\n19  Few simple steps and you’ll find yourself at y...      joy\n20  .@nolanentreeo visits a restaurant, The Bangal...      joy\n21  Can we get more stupid than this?\\nGlass parti...    anger\n22  Glass partitions between diners in Bangalore. ...      joy\n23  #unlock1 started and traffic is back in Silico...    anger\n24  My Experience driving from #Hyderabad to #Bang...    anger\n25  It's nice to know that Bangalore airport is do...      joy\n26  Book your ride through WhatsApp by contacting ...      joy\n27  Book your ride through WhatsApp by contacting ...      joy\n28  Book your ride through WhatsApp by contacting ...      joy\n29  Book your ride through WhatsApp by contacting ...      joy\n30  Book your ride through WhatsApp by contacting ...      joy\n31  Book your ride through WhatsApp by contacting ...      joy\n32  Shantiniketan mall lit up after almost 3 long ...      joy\n33  Earth provides enough to satisfy every man’s n...    anger\n34  It is important to maintain physical distancin...      joy\n35  In Unlock 1.0 I will go to NANDI HILLS with my...      joy\n36  In Unlock 1.0 I will go to NANDI HILLS with my...      joy\n37  Expert advice on the vehicle maintenance durin...      joy\n38  Odia movie actor brings back labourer\"s family...  sadness\n39  Bangalore has proved to be one of the best hea...      joy\n40  Loving my curly hair 🌠🌠\\n. \\n. \\n. \\n#quaranti...      joy\n41  While traveling back to Bangalore today, notic...     fear\n42  @myntra @Flipkart why there r no deliveries fr...  disgust\n43  Seva Sindhu portal is updated with new rules #...      joy\n44  The GDP growth of India in the previous Quarte...  sadness\n45  Domestic returnees fuel rise in K'taka COVID c...    anger\n46  B'luru slowly returning to normal amid phased ...      joy\n47  In unlock 1.0 I will be going to Bangalore wit...    anger\n48  K #Unlock1\\nRameshBabu, Bangalore.\\nKerala Kar...    anger\n49  #Delhi #Gurgaon #Bangalore #Hyderabad #Mumbai ...      joy\n50  Hi @SonuSood, I am Founder & CEO of @yolobusin...      joy\n51  To be or not to be. That is the question. \\n\\n...    anger\n52  For all those who are traveling to #Bangalore ...      joy\n53  People -  #Unlock1 me ye khulega , wo khulega....    anger",
      "text/html": "<div>\n<style scoped>\n    .dataframe tbody tr th:only-of-type {\n        vertical-align: middle;\n    }\n\n    .dataframe tbody tr th {\n        vertical-align: top;\n    }\n\n    .dataframe thead th {\n        text-align: right;\n    }\n</style>\n<table border=\"1\" class=\"dataframe\">\n  <thead>\n    <tr style=\"text-align: right;\">\n      <th></th>\n      <th>tweet</th>\n      <th>emotion</th>\n    </tr>\n  </thead>\n  <tbody>\n    <tr>\n      <th>0</th>\n      <td>Start your weekend early,  Pamper yourself wit...</td>\n      <td>joy</td>\n    </tr>\n    <tr>\n      <th>1</th>\n      <td>This is the #NewNormal\\n https://www.instagram...</td>\n      <td>joy</td>\n    </tr>\n    <tr>\n      <th>2</th>\n      <td>Save big time when you book a Salon Appointmen...</td>\n      <td>sadness</td>\n    </tr>\n    <tr>\n      <th>3</th>\n      <td>A good look is not always about the attire you...</td>\n      <td>joy</td>\n    </tr>\n    <tr>\n      <th>4</th>\n      <td>@DDNewslive #Unlock1.0Challenge \\nName: Mukund...</td>\n      <td>joy</td>\n    </tr>\n    <tr>\n      <th>5</th>\n      <td>Am @Shell shocked! Normal #petrolPrice has cro...</td>\n      <td>anger</td>\n    </tr>\n    <tr>\n      <th>6</th>\n      <td>Restaurants trying different ways to reassure ...</td>\n      <td>anger</td>\n    </tr>\n    <tr>\n      <th>7</th>\n      <td>The new normal “Life”\\n.\\n.\\n#aatmanirbhar #lo...</td>\n      <td>joy</td>\n    </tr>\n    <tr>\n      <th>8</th>\n      <td>News channel talking about unlock in Bengaluru...</td>\n      <td>sadness</td>\n    </tr>\n    <tr>\n      <th>9</th>\n      <td>Indian Dads are too savage. Don’t mess with th...</td>\n      <td>sadness</td>\n    </tr>\n    <tr>\n      <th>10</th>\n      <td>MakeMyStyles - Makes you feel yourself, relaxe...</td>\n      <td>joy</td>\n    </tr>\n    <tr>\n      <th>11</th>\n      <td>India's tour of Sri Lanka - for three ODIs and...</td>\n      <td>sadness</td>\n    </tr>\n    <tr>\n      <th>12</th>\n      <td>The new Normal is to take precautions and stay...</td>\n      <td>joy</td>\n    </tr>\n    <tr>\n      <th>13</th>\n      <td>Yeeaaayyy!!! And finally everything is open, u...</td>\n      <td>joy</td>\n    </tr>\n    <tr>\n      <th>14</th>\n      <td>Now Maintain Social Distancing with Make My St...</td>\n      <td>joy</td>\n    </tr>\n    <tr>\n      <th>15</th>\n      <td>dont spray droplets in my dosa..dining out in ...</td>\n      <td>disgust</td>\n    </tr>\n    <tr>\n      <th>16</th>\n      <td>Quarantine ward life of gujjus \\n\\nGujjus can ...</td>\n      <td>joy</td>\n    </tr>\n    <tr>\n      <th>17</th>\n      <td>Crazy!👌👌👌\\nSambar dip aa illa separate aa?? \\n...</td>\n      <td>anger</td>\n    </tr>\n    <tr>\n      <th>18</th>\n      <td>@RahmathGroup did not stop after lockdown 4, i...</td>\n      <td>fear</td>\n    </tr>\n    <tr>\n      <th>19</th>\n      <td>Few simple steps and you’ll find yourself at y...</td>\n      <td>joy</td>\n    </tr>\n    <tr>\n      <th>20</th>\n      <td>.@nolanentreeo visits a restaurant, The Bangal...</td>\n      <td>joy</td>\n    </tr>\n    <tr>\n      <th>21</th>\n      <td>Can we get more stupid than this?\\nGlass parti...</td>\n      <td>anger</td>\n    </tr>\n    <tr>\n      <th>22</th>\n      <td>Glass partitions between diners in Bangalore. ...</td>\n      <td>joy</td>\n    </tr>\n    <tr>\n      <th>23</th>\n      <td>#unlock1 started and traffic is back in Silico...</td>\n      <td>anger</td>\n    </tr>\n    <tr>\n      <th>24</th>\n      <td>My Experience driving from #Hyderabad to #Bang...</td>\n      <td>anger</td>\n    </tr>\n    <tr>\n      <th>25</th>\n      <td>It's nice to know that Bangalore airport is do...</td>\n      <td>joy</td>\n    </tr>\n    <tr>\n      <th>26</th>\n      <td>Book your ride through WhatsApp by contacting ...</td>\n      <td>joy</td>\n    </tr>\n    <tr>\n      <th>27</th>\n      <td>Book your ride through WhatsApp by contacting ...</td>\n      <td>joy</td>\n    </tr>\n    <tr>\n      <th>28</th>\n      <td>Book your ride through WhatsApp by contacting ...</td>\n      <td>joy</td>\n    </tr>\n    <tr>\n      <th>29</th>\n      <td>Book your ride through WhatsApp by contacting ...</td>\n      <td>joy</td>\n    </tr>\n    <tr>\n      <th>30</th>\n      <td>Book your ride through WhatsApp by contacting ...</td>\n      <td>joy</td>\n    </tr>\n    <tr>\n      <th>31</th>\n      <td>Book your ride through WhatsApp by contacting ...</td>\n      <td>joy</td>\n    </tr>\n    <tr>\n      <th>32</th>\n      <td>Shantiniketan mall lit up after almost 3 long ...</td>\n      <td>joy</td>\n    </tr>\n    <tr>\n      <th>33</th>\n      <td>Earth provides enough to satisfy every man’s n...</td>\n      <td>anger</td>\n    </tr>\n    <tr>\n      <th>34</th>\n      <td>It is important to maintain physical distancin...</td>\n      <td>joy</td>\n    </tr>\n    <tr>\n      <th>35</th>\n      <td>In Unlock 1.0 I will go to NANDI HILLS with my...</td>\n      <td>joy</td>\n    </tr>\n    <tr>\n      <th>36</th>\n      <td>In Unlock 1.0 I will go to NANDI HILLS with my...</td>\n      <td>joy</td>\n    </tr>\n    <tr>\n      <th>37</th>\n      <td>Expert advice on the vehicle maintenance durin...</td>\n      <td>joy</td>\n    </tr>\n    <tr>\n      <th>38</th>\n      <td>Odia movie actor brings back labourer\"s family...</td>\n      <td>sadness</td>\n    </tr>\n    <tr>\n      <th>39</th>\n      <td>Bangalore has proved to be one of the best hea...</td>\n      <td>joy</td>\n    </tr>\n    <tr>\n      <th>40</th>\n      <td>Loving my curly hair 🌠🌠\\n. \\n. \\n. \\n#quaranti...</td>\n      <td>joy</td>\n    </tr>\n    <tr>\n      <th>41</th>\n      <td>While traveling back to Bangalore today, notic...</td>\n      <td>fear</td>\n    </tr>\n    <tr>\n      <th>42</th>\n      <td>@myntra @Flipkart why there r no deliveries fr...</td>\n      <td>disgust</td>\n    </tr>\n    <tr>\n      <th>43</th>\n      <td>Seva Sindhu portal is updated with new rules #...</td>\n      <td>joy</td>\n    </tr>\n    <tr>\n      <th>44</th>\n      <td>The GDP growth of India in the previous Quarte...</td>\n      <td>sadness</td>\n    </tr>\n    <tr>\n      <th>45</th>\n      <td>Domestic returnees fuel rise in K'taka COVID c...</td>\n      <td>anger</td>\n    </tr>\n    <tr>\n      <th>46</th>\n      <td>B'luru slowly returning to normal amid phased ...</td>\n      <td>joy</td>\n    </tr>\n    <tr>\n      <th>47</th>\n      <td>In unlock 1.0 I will be going to Bangalore wit...</td>\n      <td>anger</td>\n    </tr>\n    <tr>\n      <th>48</th>\n      <td>K #Unlock1\\nRameshBabu, Bangalore.\\nKerala Kar...</td>\n      <td>anger</td>\n    </tr>\n    <tr>\n      <th>49</th>\n      <td>#Delhi #Gurgaon #Bangalore #Hyderabad #Mumbai ...</td>\n      <td>joy</td>\n    </tr>\n    <tr>\n      <th>50</th>\n      <td>Hi @SonuSood, I am Founder &amp; CEO of @yolobusin...</td>\n      <td>joy</td>\n    </tr>\n    <tr>\n      <th>51</th>\n      <td>To be or not to be. That is the question. \\n\\n...</td>\n      <td>anger</td>\n    </tr>\n    <tr>\n      <th>52</th>\n      <td>For all those who are traveling to #Bangalore ...</td>\n      <td>joy</td>\n    </tr>\n    <tr>\n      <th>53</th>\n      <td>People -  #Unlock1 me ye khulega , wo khulega....</td>\n      <td>anger</td>\n    </tr>\n  </tbody>\n</table>\n</div>"
     },
     "metadata": {},
     "execution_count": 73
    }
   ],
   "source": [
    "output[['tweet', 'emotion']]"
   ]
  },
  {
   "cell_type": "code",
   "execution_count": 88,
   "metadata": {},
   "outputs": [],
   "source": [
    "processed_list = [df_bangalore, df_chennai, df_hyderabad, df_kolkata, df_mumbai]\n",
    "raw_list = [df_bangalore_raw, df_chennai_raw, df_hyderabad_raw, df_kolkata_raw, df_mumbai_raw]"
   ]
  },
  {
   "cell_type": "code",
   "execution_count": 89,
   "metadata": {},
   "outputs": [],
   "source": [
    "emotion_dict = {0: 'anger', 1: 'disgust', 2: 'fear', 3: 'joy', 4: 'sadness'}\n",
    "\n",
    "final_output = pd.DataFrame()\n",
    "\n",
    "for i in range(5):\n",
    "    output = pd.DataFrame()\n",
    "\n",
    "    for row in processed_list[i].values:\n",
    "        output = output.append({'link': row[0], 'emotion': emotion_dict[np.argmax(row[1:])]}, ignore_index=True)\n",
    "\n",
    "    output = pd.merge(output, raw_list[i][['link', 'tweet']], on='link')\n",
    "    final_output = pd.concat([final_output, output[['tweet', 'emotion']]], axis=0, ignore_index=True)"
   ]
  },
  {
   "cell_type": "code",
   "execution_count": 90,
   "metadata": {},
   "outputs": [
    {
     "output_type": "execute_result",
     "data": {
      "text/plain": "                                                 tweet  emotion\n0    Start your weekend early,  Pamper yourself wit...      joy\n1    This is the #NewNormal\\n https://www.instagram...      joy\n2    Save big time when you book a Salon Appointmen...  sadness\n3    A good look is not always about the attire you...      joy\n4    @DDNewslive #Unlock1.0Challenge \\nName: Mukund...      joy\n..                                                 ...      ...\n691   https://mumbaimirror.indiatimes.com/coronavir...    anger\n692  The New Normal #mumbai #monday #MondayBlues #M...      joy\n693  Mumbai on Work mode. #Unlock1 #COVID19India pi...    anger\n694  #unlock2\\n#Unlock1\\n\\n1) people offering praye...  sadness\n695  Is our #MUMBAI safe?\\nThe Real Mumbai start, N...      joy\n\n[696 rows x 2 columns]",
      "text/html": "<div>\n<style scoped>\n    .dataframe tbody tr th:only-of-type {\n        vertical-align: middle;\n    }\n\n    .dataframe tbody tr th {\n        vertical-align: top;\n    }\n\n    .dataframe thead th {\n        text-align: right;\n    }\n</style>\n<table border=\"1\" class=\"dataframe\">\n  <thead>\n    <tr style=\"text-align: right;\">\n      <th></th>\n      <th>tweet</th>\n      <th>emotion</th>\n    </tr>\n  </thead>\n  <tbody>\n    <tr>\n      <th>0</th>\n      <td>Start your weekend early,  Pamper yourself wit...</td>\n      <td>joy</td>\n    </tr>\n    <tr>\n      <th>1</th>\n      <td>This is the #NewNormal\\n https://www.instagram...</td>\n      <td>joy</td>\n    </tr>\n    <tr>\n      <th>2</th>\n      <td>Save big time when you book a Salon Appointmen...</td>\n      <td>sadness</td>\n    </tr>\n    <tr>\n      <th>3</th>\n      <td>A good look is not always about the attire you...</td>\n      <td>joy</td>\n    </tr>\n    <tr>\n      <th>4</th>\n      <td>@DDNewslive #Unlock1.0Challenge \\nName: Mukund...</td>\n      <td>joy</td>\n    </tr>\n    <tr>\n      <th>...</th>\n      <td>...</td>\n      <td>...</td>\n    </tr>\n    <tr>\n      <th>691</th>\n      <td>https://mumbaimirror.indiatimes.com/coronavir...</td>\n      <td>anger</td>\n    </tr>\n    <tr>\n      <th>692</th>\n      <td>The New Normal #mumbai #monday #MondayBlues #M...</td>\n      <td>joy</td>\n    </tr>\n    <tr>\n      <th>693</th>\n      <td>Mumbai on Work mode. #Unlock1 #COVID19India pi...</td>\n      <td>anger</td>\n    </tr>\n    <tr>\n      <th>694</th>\n      <td>#unlock2\\n#Unlock1\\n\\n1) people offering praye...</td>\n      <td>sadness</td>\n    </tr>\n    <tr>\n      <th>695</th>\n      <td>Is our #MUMBAI safe?\\nThe Real Mumbai start, N...</td>\n      <td>joy</td>\n    </tr>\n  </tbody>\n</table>\n<p>696 rows × 2 columns</p>\n</div>"
     },
     "metadata": {},
     "execution_count": 90
    }
   ],
   "source": [
    "final_output"
   ]
  },
  {
   "cell_type": "code",
   "execution_count": 91,
   "metadata": {},
   "outputs": [],
   "source": [
    "final_output.to_csv('training_data_for_custom_model.csv', index=False)"
   ]
  }
 ],
 "metadata": {
  "language_info": {
   "codemirror_mode": {
    "name": "ipython",
    "version": 3
   },
   "file_extension": ".py",
   "mimetype": "text/x-python",
   "name": "python",
   "nbconvert_exporter": "python",
   "pygments_lexer": "ipython3",
   "version": "3.8.3-final"
  },
  "orig_nbformat": 2,
  "kernelspec": {
   "name": "python3",
   "display_name": "Python 3"
  }
 },
 "nbformat": 4,
 "nbformat_minor": 2
}