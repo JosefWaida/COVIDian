{
 "cells": [
  {
   "cell_type": "code",
   "execution_count": 5,
   "metadata": {},
   "outputs": [],
   "source": [
    "import twint\n",
    "import csv"
   ]
  },
  {
   "cell_type": "code",
   "execution_count": 7,
   "metadata": {
    "tags": [
     "outputPrepend"
    ]
   },
   "outputs": [
    {
     "output_type": "stream",
     "name": "stdout",
     "text": "han #ThursdayThoughts #thursdaymorning #thursdayvibes #ThursdayMotivation #Bollywood #bollywoodactress #fashion #music #news #IndiaFightsCorona #India #Mumbai #coronavirus #Covid_19 #CycloneAmphan #CycloneAmphanUpdate pic.twitter.com/nckPrnSR2l\n1263233113410453504 2020-05-20 15:20:18 PDT <sanafarhaad> #stayhome #staysafe #stayhealthy #mumbai #coronavirus #healtylifestyle #boostimmunesystem #hijama #besafe #indiafightscorona #qurantine #coronavirus #gocorona #prayforall #vitaminc #yoga #standtogether #kurla #kurlawest #coronamumbai #drinkwater #dontpanic #covid19 pic.twitter.com/QDpo2UP0H3\n1263231537257910272 2020-05-20 15:14:02 PDT <twiiit_sam> 💐🙏💪🏻👍🇮🇳 #coronavirusindia #IndiaFightsCorona #Coronavirus #India #COVID19 #StayHomeStaySafe #maharashtra #Mumbai #Pune #Kolhapur #Sangali #Satara #Nagpur #Nashik #Dhule #Latur #Ratnagiri #Solapur #Naded #Gadchiroli #Miraj #Kolhapur\n1263140087543431168 2020-05-20 09:10:39 PDT <Hywin_ARTZ> Follow @hywin_artz #covid #covidindia #corona #india #coronavirus #d #cov #coronamemes #mumbai #coronavirusoutbreak #stayhome #coronaindia #indiafightscorona #news #repost #narendramodi #bollywood #italia #datri…  https://www.instagram.com/p/CAand8Jp8h0/?igshid=rsguys9qs1u4 …\n1263135971547070464 2020-05-20 08:54:18 PDT <twiiit_sam> 💐🙏💪🏻👍🇮🇳 💐🙏💪🏻👍🇮🇳 #coronavirusindia #IndiaFightsCorona #Coronavirus #India #COVID19 #StayHomeStaySafe #maharashtra #Mumbai #Pune #Kolhapur #Sangali #Satara #Nagpur #Nashik #Dhule #Latur #Ratnagiri #Solapur #Naded #Gadchiroli #Miraj #Kolhapur\n1263130393353617414 2020-05-20 08:32:08 PDT <WINNEWS_IN> #மும்பையில் இன்று மேலும் புதிதாக 1372 பேருக்கு கொரோனா தொற்று உறுதி செய்யப்பட்டுள்ளது   மும்பையில் கொரோனா தொற்றால் பாதிக்கப்பட்டவர்களின் எண்ணிக்கை 23935 ஆக அதிகரிப்பு - சுகாதாரத்துறை #Corona #CoronaVirus #Covid19 #IndiafightsCorona #stayhome #WinNews #Mumbai\n1263089556800274433 2020-05-20 05:49:52 PDT <RishikeshTweets>  https://www.firstpost.com/health/coronavirus-outbreak-dont-panic-over-centres-prediction-of-6-5-lakh-patients-in-mumbai-by-15-may-says-maharashtra-health-minister-8290651.html …  20 May today! Prediction 6.5L in Mumbai  Actual: MAHARASHTRA 37K approx Mumbai 22K approx Well done MAHARASHTRA! Stay home Stay safe.  #maharashtra #coronavirus @OfficeofUT @rajeshtope11 @PMOIndia #IndiaFightsCorona #muskurayegaindia\n1262983961686540289 2020-05-19 22:50:16 PDT <AHARMumbai> Hotels in Maharashtra get nod to sell off liquor stock, but not in Mumbai #indiafightscorona #covid19 #lockdown4 #stayathome #coronavirus @CMOMaharashtra @uddhavthackeray @Dwalsepatil @CPMumbaiPolice @AUThackeray @PMOIndia https://economictimes.indiatimes.com/news/politics-and-nation/hotels-in-maharashtra-get-nod-to-sell-off-liquor-stock-but-not-in-mumbai/articleshow/75834967.cms?utm_medium=social&utm_source=twitter&utm_campaign=postfity&utm_content=postfity77d05 …\n1262965708604014598 2020-05-19 21:37:44 PDT <forgetotherss> #majdoor #labour #lockdown #covid19 #wfh #coronavirus #coronamemes #indiafightscorona #migrantworkers #migrants #bihar #up #rajasthan #ahemdabad #chennai #mumbai #aurangabad #specialtrain #uttarakhand #nainital #almora #poetrygram #poetrysociety #doctors #stayhome #staysafe pic.twitter.com/9ncVV0ayrx\n1262780609232953344 2020-05-19 09:22:13 PDT <pennewstweet> Covid-19: 11 test positive in Kalaburagi #Kalaburagi #Mumbai #corona #CoronaCrisis #coronavirus #CoronavirusOutbreak #CoronavirusPandemic #CoronaPandemic #COVID19outbreak #COVID #IndiaFightsCorona  https://bit.ly/2XbBOhF \n1262754560071725059 2020-05-19 07:38:42 PDT <pennewstweet> Lockdown: CISF, CRPF reinforcement comes to aid of Mumbai police #CISF #CRPF #corona #CoronaCrisis #coronavirus #CoronavirusOutbreak #CoronavirusPandemic #CoronaPandemic #COVID19outbreak #COVID #IndiaFightsCorona  https://bit.ly/2AJlDRj \n1262691499453681666 2020-05-19 03:28:07 PDT <AHARMumbai> Udupi hotels in Mumbai hit hard due to coronavirus lockdown  #indiafightscorona #covid19 #lockdown4 #stayathome #coronavirus  https://www.deccanherald.com/business/udupi-hotels-in-mumbai-hit-hard-due-to-coronavirus-lockdown-838960.html?utm_medium=social&utm_source=twitter&utm_campaign=postfity&utm_content=postfitye7fd6 …\n1262639046750277632 2020-05-18 23:59:42 PDT <dilip123st> If India wants to maintain Corona Virus cases less than 2lakh than there should  be strict lockdown in major cities Delhi, Mumbai, Ahmedabad, Chennai. Even Paramilitary can be deployed also.#IndiaFightsCorona\n1262632643457359874 2020-05-18 23:34:15 PDT <NewMillenniumH2> With the #lockdown extended,we urge you to #StayHome, #Staysafe . #socialdistancing is the only way to #Flattenthecurve #Covid19 #IndiaFightsCorona #hospital #HelpUstoHelpYou #Coronavirus #sanpada #navimumbai #mumbai #ulwe pic.twitter.com/UUaPOtmKnG\n1262622149770010624 2020-05-18 22:52:33 PDT <twiiit_sam> 💐🙏💪🏻👍🇮🇳 #coronavirusindia #IndiaFightsCorona #Coronavirus #India #COVID19 #StayHomeStaySafe #maharashtra #Mumbai #Pune #Kolhapur #Sangali #Satara #Nagpur #Nashik #Dhule #Latur #Ratnagiri #Solapur #Naded #Gadchiroli #Miraj #Kolhapur\n1262621360464912384 2020-05-18 22:49:25 PDT <twiiit_sam> 💐🙏💪🏻👍🇮🇳 #coronavirusindia #IndiaFightsCorona #Coronavirus #India #COVID19 #StayHomeStaySafe #maharashtra #Mumbai #Pune #Kolhapur #Sangali #Satara #Nagpur #Nashik #Dhule #Latur #Ratnagiri #Solapur #Naded #Gadchiroli #Miraj #Kolhapur\n1262605641824169985 2020-05-18 21:46:57 PDT <BigTownPost> #India / #Maharashtra / #Mumbai* Comparison between total cases registered last 15 days. #MumbaiLockdown #coronavirus #Corona #coronavirusuk #COVIDー19 #WarAgainstVirus #FightAgainstCorona #StayAtHome #MaharashtraFightsCorona #IndiaFightsCOVID19 #IndiaFightsCorona  pic.twitter.com/yOaoFyxGIc\n1262401902488309761 2020-05-18 08:17:22 PDT <Indepthcomments> #IndiaFightsCorona So if Chief Ministers are clueless on tackling Coronavirus and bring down deaths the best thing they do is transfer Municipality Commisioner.#Mumbai #Ahmedabad\n1262372929628594177 2020-05-18 06:22:14 PDT <pennewstweet> COVID-19: 62-yr-old dies, tests +ve later in UP's Kushinagar #Kushinagar #Mumbai #CoronaCrisis #coronavirus #CoronavirusOutbreak #CoronavirusPandemic #CoronaPandemic #COVID19outbreak #COVID #IndiaFightsCorona  https://bit.ly/2AwwvBN \n1262299384613498881 2020-05-18 01:30:00 PDT <TbiHindi> #प्रेरक_सोमवार डॉ. दिव्या सिंह कहती हैं, “संकट के समय अगर मैं अपने देश की मदद न कर सकूँ, तो मेरे डॉक्टर होने का क्या मतलब है।”   #Mumbai #CoronaWarriors #COVID19 #CoronaVirus #IndiaFightsCorona #Covid #inspiration #motivation #MondayMotivation https://hindi.thebetterindia.com/37949/mumbai-coronavirus-doctor-left-cushy-life-africa-cut-hair-real-hero-inspiring-india/ …\n1262111380238458882 2020-05-17 13:02:56 PDT <PreetKarnawal1> @DrKumarVishwas No caption needed 😞 @PMOIndia @narendramodi #2020BecauseOfYou #2020ShowedUs #2020worstyear #coronavirus #MigrantWorkers #MigrantLabourersDying #mercy #IndiaFightsCorona #Mumbai #lockdownextension #mondaythoughts #Aatmanirbhar #COVID__19 pic.twitter.com/2kMBIOkjRF\n1261957574217347072 2020-05-17 02:51:46 PDT <PeepingMoon> 'This is the least we can do for our true heroes,' says #SonuSood on arranging buses for #UttarPradesh migrants in Mumbai amid #lockdown @SonuSood #Coronavirus #CoronavirusIndia #IndiaFightsCorona #COVID @SonuSoodFC #LockdownExtended https://www.peepingmoon.com/entertainment-news/news/44874/Sonu-Sood-arranges-buses-for-migrants-of-Uttar-Pradesh-amid-Coronavirus-lockdown-says-will-continue-to-help-as-much-as-I-can.html …\n1261820513267191808 2020-05-16 17:47:08 PDT <hriazsaleem> Maharashtra Crosses 30,000-Mark, Over 18,500 Coronavirus Cases In Mumbai. #Covid_19 #India #IndiaFightsCorona #CoronaVirusUpdate #COVIDIOTS https://www.ndtv.com/india-news/maharashtra-crosses-30-000-mark-with-1-606-coronavirus-cases-in-24-hours-2230013 …\n1261698443275198464 2020-05-16 09:42:04 PDT <twiiit_sam> 💐🇮🇳 #coronavirusindia #IndiaFightsCorona #Coronavirus #India #COVID19 #StayHomeStaySafe #maharashtra #Mumbai #Pune #Kolhapur #Sangali #Satara #Nagpur #Nashik #Dhule #Latur #Ratnagiri #Solapur #Naded #Gadchiroli #Miraj #Kolhapur https://twitter.com/mataonline/status/1261695554360233986 …\n1261696534896230400 2020-05-16 09:34:29 PDT <twiiit_sam> Namaste 💐🙏💪🏻👍🇮🇳 #coronavirusindia #IndiaFightsCorona #Coronavirus #India #COVID19 #StayHomeStaySafe #maharashtra #Mumbai #Pune #Kolhapur #Sangali #Satara #Nagpur #Nashik #Dhule #Latur #Ratnagiri #Solapur #Naded #Gadchiroli #Miraj #Kolhapur\n1261577908021231616 2020-05-16 01:43:06 PDT <giri_ne> #Pranayama Intense Sessions #onlineclasses #coronavirus #Lung Care. #PreventionSavesLives #YogawithGiriji #Yoga #Dombivli #Russia #Mumbai #Thane #NaviMumbai #London #Belgium #Montreal #Toronto #India #IndiaFightsCorona  pic.twitter.com/UoC9lTGEnl\n1261548080090013696 2020-05-15 23:44:35 PDT <twiiit_sam> 💐🙏💪🏻👍🇮🇳 #coronavirusindia #IndiaFightsCorona #Coronavirus #India #COVID19 #StayHomeStaySafe #maharashtra #Mumbai #Pune #Kolhapur #Sangali #Satara #Nagpur #Nashik #Dhule #Latur #Ratnagiri #Solapur #Naded #Gadchiroli #Miraj #Kolhapur\n1261532380650598400 2020-05-15 22:42:12 PDT <imranshaikh_26> ASI Madhukar Mane from Mumbai lost his life to Coronavirus.  May his soul rest in peace. Our thoughts & prayers are with the Mane family. 🙏 @DGPMaharashtra @MumbaiPolice @mybmc #Weareone #CoronaWarriors #IndiaFightsCorona\n1261417188390350848 2020-05-15 15:04:28 PDT <AngholichiGoli> बा बो ... १४ लाख #कोरोना रुग्ण अमेरिकेत असताना हे चित्र. आपण उगाच घाबरतो राव ... होऊन जाऊ दे अश्या र्याल्या... रॅलीज हो ...🕺💃 #AatmaNirbharBano #coronavirus #UninstallTikTok #AtmaNirbharDesh #IndiaFightsCorona #MaharashtraFightsCorona #IndiaFightsCOVID19 #Mumbai #Pune https://twitter.com/realDonaldTrump/status/1261373283536175104 …\n1261396707029336064 2020-05-15 13:43:05 PDT <twiiit_sam> 💐🙏💪🏻👍🇮🇳 #coronavirusindia #IndiaFightsCorona #Coronavirus #India #COVID19 #StayHomeStaySafe #maharashtra #Mumbai #Pune #Kolhapur #Sangali #Satara #Nagpur #Nashik #Dhule #Latur #Ratnagiri #Solapur #Naded #Gadchiroli #Miraj #Kolhapur\n1261396310751457280 2020-05-15 13:41:30 PDT <twiiit_sam> 💐🙏💪🏻👍🇮🇳 💐🙏💪🏻👍🇮🇳 #coronavirusindia #IndiaFightsCorona #Coronavirus #India #COVID19 #StayHomeStaySafe #maharashtra #Mumbai #Pune #Kolhapur #Sangali #Satara #Nagpur #Nashik #Dhule #Latur #Ratnagiri #Solapur #Naded #Gadchiroli #Miraj #Kolhapur\n1261392858495377409 2020-05-15 13:27:47 PDT <twiiit_sam> 💐🙏💪🏻👍🇮🇳 💐🙏💪🏻👍🇮🇳 #coronavirusindia #IndiaFightsCorona #Coronavirus #India #COVID19 #StayHomeStaySafe #maharashtra #Mumbai #Pune #Kolhapur #Sangali #Satara #Nagpur #Nashik #Dhule #Latur #Ratnagiri #Solapur #Naded #Gadchiroli #Miraj #Kolhapur\n1261390928549273600 2020-05-15 13:20:07 PDT <twiiit_sam> 💐🙏😮😔😢 💐🙏💪🏻👍🇮🇳 #coronavirusindia #IndiaFightsCorona #Coronavirus #India #COVID19 #StayHomeStaySafe #maharashtra #Mumbai #Pune #Kolhapur #Sangali #Satara #Nagpur #Nashik #Dhule #Latur #Ratnagiri #Solapur #Naded #Gadchiroli #Miraj #Kolhapur\n1261390630187483136 2020-05-15 13:18:56 PDT <twiiit_sam> 💐🙏💪🏻👍🇮🇳 💐🙏💪🏻👍🇮🇳 #coronavirusindia #IndiaFightsCorona #Coronavirus #India #COVID19 #StayHomeStaySafe #maharashtra #Mumbai #Pune #Kolhapur #Sangali #Satara #Nagpur #Nashik #Dhule #Latur #Ratnagiri #Solapur #Naded #Gadchiroli #Miraj #Kolhapur\n1261381747406565376 2020-05-15 12:43:38 PDT <iamTapanPandya> • #India reports 1,576 new #coronavirus cases and 49 new deaths in #MAHARASHTRA.  - State total : 29,100 cases and 1,068 deaths  In short : HUM NAHI SUDHARENGE !   🙏😐🇮🇳😷 #Mumbai #IndiaFightsCorona #Lockdown4 #COVID19india #Covid19\n1261366045983379458 2020-05-15 11:41:15 PDT <twiiit_sam> 💐🙏💪🏻👍🇮🇳 #coronavirusindia #IndiaFightsCorona #Coronavirus #India #COVID19 #StayHomeStaySafe #maharashtra #Mumbai #Pune #Kolhapur #Sangali #Satara #Nagpur #Nashik #Dhule #Latur #Ratnagiri #Solapur #Naded #Gadchiroli #Miraj #Kolhapur\n1261358234197090304 2020-05-15 11:10:12 PDT <twiiit_sam> 💐🙏💪🏻👍🇮🇳 💐🙏💪🏻👍🇮🇳 #coronavirusindia #IndiaFightsCorona #Coronavirus #India #COVID19 #StayHomeStaySafe #maharashtra #Mumbai #Pune #Kolhapur #Sangali #Satara #Nagpur #Nashik #Dhule #Latur #Ratnagiri #Solapur #Naded #Gadchiroli #Miraj #Kolhapur https://twitter.com/ipskabra/status/1261347950682234880 …\n1261358087689998337 2020-05-15 11:09:37 PDT <twiiit_sam> 💐🙏💪🏻👍🇮🇳 💐🙏💪🏻👍🇮🇳 #coronavirusindia #IndiaFightsCorona #Coronavirus #India #COVID19 #StayHomeStaySafe #maharashtra #Mumbai #Pune #Kolhapur #Sangali #Satara #Nagpur #Nashik #Dhule #Latur #Ratnagiri #Solapur #Naded #Gadchiroli #Miraj #Kolhapur\n1261357806545858567 2020-05-15 11:08:30 PDT <twiiit_sam> Latest update 🦠 💐🇮🇳 #coronavirusindia #IndiaFightsCorona #Coronavirus #India #COVID19 #StayHomeStaySafe #maharashtra #Mumbai #Pune #Kolhapur #Sangali #Satara #Nagpur #Nashik #Dhule #Latur #Ratnagiri #Solapur #Naded #Gadchiroli #Miraj #Kolhapur\n1261357585808023552 2020-05-15 11:07:38 PDT <twiiit_sam> 💐🙏🇮🇳 #coronavirusindia #IndiaFightsCorona #Coronavirus #India #COVID19 #StayHomeStaySafe #maharashtra #Mumbai #Pune #Kolhapur #Sangali #Satara #Nagpur #Nashik #Dhule #Latur #Ratnagiri #Solapur #Naded #Gadchiroli #Miraj #Kolhapur\n1261349304356286465 2020-05-15 10:34:43 PDT <TNITweet> 👉 #Maharashtra reports 1,576 new #COVID19 +VE cases; State Tally rises to 29,100.  👉 933 new cases reported from #Mumbai ; Tally rises to 17,671.  👉 Maharashtra Death Toll - 1,068; Mumbai Toll - 655.  👉 505 #Coronavirus cases recovered in the State today.  #IndiaFightsCorona  pic.twitter.com/NUBTG0DLd8\n1261333684969525248 2020-05-15 09:32:39 PDT <mumbaitez> @mybmc has written to Mumbai Cricket Association to temporarily hand over the possession of Wankhede Stadium to BMC, for use by emergency staff of BMC and to quarantine #COVID19 positive but asymptomatic patients  #Maharashtra #COVIDー19 #coronavirus #Corona #IndiaFightsCorona  pic.twitter.com/toObNdrP7g\n1261332003221172227 2020-05-15 09:25:58 PDT <twiiit_sam> 💐🙏💪🏻👍🇮🇳 #coronavirusindia #IndiaFightsCorona #Coronavirus #India #COVID19 #StayHomeStaySafe #maharashtra #Mumbai #Pune #Kolhapur #Sangali #Satara #Nagpur #Nashik #Dhule #Latur #Ratnagiri #Solapur #Naded #Gadchiroli #Miraj #Kolhapur\n1261331949529862149 2020-05-15 09:25:45 PDT <twiiit_sam> 💐🙏💪🏻👍🇮🇳 #coronavirusindia #IndiaFightsCorona #Coronavirus #India #COVID19 #StayHomeStaySafe #maharashtra #Mumbai #Pune #Kolhapur #Sangali #Satara #Nagpur #Nashik #Dhule #Latur #Ratnagiri #Solapur #Naded #Gadchiroli #Miraj #Kolhapur\n1261331918823383041 2020-05-15 09:25:38 PDT <twiiit_sam> Update 🦠 💐🇮🇳 #coronavirusindia #IndiaFightsCorona #Coronavirus #India #COVID19 #StayHomeStaySafe #maharashtra #Mumbai #Pune #Kolhapur #Sangali #Satara #Nagpur #Nashik #Dhule #Latur #Ratnagiri #Solapur #Naded #Gadchiroli #Miraj #Kolhapur https://twitter.com/ANI/status/1261331658642350081 …\n1261331835897778176 2020-05-15 09:25:18 PDT <twiiit_sam> Latest 💐🇮🇳 #coronavirusindia #IndiaFightsCorona #Coronavirus #India #COVID19 #StayHomeStaySafe #maharashtra #Mumbai #Pune #Kolhapur #Sangali #Satara #Nagpur #Nashik #Dhule #Latur #Ratnagiri #Solapur #Naded #Gadchiroli #Miraj #Kolhapur\n1261331706591600641 2020-05-15 09:24:47 PDT <twiiit_sam> 💐🙏💪🏻👍🇮🇳 #coronavirusindia #IndiaFightsCorona #Coronavirus #India #COVID19 #StayHomeStaySafe #maharashtra #Mumbai #Pune #Kolhapur #Sangali #Satara #Nagpur #Nashik #Dhule #Latur #Ratnagiri #Solapur #Naded #Gadchiroli #Miraj #Kolhapur\n1261316666727620608 2020-05-15 08:25:02 PDT <twiiit_sam> 💐🙏💪🏻👍🇮🇳 #coronavirusindia #IndiaFightsCorona #Coronavirus #India #COVID19 #StayHomeStaySafe #maharashtra #Mumbai #Pune #Kolhapur #Sangali #Satara #Nagpur #Nashik #Dhule #Latur #Ratnagiri #Solapur #Naded #Gadchiroli #Miraj #Kolhapur\n1261316225356886020 2020-05-15 08:23:16 PDT <twiiit_sam> 💐🙏💪🏻👍🇮🇳 #coronavirusindia #IndiaFightsCorona #Coronavirus #India #COVID19 #StayHomeStaySafe #maharashtra #Mumbai #Pune #Kolhapur #Sangali #Satara #Nagpur #Nashik #Dhule #Latur #Ratnagiri #Solapur #Naded #Gadchiroli #Miraj #Kolhapur\n1261315849341636611 2020-05-15 08:21:47 PDT <twiiit_sam> 💐🙏💪🏻👍🇮🇳 #coronavirusindia #IndiaFightsCorona #Coronavirus #India #COVID19 #StayHomeStaySafe #maharashtra #Mumbai #Pune #Kolhapur #Sangali #Satara #Nagpur #Nashik #Dhule #Latur #Ratnagiri #Solapur #Naded #Gadchiroli #Miraj #Kolhapur\n1261315392384823296 2020-05-15 08:19:58 PDT <twiiit_sam> 💐🙏💪🏻👍🇮🇳 #coronavirusindia #IndiaFightsCorona #Coronavirus #India #COVID19 #StayHomeStaySafe #maharashtra #Mumbai #Pune #Kolhapur #Sangali #Satara #Nagpur #Nashik #Dhule #Latur #Ratnagiri #Solapur #Naded #Gadchiroli #Miraj #Kolhapur\n1261315101887303680 2020-05-15 08:18:49 PDT <twiiit_sam> 💐🙏💪🏻👍🇮🇳 #coronavirusindia #IndiaFightsCorona #Coronavirus #India #COVID19 #StayHomeStaySafe #maharashtra #Mumbai #Pune #Kolhapur #Sangali #Satara #Nagpur #Nashik #Dhule #Latur #Ratnagiri #Solapur #Naded #Gadchiroli #Miraj #Kolhapur\n1261315067535953920 2020-05-15 08:18:40 PDT <twiiit_sam> 💐🙏💪🏻👍🇮🇳 #coronavirusindia #IndiaFightsCorona #Coronavirus #India #COVID19 #StayHomeStaySafe #maharashtra #Mumbai #Pune #Kolhapur #Sangali #Satara #Nagpur #Nashik #Dhule #Latur #Ratnagiri #Solapur #Naded #Gadchiroli #Miraj #Kolhapur\n1261315041074114561 2020-05-15 08:18:34 PDT <twiiit_sam> 💐🙏💪🏻👍🇮🇳 #coronavirusindia #IndiaFightsCorona #Coronavirus #India #COVID19 #StayHomeStaySafe #maharashtra #Mumbai #Pune #Kolhapur #Sangali #Satara #Nagpur #Nashik #Dhule #Latur #Ratnagiri #Solapur #Naded #Gadchiroli #Miraj #Kolhapur\n1261314809376587777 2020-05-15 08:17:39 PDT <twiiit_sam> 💐🙏💪🏻👍🇮🇳 #coronavirusindia #IndiaFightsCorona #Coronavirus #India #COVID19 #StayHomeStaySafe #maharashtra #Mumbai #Pune #Kolhapur #Sangali #Satara #Nagpur #Nashik #Dhule #Latur #Ratnagiri #Solapur #Naded #Gadchiroli #Miraj #Kolhapur\n1261314504110956545 2020-05-15 08:16:26 PDT <twiiit_sam> 💐🙏💪🏻👍🇮🇳 #coronavirusindia #IndiaFightsCorona #Coronavirus #India #COVID19 #StayHomeStaySafe #maharashtra #Mumbai #Pune #Kolhapur #Sangali #Satara #Nagpur #Nashik #Dhule #Latur #Ratnagiri #Solapur #Naded #Gadchiroli #Miraj #Kolhapur #HappyInternationalFamilyDay pic.twitter.com/N4FX5tOkod\n^C\nTraceback (most recent call last):\n  File \"/opt/miniconda3/envs/twitter/bin/twint\", line 8, in <module>\n    sys.exit(run_as_command())\n  File \"/opt/miniconda3/envs/twitter/lib/python3.8/site-packages/twint/cli.py\", line 305, in run_as_command\n    main()\n  File \"/opt/miniconda3/envs/twitter/lib/python3.8/site-packages/twint/cli.py\", line 297, in main\n    run.Search(c)\n  File \"/opt/miniconda3/envs/twitter/lib/python3.8/site-packages/twint/run.py\", line 327, in Search\n    run(config, callback)\n  File \"/opt/miniconda3/envs/twitter/lib/python3.8/site-packages/twint/run.py\", line 226, in run\n    get_event_loop().run_until_complete(Twint(config).main(callback))\n  File \"/opt/miniconda3/envs/twitter/lib/python3.8/asyncio/base_events.py\", line 603, in run_until_complete\n    self.run_forever()\n  File \"/opt/miniconda3/envs/twitter/lib/python3.8/asyncio/base_events.py\", line 570, in run_forever\n    self._run_once()\n  File \"/opt/miniconda3/envs/twitter/lib/python3.8/asyncio/base_events.py\", line 1859, in _run_once\n    handle._run()\n  File \"/opt/miniconda3/envs/twitter/lib/python3.8/asyncio/events.py\", line 81, in _run\n    self._context.run(self._callback, *self._args)\n  File \"/opt/miniconda3/envs/twitter/lib/python3.8/site-packages/twint/run.py\", line 199, in run\n    await self.tweets()\n  File \"/opt/miniconda3/envs/twitter/lib/python3.8/site-packages/twint/run.py\", line 145, in tweets\n    await output.Tweets(tweet, self.config, self.conn)\n  File \"/opt/miniconda3/envs/twitter/lib/python3.8/site-packages/twint/output.py\", line 155, in Tweets\n    await checkData(tweets, config, conn)\n  File \"/opt/miniconda3/envs/twitter/lib/python3.8/site-packages/twint/output.py\", line 142, in checkData\n    _output(tweet, output, config)\n  File \"/opt/miniconda3/envs/twitter/lib/python3.8/site-packages/twint/output.py\", line 104, in _output\n    print(output.replace('\\n', ' '))\nKeyboardInterrupt\n"
    }
   ],
   "source": [
    "!twint -s \"Coronavirus AND IndiaFightsCorona AND Mumbai\" -o file.csv --csv"
   ]
  },
  {
   "cell_type": "code",
   "execution_count": 8,
   "metadata": {
    "tags": [
     "outputPrepend"
    ]
   },
   "outputs": [
    {
     "output_type": "stream",
     "name": "stdout",
     "text": "ur vivre et #respirer mieux demain ensemble à #paris19 ! #UrgenceEcologie #vélo #transport #mobilité #Écologie @FrancoisDagnaud @Anne_Hidalgo @David_Belliard @ParisEnCommun @ecoloparis2020 @UEcologie @ParisUrgence https://twitter.com/ParisEnCommun19/status/1272167185386004480 … – at 19e arrondissement – Buttes Chaumont\n1272150099343392768 2020-06-14 05:53:13 PDT <perezvitoria> Homard time ! 10 balles piece au marché places fêtes 🙂 à 19e arrondissement de Paris  https://www.instagram.com/p/CBaovq0IgB8/?igshid=vkvusya01anv …\n1272124469696331777 2020-06-14 04:11:23 PDT <balooencore> 𝖑𝖆 𝖒𝖔𝖚𝖑𝖆𝖌𝖆𝖓𝖈𝖊 à La Moula  https://www.instagram.com/p/CBadFt1K-6l/?igshid=gvu11wz5eh5 …\n1271911650677882882 2020-06-13 14:05:43 PDT <BahriMous> I’m drawing my steps. Carefully. #Heavens pic.twitter.com/BhrfyRuHdH – at Parc des Buttes-Chaumont\n1271910538193199104 2020-06-13 14:01:17 PDT <herve1956> #alone au #belvederedesbutteschaumont #symetry #perfectday #pariscartepostale #parismaville #pornclouds #parisjetaime #parisestunefête #belvedere #butteschaumont #paris #mon19e #ledixneuvième #75019 #solitaire…  https://www.instagram.com/p/CBXvvDBCxwG/?igshid=14vfowhqyiru2 …\n1271847384226635777 2020-06-13 09:50:20 PDT <Kuperty2> At Auchan supermarket you will find everything you like – at Auchan Supermarché\n1271735777899282432 2020-06-13 02:26:51 PDT <19Pcf> #Municipales28juin A Jourdain, fidèles au poste @humanite_fr les camarades mobilisés pour une alimentation saine, respectueuse du climat et accessible pour tous, toutes aux côtés de @FrancoisDagnaud et @ParisEnCommun19 pic.twitter.com/XpRHaADypP – at Métro Jourdain [11]\n1271568845438926848 2020-06-12 15:23:32 PDT <frrrfrdrc> #butteschaumont à Parc des Buttes-Chaumont  https://www.instagram.com/p/CBWga5cCdkj/?igshid=11ee3u5pz1ioh …\n1271547934581145601 2020-06-12 14:00:26 PDT <herve1956> The challenge was : paint a waterlandscape with only 3 colors. My choice : #napleYellow #burntUmber #phthalocyanineblue Le défi était: peindre un paysage aquatique avec seulement 3 couleurs.  Mon choix:…  https://www.instagram.com/p/CBWVnlkFUlf/?igshid=tkhlku9e8r4l …\n1271505354124296192 2020-06-12 11:11:14 PDT <ArthurParahy> Nouvelle pub pour @PedigreeUS @wearefordogs #dentastix #dogs #DogLover pic.twitter.com/bJvy6M0d3X – at Parc des Buttes-Chaumont\n1271504063721541633 2020-06-12 11:06:06 PDT <Fatbeats27> #TIMEFORACTION: last week i joined thechristmancollective as we used our sound to push good vibes and hope to the community. I donated all of the tips i received  ( and a little bit of my personal stash) to…  https://www.instagram.com/p/CBWC9pbBrKN/?igshid=1899eb7junign …\n1271497260807921664 2020-06-12 10:39:04 PDT <frrrfrdrc> hello le 18e ! #paris #sacrecoeur à Parc des Buttes-Chaumont  https://www.instagram.com/p/CBV_3aYCe9e/?igshid=50zro37sawr2 …\n1271186700254003201 2020-06-11 14:05:01 PDT <CeeSnipes> Le 1, on te dit \"j'ai dépensé sans compter\" et y a 15 min de dinosaures. Dans le 3, y en a TOUT LE TEMPS. – at Ô Poêle\n1271150183917764611 2020-06-11 11:39:55 PDT <frrrfrdrc> #home à Square Bolivar  https://www.instagram.com/p/CBTiCMEiU3Q/?igshid=1lvku9p31xzs …\n1271144104622272514 2020-06-11 11:15:45 PDT <EDVatelier> #workinprogress #travailencours #centre #dynamique #cinétique #acrylique #formes #rêve #promenade #imaginaire #création #abstrait #peinture #painting #or #colors #artoftheday#abstract #art #abstractart…  https://www.instagram.com/p/CBTfRisHqyS/?igshid=3l3d3s1lwvdj …\n1271103388722376705 2020-06-11 08:33:58 PDT <JULIETTEDRAGON> #morningroutine #butteschaumont #qigong #energy #greenislife #lifeisamiracle #serenity #sorority à Parc des Buttes-Chaumont  https://www.instagram.com/p/CBTMwE5KOBd/?igshid=ycghfwnk88o7 …\n1271095478294200321 2020-06-11 08:02:32 PDT <pixelight_yt> Clara trop belle  Sony A7 II avec 50mm F/1.8  #sonyalpha #sonya7iii #sonya7ii #portraitphotography #photographer #photography à Buttes Chaumont  https://www.instagram.com/p/CBTJKRagTUw/?igshid=t8vo2tp2m961 …\n1271040681306456071 2020-06-11 04:24:47 PDT <pixelight_yt> Enfin une photo depuis 3 mois que j'attendais ça  Pris avec : 📸: Sony A7 II optique : Sony 50mm f/1.8 #sonya7iii #sonyalpha #sonya7ii à Buttes Chaumont  https://www.instagram.com/p/CBSwPhygDjI/?igshid=aiid7tfupceb …\n1271031078921347073 2020-06-11 03:46:38 PDT <_WhenWeWasFab_> Reprendre de bonnes habitudes • @ Buttes Chaumont  https://www.instagram.com/p/CBSr4Kjgi48/?igshid=9mnh9poobeld …\n1271011548367130624 2020-06-11 02:29:02 PDT <chat_perdu> #chat #perdu à PARIS 75019 (FR)  https://www.chat-perdu.org/fr-fr/529655  pic.twitter.com/khowhak9d2\n1270990575802744844 2020-06-11 01:05:41 PDT <Langa_19> Early session ✌🏾 pic.twitter.com/STvkxQnekl – at Cyclable Paris 19\n1270798112953597952 2020-06-10 12:20:55 PDT <perezvitoria> Repicage des plans de tomates issuent de mon lombricompost à 19e arrondissement de Paris  https://www.instagram.com/p/CBRB7k5q1GK/?igshid=19emhjv8lia77 …\n1270790240907800576 2020-06-10 11:49:38 PDT <herve1956> Tellement rare seul avec le #belvederedesbutteschaumont #butteschaumont #pariscartepostale #parismaville #mon19e #ledixneuvième #75019 #seul #alone #belvedere à 19e arrondissement de Paris  https://www.instagram.com/p/CBQ-LhnCMK0/?igshid=va94pue1tjua …\n1270664584773292032 2020-06-10 03:30:19 PDT <herve1956> Mon #dessin d’hier -  my #drawing from yesterday #loves_details #orsaymuseum #museedorsay #aquarelle #watercolor #collage #mesphotos à 19e arrondissement de Paris  https://www.instagram.com/p/CBQFNPNifPd/?igshid=g1kiw7vv8ri0 …\n1270633110556889088 2020-06-10 01:25:15 PDT <chat_perdu> #chat #trouvé à PARIS 75019 (FR)  https://www.chat-perdu.org/fr-fr/529343  pic.twitter.com/SW3MPmIuHC\n1270303402480881665 2020-06-09 03:35:06 PDT <themadartist72> #thefresco #lafresque #angelinprejlocaj angelinprejlocaj #theatrechaillot #chaillot #paris #theatrenationaldeladansechaillot theatrechaillot #arteconcert @ARTEde #arteconcert #contemporaryart #contemporarydance…  https://www.instagram.com/p/CBNg9wQAt44/?igshid=1xyel1mwnpzny …\n1270278339278798854 2020-06-09 01:55:31 PDT <chat_perdu> #chat #perdu à PARIS 75020 (FR)  https://www.chat-perdu.org/fr-fr/529130  pic.twitter.com/OyAqlvOoJw\n1270094334390603776 2020-06-08 13:44:21 PDT <herve1956> Adam mangeât la pomme et retournât au jardin laissant Eve et le serpent seuls c’est ça la vraie histoire (à mon sens) - Adam ate the apple and went back to the garden leaving Eve and the snake alone that's the real…  https://www.instagram.com/p/CBMB44mivgR/?igshid=1n68pctuudh93 …\n1270018378162491393 2020-06-08 08:42:31 PDT <ntuncel> Sometimes I Imagine myself having a huge garden... @ 19e arrondissement de Paris  https://www.instagram.com/p/CBLfWmGgq-z/?igshid=bqp06b9wue5q …\n1269961002503884803 2020-06-08 04:54:32 PDT <Fr_Bechieau> #Municipales2020 #Paris Dans son bureau ou par #procuration, le #28Juin, l’essentiel c’est de voter ! #democratie #Municipales #Ecologie #Solidarite @ecoloparis2020 @ParisEnCommun @UEcologie @ParisUrgence https://twitter.com/Anne_Hidalgo/status/1269946440480104448 … – at Place Armand Carrel\n1269946990139408387 2020-06-08 03:58:51 PDT <Odemba4> Hello wapendwa wangu. Hali zenu zikoje? I hope mko poa na mmekua mkijilinda na kuwalinda wengine dhidi ya maambukizi ya #CoViD19 Basi leo tena Jumatatu nyingine ya #MondaysWithMiriam na kwenye #InstaLiveNaOdemba leo…  https://www.instagram.com/p/CBK-48oBxJF/?igshid=qrt7cqzn2zo0 …\n1269725689512632320 2020-06-07 13:19:29 PDT <finelinesugar> 1 ano de França, 28 anos, e eu só tenho a agradecer. Que ano maravilhoso, ano de aprendizagem, de auto conhecimento, responsabilidades e felicidades.  Merci pour tout ma chère France! . . #paris #france #aupair…  https://www.instagram.com/p/CBJaP38qAmo/?igshid=1sb5tfuclqvjw …\n1269671778550497282 2020-06-07 09:45:16 PDT <frrrfrdrc> #butteschaumont à Buttes Chaumont  https://www.instagram.com/p/CBJBu5piRR8/?igshid=1i87vnqqpaanj …\n1269668803425828877 2020-06-07 09:33:26 PDT <juandillon> Feliz dia del Periodista para mi ! Y feliz dia a los que dejan pensar con Libertad. 🇫🇷🇦🇷 pic.twitter.com/rNnz7bhNWz – at Rosa Bonheur\n1269650901469261824 2020-06-07 08:22:18 PDT <Jean_Aymard1972> #stopgrossophobie #belleville #paris #maville #monquartier #parisjetaime #parcdebelleville #nature #garden #wellbeing #photooftheday #photograph #photography #photo #photographer #photoshoot à Parc de Belleville  https://www.instagram.com/p/CBI4PPkCg2d/?igshid=4dety8zl9bra …\n1269614986269253632 2020-06-07 05:59:35 PDT <Jean_Aymard1972> #friendship #copainscommecochons #parcdebelleville #paris #maville #sunday #promenade #dansmonquartier #belleville à Parc de Belleville  https://www.instagram.com/p/CBIn5_DiOX7/?igshid=888810jh3t8k …\n1269587913978847232 2020-06-07 04:12:01 PDT <sevguy> L’équipe @ParisEnCommun19 rassemblée à l’écoute des habitants de la Place des Fêtes. Le 28 juin, Paris sera solidaire et écolo ! #Paris19EnCommun #ÉcologiePourParis pic.twitter.com/rVt0Zdp63D – at Marché de la Place des Fêtes\n1269581250530066432 2020-06-07 03:45:32 PDT <chat_perdu> #chat #trouvé à PARIS 75019 (FR)  https://www.chat-perdu.org/fr-fr/528054  pic.twitter.com/t6LzJCkmaf\n1269553266683252737 2020-06-07 01:54:20 PDT <nicolas2fr> Life is coming Back #Paris (@ Parc des Buttes-Chaumont in Paris, Île-de-France)  https://www.swarmapp.com/c/72bwxWgIyvp  pic.twitter.com/0Enx8Jzwp9\n1269445039991803904 2020-06-06 18:44:17 PDT <carineJ_JULIEN> Avec la toute neuve version de Thomas Dutronc feat. Iggy Pop & Diana Krall ce sont mes balades confinées autour des Buttes et maintenant enfin dans, sur l'herbe, sous les arbres, sur les bancs des amoureux #Le19eEnCommun avec @FrancoisDagnaud #LaVieEnRose si on veut on peut ❤️🌹 https://twitter.com/FrancoisDagnaud/status/1268912021371830275 … – at 19e arrondissement – Buttes Chaumont\n1269391489714405376 2020-06-06 15:11:29 PDT <LeStyleParfait> Women Sneakers Lace Up Sports Shoes @lestyleparfait Free Shipping  Follow @lestyleparfait  Follow @lestyleparfait  Follow @lestyleparfait  . . .  #summer #womencasualshoes #casualsportsshoes #shoes #fashionistas…  https://www.instagram.com/p/CBHCRupHuw9/?igshid=1ghxdf1ctg6p4 …\n1269385180734767105 2020-06-06 14:46:25 PDT <JULIETTEDRAGON> #morningroutine #gangdepuresmeufs #deepstretch #workout #bigfun #méditation #happygirls #outdoor #training #sorority à Parc des Buttes-Chaumont  https://www.instagram.com/p/CBG_ZzPqS_v/?igshid=w9bswmdpwvow …\n1269361182873464832 2020-06-06 13:11:04 PDT <herve1956> #chine #aquarelle #watercolor #feutresaquarellables #terracotadaughters #panda #dragon #bambou à 19e arrondissement de Paris  https://www.instagram.com/p/CBG0fQHC1dl/?igshid=g366doz8abw4 …\n1269338212922785794 2020-06-06 11:39:47 PDT <TristanWhatever> I'm at Parc des Buttes-Chaumont in Paris, Île-de-France https://www.swarmapp.com/c/9IBL3v6QDnf \n1269303986210738176 2020-06-06 09:23:47 PDT <LilnoWa> 15 ans de défrisage ... 5 ans de naturel (dont 1 an et demi de transition) ...  Merci à @dionbeaute et à designessentialsfrance d'avoir été là depuis le 1er jour de ma transition, et aujourd'hui encore !…  https://www.instagram.com/p/CBGae2hB_ys/?igshid=1pj4q2ufgn05s …\n1269298025228197890 2020-06-06 09:00:06 PDT <patrimonialsite> Un monument à découvrir : Piscine Pailleron à Paris 19e Arrondissement (PARIS)  http://patrimonial.site/m#5dc2a930e9c40e0c3e0018f5 … #patrimoine #PARIS pic.twitter.com/Uq5q9gJ66p\n1269194002915622913 2020-06-06 02:06:45 PDT <herve1956> #paris #yesterdayevening #loves_sunset #pariscartepostale #parismaville #parisjetaime #hiersoir à 19e arrondissement de Paris  https://www.instagram.com/p/CBFodndiPsE/?igshid=htou6hpp92iq …\n1268937475914960896 2020-06-05 09:07:24 PDT <JULIETTEDRAGON> On aurait dit une grande fête la méditation de ce matin : la danse des canards autour du petit lac, leurs coin-coins enjoués, peu d’humains, beaucoup d’eau, les arbres gorgés de pluie, enfin désaltérés, tout…  https://www.instagram.com/p/CBDzzSgKg7U/?igshid=1hqxrx9vcp3h5 …\n1268934612186775552 2020-06-05 08:56:01 PDT <JULIETTEDRAGON> Et dire qu’on a failli annuler par peur de la pluie! L’enthousiasme a gagné, on a maintenu. Le parc était presque vide. On a bien travaillé. C’était magnifique. Merci les filles. #gangdepuresmeufs #morningroutine…  https://www.instagram.com/p/CBDygadq9-m/?igshid=kddzrohgcz26 …\n1268883184596455426 2020-06-05 05:31:40 PDT <Martinlanot> 🍸🥃🍹 - 10/2017 !!! . . . . #lesphotosdemartin #olympus #mjuii#argentique #camera #picoftheday #filmcamera #analog #olympusboys #kodak #analogpeaople #filmiphotography #35mm #analogphotography #ishootfilm…  https://www.instagram.com/p/CBDbIHxAhTy/?igshid=1cx41zuvwmw3n …\n1268842919554945025 2020-06-05 02:51:40 PDT <themadartist72> My#passport #autoportrait #drawing #gribouillage #pablopicasso #dessin #croquis #visualart #visualcodes #themadartist #haythamdaezly #confinementcreatif #confinement #intheskin of #pablopicasso #museepicassoparis à…  https://www.instagram.com/p/CBDI0ByAWpC/?igshid=1sw93sxun6rpd …\n1268621186541539328 2020-06-04 12:10:35 PDT <perezvitoria> Vient de publier une photo à 19e arrondissement de Paris  https://www.instagram.com/p/CBBj-0sK7av/?igshid=dvxp11ren8ma …\n1268475098610184194 2020-06-04 02:30:05 PDT <_WhenWeWasFab_> Inspi melie.rmd 🌬 • @ Jourdain  https://www.instagram.com/p/CBAhVj6gGQY/?igshid=hsl88xtf5trp …\n1268275326095962113 2020-06-03 13:16:15 PDT <iRumeurs> Vous voulez prendre les éclairs en photo avec l’iPhone ?⚡️  Voici comment faire :  https://youtu.be/SBE2Paq0spE  pic.twitter.com/l565oWs6XD – at Parc des Buttes-Chaumont\n1268265187280289792 2020-06-03 12:35:58 PDT <herve1956> #orchidée #alupiartchallenge @atelieralupi #aquarelle #watercolor #crayonsaquarellables #maplantealamaison #orchid à 19e arrondissement de Paris  https://www.instagram.com/p/CA_CFn2C9U3/?igshid=1qavhsakg5id …\n1268265098881220612 2020-06-03 12:35:37 PDT <herve1956> #orchidée #alupiartchallenge @atelieralupi #aquarelle #watercolor #crayonsaquarellables #maplantealamaison #orchid à 19e arrondissement de Paris  https://www.instagram.com/p/CA_B0EFCRNd/?igshid=1uh1risx4ga9a …\n1268185737469575168 2020-06-03 07:20:16 PDT <JULIETTEDRAGON> Enfin ! Parcs et cafés ouverts !! Retrouvailles avec les copines, routines du matin : #deepstretch + #qigong + #barre + #meditation + #café #terrasse + #copines = #bonheur !! ✨☀️✨ ♥️❤️ #mercilesfilles…  https://www.instagram.com/p/CA-d9dBqQF9/?igshid=e8q0t25fpvo9 …\n1268152373517713411 2020-06-03 05:07:41 PDT <blackvoyageurs> That’s right GiGi “Daddy changed the world” 😢😢😢😢😢 George Floyd the name of change.   Love to all who have love for all ✊🏿✊🏻✊🏾✊🏼✊🏽✊  Gianni (daughter of George Floyd)  ___________________________________  C'est…  https://www.instagram.com/p/CA-Owy4oKIW/?igshid=1wvcmhsj6ooue …\n1268108961376436232 2020-06-03 02:15:11 PDT <_WhenWeWasFab_> Morning views ☁️ • @ Jourdain  https://www.instagram.com/p/CA97DVqglB-/?igshid=3y84jb28dwx3 …\n1268089475923693568 2020-06-03 00:57:45 PDT <PachaKusepin> Bestiaire urbain. hobz retrograffitism  . . . . . . . . . . . . . . . . . . . . . . . . . . . #renard #cerf #zorro #ciervo #fox #Deer #bestiaire #bestiario #bestiary #animal #streetart #arteurbano #arturbain #paris…  https://www.instagram.com/p/CA9yLzvqI9-/?igshid=1k4ijmd1hhnrq …\n1268087060792922114 2020-06-03 00:48:09 PDT <JULIETTEDRAGON> #morningroutine #mydeargarden #deepstretch #qigong #meditation #everymorning #greengreengreen #happydragon à Parc des Buttes-Chaumont  https://www.instagram.com/p/CA9xFbEK-hG/?igshid=1gq5c713j0fzw …\n1267991828579614721 2020-06-02 18:29:44 PDT <damienHD> I love every single one of the blackout posts today, amazing to see🖤Great start, let’s keep it moving...Swipe for ways to contribute. Doing even one of these things makes difference! #blacklivesmatter #blm…  https://www.instagram.com/p/CA9FyWOlraE/?igshid=gx7lu5h1b3gp …\n1267901459690975232 2020-06-02 12:30:39 PDT <themadartist72> #paris19 #paris #paris19eme #75019 #window #fenetre #fenetresurlautre #parisienne #themadartist #visualcodes #haythamdaezly #fenetreouverte #ruecompans à Rue Compans  https://www.instagram.com/p/CA8csG8BEme/?igshid=eends89c4tss …\n1267855960544075778 2020-06-02 09:29:51 PDT <bloodeyedmystrl> Personne :   Donald Trump qui voit le hastag #Blackouttuesday et #BlackLivesMatter : pic.twitter.com/y0sCViqdxW – at Allo Floride HQ\n1267756177204494336 2020-06-02 02:53:21 PDT <DainahD> #blackouttuesday à 19e arrondissement de Paris  https://www.instagram.com/p/CA7angyqaip/?igshid=ywc83vs3izbz …\n1267711278820339712 2020-06-01 23:54:56 PDT <GoBarbara> Le monde d’après : double coucher de soleil 🙃🤷🏻‍♀️ . . . ☀️🌅 à Buttes Chaumont  https://www.instagram.com/p/CA7F0aGC2Cb/?igshid=1qvf9gh3uwvi9 …\n1267509803980656641 2020-06-01 10:34:21 PDT <Alex__Jardin> 🌸L’équipe d’@EricPliez cet après-midi au parc de #Belleville !  Au rdv pour vous répondre: 👉Notre programme pour #Paris20 👉Conditions de vote le 28juin 👉Procurations  Une question ? Nous suivre ? N’hesitez pas 👇 paris20encommun@gmail.com @Paris20encommun pic.twitter.com/B6yh485IMw – at Parc de Belleville\n1267490299733061632 2020-06-01 09:16:50 PDT <Deniz60743585>  pic.twitter.com/dinyjQ8uyF – at Lac des Buttes-Chaumont\n1267377825029541888 2020-06-01 01:49:54 PDT <carineJ_JULIEN> École maternelle de mes enfants Jean Ménans Quand c'est fait avec du ❤️ ça ne fait pas peur, ni aux parents ni aux enfants. C'est ça le 19e En commun, solidaire, beau et joyeux... Merci aux agents de la Ville de #Paris, aux enseignants, @FrancoisDagnaud @YMerzi @Anne_Hidalgo 🙏🌹 pic.twitter.com/7ZaN3yBtzT – at Ecole Maternelle Jean Menans\n^C\nTraceback (most recent call last):\n  File \"/opt/miniconda3/envs/twitter/bin/twint\", line 8, in <module>\n    sys.exit(run_as_command())\n  File \"/opt/miniconda3/envs/twitter/lib/python3.8/site-packages/twint/cli.py\", line 305, in run_as_command\n    main()\n  File \"/opt/miniconda3/envs/twitter/lib/python3.8/site-packages/twint/cli.py\", line 297, in main\n    run.Search(c)\n  File \"/opt/miniconda3/envs/twitter/lib/python3.8/site-packages/twint/run.py\", line 327, in Search\n    run(config, callback)\n  File \"/opt/miniconda3/envs/twitter/lib/python3.8/site-packages/twint/run.py\", line 226, in run\n    get_event_loop().run_until_complete(Twint(config).main(callback))\n  File \"/opt/miniconda3/envs/twitter/lib/python3.8/asyncio/base_events.py\", line 603, in run_until_complete\n    self.run_forever()\n  File \"/opt/miniconda3/envs/twitter/lib/python3.8/asyncio/base_events.py\", line 570, in run_forever\n    self._run_once()\n  File \"/opt/miniconda3/envs/twitter/lib/python3.8/asyncio/base_events.py\", line 1859, in _run_once\n    handle._run()\n  File \"/opt/miniconda3/envs/twitter/lib/python3.8/asyncio/events.py\", line 81, in _run\n    self._context.run(self._callback, *self._args)\n  File \"/opt/miniconda3/envs/twitter/lib/python3.8/site-packages/twint/run.py\", line 199, in run\n    await self.tweets()\n  File \"/opt/miniconda3/envs/twitter/lib/python3.8/site-packages/twint/run.py\", line 137, in tweets\n    await self.Feed()\n  File \"/opt/miniconda3/envs/twitter/lib/python3.8/site-packages/twint/run.py\", line 65, in Feed\n    self.feed, self.init = feed.Json(response)\n  File \"/opt/miniconda3/envs/twitter/lib/python3.8/site-packages/twint/feed.py\", line 44, in Json\n    soup = BeautifulSoup(html, \"html.parser\")\n  File \"/opt/miniconda3/envs/twitter/lib/python3.8/site-packages/bs4/__init__.py\", line 345, in __init__\n    self._feed()\n  File \"/opt/miniconda3/envs/twitter/lib/python3.8/site-packages/bs4/__init__.py\", line 431, in _feed\n    self.builder.feed(self.markup)\n  File \"/opt/miniconda3/envs/twitter/lib/python3.8/site-packages/bs4/builder/_htmlparser.py\", line 377, in feed\n    parser.feed(markup)\n  File \"/opt/miniconda3/envs/twitter/lib/python3.8/html/parser.py\", line 111, in feed\n    self.goahead(0)\n  File \"/opt/miniconda3/envs/twitter/lib/python3.8/html/parser.py\", line 199, in goahead\n    i = self.updatepos(i, k)\n  File \"/opt/miniconda3/envs/twitter/lib/python3.8/_markupbase.py\", line 58, in updatepos\n    self.offset = self.offset + j-i\nKeyboardInterrupt\n"
    }
   ],
   "source": [
    "!twint -g=\"48.880048,2.385939,1km\" -o file.csv --csv"
   ]
  },
  {
   "cell_type": "code",
   "execution_count": 9,
   "metadata": {},
   "outputs": [],
   "source": [
    "import pandas as pd"
   ]
  },
  {
   "cell_type": "code",
   "execution_count": 14,
   "metadata": {},
   "outputs": [],
   "source": [
    "df = pd.read_csv(\"/Users/amogh/Documents/Study/twitter/mumbai.csv\")"
   ]
  },
  {
   "cell_type": "code",
   "execution_count": 15,
   "metadata": {},
   "outputs": [
    {
     "output_type": "execute_result",
     "data": {
      "text/plain": "Index(['id', 'conversation_id', 'created_at', 'date', 'time', 'timezone',\n       'user_id', 'username', 'name', 'place', 'tweet', 'mentions', 'urls',\n       'photos', 'replies_count', 'retweets_count', 'likes_count', 'hashtags',\n       'cashtags', 'link', 'retweet', 'quote_url', 'video', 'near', 'geo',\n       'source', 'user_rt_id', 'user_rt', 'retweet_id', 'reply_to',\n       'retweet_date', 'translate', 'trans_src', 'trans_dest'],\n      dtype='object')"
     },
     "metadata": {},
     "execution_count": 15
    }
   ],
   "source": [
    "df.columns"
   ]
  },
  {
   "cell_type": "code",
   "execution_count": 16,
   "metadata": {},
   "outputs": [
    {
     "output_type": "execute_result",
     "data": {
      "text/plain": "                    id      conversation_id     created_at        date  \\\n0  1273234709745594368  1273234709745594368  1592397785000  2020-06-17   \n1  1273220152306413574  1273220152306413574  1592394314000  2020-06-17   \n2  1273202059182039041  1273202059182039041  1592390000000  2020-06-17   \n3  1273112861582245888  1273112861582245888  1592368734000  2020-06-16   \n4  1272787115068153858  1272787115068153858  1592291070000  2020-06-16   \n5  1272758344474742784  1272758344474742784  1592284210000  2020-06-15   \n6  1272707988986269696  1272707988986269696  1592272205000  2020-06-15   \n7  1272590233838780416  1272590233838780416  1592244129000  2020-06-15   \n8  1272464171628666886  1272464171628666886  1592214074000  2020-06-15   \n9  1272395166528217088  1272387291722309638  1592197622000  2020-06-14   \n\n       time timezone              user_id        username  \\\n0  05:43:05      PDT            309553876       pibmumbai   \n1  04:45:14      PDT  1266210662553796609       live_pune   \n2  03:33:20      PDT           2390845531      aharmumbai   \n3  21:38:54      PDT  1166998410622144513       mumbaitez   \n4  00:04:30      PDT   822702702677225474  ornamentsmanoj   \n5  22:10:10      PDT             28316920        actindia   \n6  18:50:05      PDT  1242983681620246529   anathpindikas   \n7  11:02:09      PDT  1239192320911667200     kalyan_time   \n8  02:41:14      PDT  1255232416190476289      memersakth   \n9  22:07:02      PDT  1156445533025767424      mannkibaat   \n\n                     name  place  ... geo source user_rt_id user_rt  \\\n0   PIB in Maharashtra 🇮🇳    NaN  ... NaN    NaN        NaN     NaN   \n1          Pune News Live    NaN  ... NaN    NaN        NaN     NaN   \n2                    AHAR    NaN  ... NaN    NaN        NaN     NaN   \n3         Mumbai Tez News    NaN  ... NaN    NaN        NaN     NaN   \n4         Manoj Ornaments    NaN  ... NaN    NaN        NaN     NaN   \n5   Act India - One India    NaN  ... NaN    NaN        NaN     NaN   \n6  Dr Sumedh Anathpindika    NaN  ... NaN    NaN        NaN     NaN   \n7         Jan Kalyan Time    NaN  ... NaN    NaN        NaN     NaN   \n8             Sakth_memer    NaN  ... NaN    NaN        NaN     NaN   \n9    Mann Ki Baat Updates    NaN  ... NaN    NaN        NaN     NaN   \n\n   retweet_id                                           reply_to  \\\n0         NaN  [{'user_id': '309553876', 'username': 'PIBMumb...   \n1         NaN  [{'user_id': '1266210662553796609', 'username'...   \n2         NaN  [{'user_id': '2390845531', 'username': 'AHARMu...   \n3         NaN  [{'user_id': '1166998410622144513', 'username'...   \n4         NaN  [{'user_id': '822702702677225474', 'username':...   \n5         NaN  [{'user_id': '28316920', 'username': 'actindia'}]   \n6         NaN  [{'user_id': '1242983681620246529', 'username'...   \n7         NaN  [{'user_id': '1239192320911667200', 'username'...   \n8         NaN  [{'user_id': '1255232416190476289', 'username'...   \n9         NaN  [{'user_id': '1156445533025767424', 'username'...   \n\n   retweet_date translate trans_src trans_dest  \n0           NaN       NaN       NaN        NaN  \n1           NaN       NaN       NaN        NaN  \n2           NaN       NaN       NaN        NaN  \n3           NaN       NaN       NaN        NaN  \n4           NaN       NaN       NaN        NaN  \n5           NaN       NaN       NaN        NaN  \n6           NaN       NaN       NaN        NaN  \n7           NaN       NaN       NaN        NaN  \n8           NaN       NaN       NaN        NaN  \n9           NaN       NaN       NaN        NaN  \n\n[10 rows x 34 columns]",
      "text/html": "<div>\n<style scoped>\n    .dataframe tbody tr th:only-of-type {\n        vertical-align: middle;\n    }\n\n    .dataframe tbody tr th {\n        vertical-align: top;\n    }\n\n    .dataframe thead th {\n        text-align: right;\n    }\n</style>\n<table border=\"1\" class=\"dataframe\">\n  <thead>\n    <tr style=\"text-align: right;\">\n      <th></th>\n      <th>id</th>\n      <th>conversation_id</th>\n      <th>created_at</th>\n      <th>date</th>\n      <th>time</th>\n      <th>timezone</th>\n      <th>user_id</th>\n      <th>username</th>\n      <th>name</th>\n      <th>place</th>\n      <th>...</th>\n      <th>geo</th>\n      <th>source</th>\n      <th>user_rt_id</th>\n      <th>user_rt</th>\n      <th>retweet_id</th>\n      <th>reply_to</th>\n      <th>retweet_date</th>\n      <th>translate</th>\n      <th>trans_src</th>\n      <th>trans_dest</th>\n    </tr>\n  </thead>\n  <tbody>\n    <tr>\n      <th>0</th>\n      <td>1273234709745594368</td>\n      <td>1273234709745594368</td>\n      <td>1592397785000</td>\n      <td>2020-06-17</td>\n      <td>05:43:05</td>\n      <td>PDT</td>\n      <td>309553876</td>\n      <td>pibmumbai</td>\n      <td>PIB in Maharashtra 🇮🇳</td>\n      <td>NaN</td>\n      <td>...</td>\n      <td>NaN</td>\n      <td>NaN</td>\n      <td>NaN</td>\n      <td>NaN</td>\n      <td>NaN</td>\n      <td>[{'user_id': '309553876', 'username': 'PIBMumb...</td>\n      <td>NaN</td>\n      <td>NaN</td>\n      <td>NaN</td>\n      <td>NaN</td>\n    </tr>\n    <tr>\n      <th>1</th>\n      <td>1273220152306413574</td>\n      <td>1273220152306413574</td>\n      <td>1592394314000</td>\n      <td>2020-06-17</td>\n      <td>04:45:14</td>\n      <td>PDT</td>\n      <td>1266210662553796609</td>\n      <td>live_pune</td>\n      <td>Pune News Live</td>\n      <td>NaN</td>\n      <td>...</td>\n      <td>NaN</td>\n      <td>NaN</td>\n      <td>NaN</td>\n      <td>NaN</td>\n      <td>NaN</td>\n      <td>[{'user_id': '1266210662553796609', 'username'...</td>\n      <td>NaN</td>\n      <td>NaN</td>\n      <td>NaN</td>\n      <td>NaN</td>\n    </tr>\n    <tr>\n      <th>2</th>\n      <td>1273202059182039041</td>\n      <td>1273202059182039041</td>\n      <td>1592390000000</td>\n      <td>2020-06-17</td>\n      <td>03:33:20</td>\n      <td>PDT</td>\n      <td>2390845531</td>\n      <td>aharmumbai</td>\n      <td>AHAR</td>\n      <td>NaN</td>\n      <td>...</td>\n      <td>NaN</td>\n      <td>NaN</td>\n      <td>NaN</td>\n      <td>NaN</td>\n      <td>NaN</td>\n      <td>[{'user_id': '2390845531', 'username': 'AHARMu...</td>\n      <td>NaN</td>\n      <td>NaN</td>\n      <td>NaN</td>\n      <td>NaN</td>\n    </tr>\n    <tr>\n      <th>3</th>\n      <td>1273112861582245888</td>\n      <td>1273112861582245888</td>\n      <td>1592368734000</td>\n      <td>2020-06-16</td>\n      <td>21:38:54</td>\n      <td>PDT</td>\n      <td>1166998410622144513</td>\n      <td>mumbaitez</td>\n      <td>Mumbai Tez News</td>\n      <td>NaN</td>\n      <td>...</td>\n      <td>NaN</td>\n      <td>NaN</td>\n      <td>NaN</td>\n      <td>NaN</td>\n      <td>NaN</td>\n      <td>[{'user_id': '1166998410622144513', 'username'...</td>\n      <td>NaN</td>\n      <td>NaN</td>\n      <td>NaN</td>\n      <td>NaN</td>\n    </tr>\n    <tr>\n      <th>4</th>\n      <td>1272787115068153858</td>\n      <td>1272787115068153858</td>\n      <td>1592291070000</td>\n      <td>2020-06-16</td>\n      <td>00:04:30</td>\n      <td>PDT</td>\n      <td>822702702677225474</td>\n      <td>ornamentsmanoj</td>\n      <td>Manoj Ornaments</td>\n      <td>NaN</td>\n      <td>...</td>\n      <td>NaN</td>\n      <td>NaN</td>\n      <td>NaN</td>\n      <td>NaN</td>\n      <td>NaN</td>\n      <td>[{'user_id': '822702702677225474', 'username':...</td>\n      <td>NaN</td>\n      <td>NaN</td>\n      <td>NaN</td>\n      <td>NaN</td>\n    </tr>\n    <tr>\n      <th>5</th>\n      <td>1272758344474742784</td>\n      <td>1272758344474742784</td>\n      <td>1592284210000</td>\n      <td>2020-06-15</td>\n      <td>22:10:10</td>\n      <td>PDT</td>\n      <td>28316920</td>\n      <td>actindia</td>\n      <td>Act India - One India</td>\n      <td>NaN</td>\n      <td>...</td>\n      <td>NaN</td>\n      <td>NaN</td>\n      <td>NaN</td>\n      <td>NaN</td>\n      <td>NaN</td>\n      <td>[{'user_id': '28316920', 'username': 'actindia'}]</td>\n      <td>NaN</td>\n      <td>NaN</td>\n      <td>NaN</td>\n      <td>NaN</td>\n    </tr>\n    <tr>\n      <th>6</th>\n      <td>1272707988986269696</td>\n      <td>1272707988986269696</td>\n      <td>1592272205000</td>\n      <td>2020-06-15</td>\n      <td>18:50:05</td>\n      <td>PDT</td>\n      <td>1242983681620246529</td>\n      <td>anathpindikas</td>\n      <td>Dr Sumedh Anathpindika</td>\n      <td>NaN</td>\n      <td>...</td>\n      <td>NaN</td>\n      <td>NaN</td>\n      <td>NaN</td>\n      <td>NaN</td>\n      <td>NaN</td>\n      <td>[{'user_id': '1242983681620246529', 'username'...</td>\n      <td>NaN</td>\n      <td>NaN</td>\n      <td>NaN</td>\n      <td>NaN</td>\n    </tr>\n    <tr>\n      <th>7</th>\n      <td>1272590233838780416</td>\n      <td>1272590233838780416</td>\n      <td>1592244129000</td>\n      <td>2020-06-15</td>\n      <td>11:02:09</td>\n      <td>PDT</td>\n      <td>1239192320911667200</td>\n      <td>kalyan_time</td>\n      <td>Jan Kalyan Time</td>\n      <td>NaN</td>\n      <td>...</td>\n      <td>NaN</td>\n      <td>NaN</td>\n      <td>NaN</td>\n      <td>NaN</td>\n      <td>NaN</td>\n      <td>[{'user_id': '1239192320911667200', 'username'...</td>\n      <td>NaN</td>\n      <td>NaN</td>\n      <td>NaN</td>\n      <td>NaN</td>\n    </tr>\n    <tr>\n      <th>8</th>\n      <td>1272464171628666886</td>\n      <td>1272464171628666886</td>\n      <td>1592214074000</td>\n      <td>2020-06-15</td>\n      <td>02:41:14</td>\n      <td>PDT</td>\n      <td>1255232416190476289</td>\n      <td>memersakth</td>\n      <td>Sakth_memer</td>\n      <td>NaN</td>\n      <td>...</td>\n      <td>NaN</td>\n      <td>NaN</td>\n      <td>NaN</td>\n      <td>NaN</td>\n      <td>NaN</td>\n      <td>[{'user_id': '1255232416190476289', 'username'...</td>\n      <td>NaN</td>\n      <td>NaN</td>\n      <td>NaN</td>\n      <td>NaN</td>\n    </tr>\n    <tr>\n      <th>9</th>\n      <td>1272395166528217088</td>\n      <td>1272387291722309638</td>\n      <td>1592197622000</td>\n      <td>2020-06-14</td>\n      <td>22:07:02</td>\n      <td>PDT</td>\n      <td>1156445533025767424</td>\n      <td>mannkibaat</td>\n      <td>Mann Ki Baat Updates</td>\n      <td>NaN</td>\n      <td>...</td>\n      <td>NaN</td>\n      <td>NaN</td>\n      <td>NaN</td>\n      <td>NaN</td>\n      <td>NaN</td>\n      <td>[{'user_id': '1156445533025767424', 'username'...</td>\n      <td>NaN</td>\n      <td>NaN</td>\n      <td>NaN</td>\n      <td>NaN</td>\n    </tr>\n  </tbody>\n</table>\n<p>10 rows × 34 columns</p>\n</div>"
     },
     "metadata": {},
     "execution_count": 16
    }
   ],
   "source": [
    "df[:10]"
   ]
  },
  {
   "cell_type": "code",
   "execution_count": 19,
   "metadata": {},
   "outputs": [
    {
     "output_type": "execute_result",
     "data": {
      "text/plain": "           date      time         username  \\\n0    2020-06-17  05:43:05        pibmumbai   \n1    2020-06-17  04:45:14        live_pune   \n2    2020-06-17  03:33:20       aharmumbai   \n3    2020-06-16  21:38:54        mumbaitez   \n4    2020-06-16  00:04:30   ornamentsmanoj   \n..          ...       ...              ...   \n375  2020-05-05  01:27:00        filaantro   \n376  2020-05-04  21:48:23    veblrofficial   \n377  2020-05-04  21:05:33   iamtapanpandya   \n378  2020-05-04  08:40:58  indiatraveljobs   \n379  2020-05-04  05:42:47       twiiit_sam   \n\n                                                 tweet  \n0    हमारे हाथों पर #Coronavirus कीटाणु हो सकते हैं...  \n1    A map prepared by CSIR-NEERI, Mumbai showing #...  \n2    Guidance Note Food Hygiene Safety 07/06/2020 R...  \n3    #CoronaVirusUpdates: \\n\\n#COVID19 India Tracke...  \n4     https://youtu.be/6gOzgkbmK4I  \\n\\nOpen for Bu...  \n..                                                 ...  \n375  Kishori Pednekar, the mayor of Mumbai, put on ...  \n376  #BREAKING \\n\\nWhy the hell of corona happening...  \n377  ⚡️🇮🇳 #India reports biggest daily increase sin...  \n378  The e-Library by ITJ, coming soon to a screen ...  \n379  #coronavirusindia #CoronaVirusUpdate #IndiaFig...  \n\n[380 rows x 4 columns]",
      "text/html": "<div>\n<style scoped>\n    .dataframe tbody tr th:only-of-type {\n        vertical-align: middle;\n    }\n\n    .dataframe tbody tr th {\n        vertical-align: top;\n    }\n\n    .dataframe thead th {\n        text-align: right;\n    }\n</style>\n<table border=\"1\" class=\"dataframe\">\n  <thead>\n    <tr style=\"text-align: right;\">\n      <th></th>\n      <th>date</th>\n      <th>time</th>\n      <th>username</th>\n      <th>tweet</th>\n    </tr>\n  </thead>\n  <tbody>\n    <tr>\n      <th>0</th>\n      <td>2020-06-17</td>\n      <td>05:43:05</td>\n      <td>pibmumbai</td>\n      <td>हमारे हाथों पर #Coronavirus कीटाणु हो सकते हैं...</td>\n    </tr>\n    <tr>\n      <th>1</th>\n      <td>2020-06-17</td>\n      <td>04:45:14</td>\n      <td>live_pune</td>\n      <td>A map prepared by CSIR-NEERI, Mumbai showing #...</td>\n    </tr>\n    <tr>\n      <th>2</th>\n      <td>2020-06-17</td>\n      <td>03:33:20</td>\n      <td>aharmumbai</td>\n      <td>Guidance Note Food Hygiene Safety 07/06/2020 R...</td>\n    </tr>\n    <tr>\n      <th>3</th>\n      <td>2020-06-16</td>\n      <td>21:38:54</td>\n      <td>mumbaitez</td>\n      <td>#CoronaVirusUpdates: \\n\\n#COVID19 India Tracke...</td>\n    </tr>\n    <tr>\n      <th>4</th>\n      <td>2020-06-16</td>\n      <td>00:04:30</td>\n      <td>ornamentsmanoj</td>\n      <td>https://youtu.be/6gOzgkbmK4I  \\n\\nOpen for Bu...</td>\n    </tr>\n    <tr>\n      <th>...</th>\n      <td>...</td>\n      <td>...</td>\n      <td>...</td>\n      <td>...</td>\n    </tr>\n    <tr>\n      <th>375</th>\n      <td>2020-05-05</td>\n      <td>01:27:00</td>\n      <td>filaantro</td>\n      <td>Kishori Pednekar, the mayor of Mumbai, put on ...</td>\n    </tr>\n    <tr>\n      <th>376</th>\n      <td>2020-05-04</td>\n      <td>21:48:23</td>\n      <td>veblrofficial</td>\n      <td>#BREAKING \\n\\nWhy the hell of corona happening...</td>\n    </tr>\n    <tr>\n      <th>377</th>\n      <td>2020-05-04</td>\n      <td>21:05:33</td>\n      <td>iamtapanpandya</td>\n      <td>⚡️🇮🇳 #India reports biggest daily increase sin...</td>\n    </tr>\n    <tr>\n      <th>378</th>\n      <td>2020-05-04</td>\n      <td>08:40:58</td>\n      <td>indiatraveljobs</td>\n      <td>The e-Library by ITJ, coming soon to a screen ...</td>\n    </tr>\n    <tr>\n      <th>379</th>\n      <td>2020-05-04</td>\n      <td>05:42:47</td>\n      <td>twiiit_sam</td>\n      <td>#coronavirusindia #CoronaVirusUpdate #IndiaFig...</td>\n    </tr>\n  </tbody>\n</table>\n<p>380 rows × 4 columns</p>\n</div>"
     },
     "metadata": {},
     "execution_count": 19
    }
   ],
   "source": [
    "df[['date', 'time', 'username','tweet']]"
   ]
  },
  {
   "cell_type": "code",
   "execution_count": 23,
   "metadata": {
    "tags": []
   },
   "outputs": [
    {
     "output_type": "stream",
     "name": "stdout",
     "text": "हमारे हाथों पर #Coronavirus कीटाणु हो सकते हैं\n\n❌अगर हम इन्हीं गंदे हाथों से अपने आँख, नाक, मुँह को छूते हैं, तो #Coronavirus हमारे अंदर प्रवेश कर सकता है। \n\n✅साबुन और पानी से अपने हाथ बार-बार धोएं। \n\nबदलकर अपना व्यवहार, करें कोरोना पर वार।\n\n#IndiaFightsCorona\n#NewNormal pic.twitter.com/iDtTAP4pjZ\n===\nA map prepared by CSIR-NEERI, Mumbai showing #COVIDー19 cases in India. (17th June 2020)\n\n#coronavirus #WednesdayWisdom #MaharashtraFightsCorona #IndiaFightsCorona  pic.twitter.com/FwYaMh0usc\n===\nGuidance Note Food Hygiene Safety 07/06/2020 Revised on10/06/2020\n\nDownload at:  http://www.ahar.in/download/fssai-hygiene-and-safety-guidelines-revised/ …\n#indiafightscorona #covid19 #lockdown5 #indiaunlock2 #coronavirus\n===\n#CoronaVirusUpdates: \n\n#COVID19 India Tracker\n(As on 17 June, 2020, 08:00 AM)\n\n▶️ Confirmed cases: 354,065\n▶️ Active cases: 155,227\n▶️ Cured/Discharged/Migrated: 186,935\n▶️ Deaths: 11,903\n\n#IndiaFightsCorona\n#StayHome\n#StaySafe #coronavirus #COVID\n\nVia @MoHFW_INDIA pic.twitter.com/1nAGyo0OME\n===\n https://youtu.be/6gOzgkbmK4I  \n\nOpen for Business following all WHO guidelines.\n#ManojOrnamentsPvtLtd\n#Mumbai | #Hongkong | #Dubai\n#weareopen #staysafe #welcomeback #IndiaFightsCorona #COVID19 #Coronavirus #indianjewellery #indianjewelleryusa #indianbridaljewellery\n===\nAll states in the same game, underreporting number of deaths from çoronavirus. Mumbai may’ve missed reporting 400-500 deaths\n  https://timesofindia.indiatimes.com/india/mumbai-mayve-missed-reporting-400-500-deaths/articleshow/76396037.cms …\n#COVID19 #CoronaUpdatesInIndia #IndiaFightsCorona #coronavirus\n===\nHopefully the final nail in the coffin and we can put to rest this controversy.\n https://www.theguardian.com/world/2020/jun/15/hydroxychloroquine-coronavirus-fda-emergency-authorization …\n#India #IndiaFightsCorona #Maharashtra #Mumbai #Pune #loksatta #coronavirus #COVID19India https://twitter.com/AnathpindikaS/status/1272009946272419841 …\n===\nSalute to Corona Warriors\n https://youtu.be/MphPObLG40E \n#coronavirus #Mumbai #IndiaFightsCorona #CoronaWarriors #coronawarriorsindia #COVID #coronavirus #COVID19Pandemic\n===\n🤦\n.\n.\n.\n.\n.\n#covid #covidindia #corona #india #coronavirus #d #cov #coronamemes #mumbai #coronavirusoutbreak #stayhome #coronaindia #indiafightscorona #news #repost #narendramodi #bollywood #italia #datri #coronaavmde #indian #quarantine #breakthechain #staysafestayhome #soc… pic.twitter.com/w35rU4kbYP\n===\nValiantly fighting against #Coronavirus, Railways resumes selected local train services in Mumbai from today, strictly for essential staff as recognised by the State Govt.\n\n#IndiaFightsCorona  pic.twitter.com/NY802jpwoC\n===\n"
    }
   ],
   "source": [
    "for index, row in df[['date', 'time', 'username','tweet']][:10].iterrows():\n",
    "    print(row['tweet'])\n",
    "    print(\"===\")"
   ]
  },
  {
   "cell_type": "code",
   "execution_count": 1,
   "metadata": {},
   "outputs": [],
   "source": [
    "import json\n",
    "from ibm_watson import NaturalLanguageUnderstandingV1\n",
    "from ibm_cloud_sdk_core.authenticators import IAMAuthenticator\n",
    "from ibm_watson.natural_language_understanding_v1 import Features, EmotionOptions"
   ]
  },
  {
   "cell_type": "code",
   "execution_count": 5,
   "metadata": {},
   "outputs": [],
   "source": [
    "from dotenv import load_dotenv\n",
    "load_dotenv()\n",
    "import os\n",
    "ibm_api = os.environ.get(\"ibm_api\")\n",
    "ibm_url = os.environ.get(\"ibm_url\")"
   ]
  },
  {
   "cell_type": "code",
   "execution_count": 6,
   "metadata": {},
   "outputs": [],
   "source": [
    "authenticator = IAMAuthenticator(ibm_api)\n",
    "natural_language_understanding = NaturalLanguageUnderstandingV1(\n",
    "    version='2019-07-12',\n",
    "    authenticator=authenticator\n",
    ")\n",
    "\n",
    "natural_language_understanding.set_service_url(ibm_url)"
   ]
  },
  {
   "cell_type": "code",
   "execution_count": 7,
   "metadata": {
    "tags": []
   },
   "outputs": [],
   "source": [
    "response = natural_language_understanding.analyze(\n",
    "    text=\"I happy apples\",\n",
    "    features=Features(emotion=EmotionOptions(targets=['apples']))).get_result()"
   ]
  },
  {
   "cell_type": "code",
   "execution_count": 8,
   "metadata": {
    "tags": []
   },
   "outputs": [
    {
     "output_type": "stream",
     "name": "stdout",
     "text": "{\n  \"usage\": {\n    \"text_units\": 1,\n    \"text_characters\": 14,\n    \"features\": 1\n  },\n  \"language\": \"en\",\n  \"emotion\": {\n    \"targets\": [\n      {\n        \"text\": \"apples\",\n        \"emotion\": {\n          \"sadness\": 0.012503,\n          \"joy\": 0.893596,\n          \"fear\": 0.0131,\n          \"disgust\": 0.009029,\n          \"anger\": 0.004453\n        }\n      }\n    ],\n    \"document\": {\n      \"emotion\": {\n        \"sadness\": 0.012503,\n        \"joy\": 0.893596,\n        \"fear\": 0.0131,\n        \"disgust\": 0.009029,\n        \"anger\": 0.004453\n      }\n    }\n  }\n}\n"
    }
   ],
   "source": [
    "print(json.dumps(response, indent=2))"
   ]
  },
  {
   "cell_type": "code",
   "execution_count": 34,
   "metadata": {
    "tags": []
   },
   "outputs": [
    {
     "output_type": "stream",
     "name": "stdout",
     "text": "usage\nlanguage\nemotion\n"
    }
   ],
   "source": [
    "for key in response.keys():\n",
    "    print(key)"
   ]
  },
  {
   "cell_type": "code",
   "execution_count": 43,
   "metadata": {},
   "outputs": [],
   "source": [
    "c = twint.Config()"
   ]
  },
  {
   "cell_type": "code",
   "execution_count": 45,
   "metadata": {},
   "outputs": [
    {
     "output_type": "error",
     "ename": "TypeError",
     "evalue": "'NoneType' object is not callable",
     "traceback": [
      "\u001b[0;31m---------------------------------------------------------------------------\u001b[0m",
      "\u001b[0;31mTypeError\u001b[0m                                 Traceback (most recent call last)",
      "\u001b[0;32m<ipython-input-45-29e6674f6673>\u001b[0m in \u001b[0;36m<module>\u001b[0;34m\u001b[0m\n\u001b[0;32m----> 1\u001b[0;31m \u001b[0mc\u001b[0m\u001b[0;34m.\u001b[0m\u001b[0mSearch\u001b[0m\u001b[0;34m(\u001b[0m\u001b[0;34m\"Covid AND Mumbai AND Unlock1\"\u001b[0m\u001b[0;34m)\u001b[0m\u001b[0;34m\u001b[0m\u001b[0;34m\u001b[0m\u001b[0m\n\u001b[0m\u001b[1;32m      2\u001b[0m \u001b[0mc\u001b[0m\u001b[0;34m.\u001b[0m\u001b[0mLimit\u001b[0m \u001b[0;34m=\u001b[0m \u001b[0;36m400\u001b[0m\u001b[0;34m\u001b[0m\u001b[0;34m\u001b[0m\u001b[0m\n\u001b[1;32m      3\u001b[0m \u001b[0mc\u001b[0m\u001b[0;34m.\u001b[0m\u001b[0mStore_csv\u001b[0m \u001b[0;34m=\u001b[0m \u001b[0;32mTrue\u001b[0m\u001b[0;34m\u001b[0m\u001b[0;34m\u001b[0m\u001b[0m\n\u001b[1;32m      4\u001b[0m \u001b[0mc\u001b[0m\u001b[0;34m.\u001b[0m\u001b[0mOutput\u001b[0m \u001b[0;34m=\u001b[0m \u001b[0;34m\"Mumbai_9.csv\"\u001b[0m\u001b[0;34m\u001b[0m\u001b[0;34m\u001b[0m\u001b[0m\n\u001b[1;32m      5\u001b[0m \u001b[0;34m\u001b[0m\u001b[0m\n",
      "\u001b[0;31mTypeError\u001b[0m: 'NoneType' object is not callable"
     ]
    }
   ],
   "source": [
    "c.Search(\"Covid AND Mumbai AND Unlock1\")\n",
    "c.Limit = 400\n",
    "c.Store_csv = True\n",
    "c.Output = \"Mumbai_9.csv\"\n",
    "\n",
    "twint.run.Search(c)"
   ]
  },
  {
   "cell_type": "code",
   "execution_count": 47,
   "metadata": {},
   "outputs": [
    {
     "output_type": "error",
     "ename": "RuntimeError",
     "evalue": "This event loop is already running",
     "traceback": [
      "\u001b[0;31m---------------------------------------------------------------------------\u001b[0m",
      "\u001b[0;31mRuntimeError\u001b[0m                              Traceback (most recent call last)",
      "\u001b[0;32m<ipython-input-47-c55ee88e6aed>\u001b[0m in \u001b[0;36m<module>\u001b[0;34m\u001b[0m\n\u001b[1;32m      5\u001b[0m \u001b[0;34m\u001b[0m\u001b[0m\n\u001b[1;32m      6\u001b[0m \u001b[0;31m# Run\u001b[0m\u001b[0;34m\u001b[0m\u001b[0;34m\u001b[0m\u001b[0;34m\u001b[0m\u001b[0m\n\u001b[0;32m----> 7\u001b[0;31m \u001b[0mtwint\u001b[0m\u001b[0;34m.\u001b[0m\u001b[0mrun\u001b[0m\u001b[0;34m.\u001b[0m\u001b[0mSearch\u001b[0m\u001b[0;34m(\u001b[0m\u001b[0mc\u001b[0m\u001b[0;34m)\u001b[0m\u001b[0;34m\u001b[0m\u001b[0;34m\u001b[0m\u001b[0m\n\u001b[0m",
      "\u001b[0;32m/opt/miniconda3/envs/twitter/lib/python3.8/site-packages/twint/run.py\u001b[0m in \u001b[0;36mSearch\u001b[0;34m(config, callback)\u001b[0m\n\u001b[1;32m    325\u001b[0m     \u001b[0mconfig\u001b[0m\u001b[0;34m.\u001b[0m\u001b[0mProfile\u001b[0m \u001b[0;34m=\u001b[0m \u001b[0;32mFalse\u001b[0m\u001b[0;34m\u001b[0m\u001b[0;34m\u001b[0m\u001b[0m\n\u001b[1;32m    326\u001b[0m     \u001b[0mconfig\u001b[0m\u001b[0;34m.\u001b[0m\u001b[0mProfile_full\u001b[0m \u001b[0;34m=\u001b[0m \u001b[0;32mFalse\u001b[0m\u001b[0;34m\u001b[0m\u001b[0;34m\u001b[0m\u001b[0m\n\u001b[0;32m--> 327\u001b[0;31m     \u001b[0mrun\u001b[0m\u001b[0;34m(\u001b[0m\u001b[0mconfig\u001b[0m\u001b[0;34m,\u001b[0m \u001b[0mcallback\u001b[0m\u001b[0;34m)\u001b[0m\u001b[0;34m\u001b[0m\u001b[0;34m\u001b[0m\u001b[0m\n\u001b[0m\u001b[1;32m    328\u001b[0m     \u001b[0;32mif\u001b[0m \u001b[0mconfig\u001b[0m\u001b[0;34m.\u001b[0m\u001b[0mPandas_au\u001b[0m\u001b[0;34m:\u001b[0m\u001b[0;34m\u001b[0m\u001b[0;34m\u001b[0m\u001b[0m\n\u001b[1;32m    329\u001b[0m         \u001b[0mstorage\u001b[0m\u001b[0;34m.\u001b[0m\u001b[0mpanda\u001b[0m\u001b[0;34m.\u001b[0m\u001b[0m_autoget\u001b[0m\u001b[0;34m(\u001b[0m\u001b[0;34m\"tweet\"\u001b[0m\u001b[0;34m)\u001b[0m\u001b[0;34m\u001b[0m\u001b[0;34m\u001b[0m\u001b[0m\n",
      "\u001b[0;32m/opt/miniconda3/envs/twitter/lib/python3.8/site-packages/twint/run.py\u001b[0m in \u001b[0;36mrun\u001b[0;34m(config, callback)\u001b[0m\n\u001b[1;32m    224\u001b[0m         \u001b[0;32mraise\u001b[0m\u001b[0;34m\u001b[0m\u001b[0;34m\u001b[0m\u001b[0m\n\u001b[1;32m    225\u001b[0m \u001b[0;34m\u001b[0m\u001b[0m\n\u001b[0;32m--> 226\u001b[0;31m     \u001b[0mget_event_loop\u001b[0m\u001b[0;34m(\u001b[0m\u001b[0;34m)\u001b[0m\u001b[0;34m.\u001b[0m\u001b[0mrun_until_complete\u001b[0m\u001b[0;34m(\u001b[0m\u001b[0mTwint\u001b[0m\u001b[0;34m(\u001b[0m\u001b[0mconfig\u001b[0m\u001b[0;34m)\u001b[0m\u001b[0;34m.\u001b[0m\u001b[0mmain\u001b[0m\u001b[0;34m(\u001b[0m\u001b[0mcallback\u001b[0m\u001b[0;34m)\u001b[0m\u001b[0;34m)\u001b[0m\u001b[0;34m\u001b[0m\u001b[0;34m\u001b[0m\u001b[0m\n\u001b[0m\u001b[1;32m    227\u001b[0m \u001b[0;34m\u001b[0m\u001b[0m\n\u001b[1;32m    228\u001b[0m \u001b[0;32mdef\u001b[0m \u001b[0mFavorites\u001b[0m\u001b[0;34m(\u001b[0m\u001b[0mconfig\u001b[0m\u001b[0;34m)\u001b[0m\u001b[0;34m:\u001b[0m\u001b[0;34m\u001b[0m\u001b[0;34m\u001b[0m\u001b[0m\n",
      "\u001b[0;32m/opt/miniconda3/envs/twitter/lib/python3.8/asyncio/base_events.py\u001b[0m in \u001b[0;36mrun_until_complete\u001b[0;34m(self, future)\u001b[0m\n\u001b[1;32m    590\u001b[0m         \"\"\"\n\u001b[1;32m    591\u001b[0m         \u001b[0mself\u001b[0m\u001b[0;34m.\u001b[0m\u001b[0m_check_closed\u001b[0m\u001b[0;34m(\u001b[0m\u001b[0;34m)\u001b[0m\u001b[0;34m\u001b[0m\u001b[0;34m\u001b[0m\u001b[0m\n\u001b[0;32m--> 592\u001b[0;31m         \u001b[0mself\u001b[0m\u001b[0;34m.\u001b[0m\u001b[0m_check_running\u001b[0m\u001b[0;34m(\u001b[0m\u001b[0;34m)\u001b[0m\u001b[0;34m\u001b[0m\u001b[0;34m\u001b[0m\u001b[0m\n\u001b[0m\u001b[1;32m    593\u001b[0m \u001b[0;34m\u001b[0m\u001b[0m\n\u001b[1;32m    594\u001b[0m         \u001b[0mnew_task\u001b[0m \u001b[0;34m=\u001b[0m \u001b[0;32mnot\u001b[0m \u001b[0mfutures\u001b[0m\u001b[0;34m.\u001b[0m\u001b[0misfuture\u001b[0m\u001b[0;34m(\u001b[0m\u001b[0mfuture\u001b[0m\u001b[0;34m)\u001b[0m\u001b[0;34m\u001b[0m\u001b[0;34m\u001b[0m\u001b[0m\n",
      "\u001b[0;32m/opt/miniconda3/envs/twitter/lib/python3.8/asyncio/base_events.py\u001b[0m in \u001b[0;36m_check_running\u001b[0;34m(self)\u001b[0m\n\u001b[1;32m    550\u001b[0m     \u001b[0;32mdef\u001b[0m \u001b[0m_check_running\u001b[0m\u001b[0;34m(\u001b[0m\u001b[0mself\u001b[0m\u001b[0;34m)\u001b[0m\u001b[0;34m:\u001b[0m\u001b[0;34m\u001b[0m\u001b[0;34m\u001b[0m\u001b[0m\n\u001b[1;32m    551\u001b[0m         \u001b[0;32mif\u001b[0m \u001b[0mself\u001b[0m\u001b[0;34m.\u001b[0m\u001b[0mis_running\u001b[0m\u001b[0;34m(\u001b[0m\u001b[0;34m)\u001b[0m\u001b[0;34m:\u001b[0m\u001b[0;34m\u001b[0m\u001b[0;34m\u001b[0m\u001b[0m\n\u001b[0;32m--> 552\u001b[0;31m             \u001b[0;32mraise\u001b[0m \u001b[0mRuntimeError\u001b[0m\u001b[0;34m(\u001b[0m\u001b[0;34m'This event loop is already running'\u001b[0m\u001b[0;34m)\u001b[0m\u001b[0;34m\u001b[0m\u001b[0;34m\u001b[0m\u001b[0m\n\u001b[0m\u001b[1;32m    553\u001b[0m         \u001b[0;32mif\u001b[0m \u001b[0mevents\u001b[0m\u001b[0;34m.\u001b[0m\u001b[0m_get_running_loop\u001b[0m\u001b[0;34m(\u001b[0m\u001b[0;34m)\u001b[0m \u001b[0;32mis\u001b[0m \u001b[0;32mnot\u001b[0m \u001b[0;32mNone\u001b[0m\u001b[0;34m:\u001b[0m\u001b[0;34m\u001b[0m\u001b[0;34m\u001b[0m\u001b[0m\n\u001b[1;32m    554\u001b[0m             raise RuntimeError(\n",
      "\u001b[0;31mRuntimeError\u001b[0m: This event loop is already running"
     ]
    }
   ],
   "source": [
    "# Configure\n",
    "c = twint.Config()\n",
    "c.Username = \"realDonaldTrump\"\n",
    "c.Search = \"great\"\n",
    "\n",
    "# Run\n",
    "twint.run.Search(c)"
   ]
  },
  {
   "cell_type": "code",
   "execution_count": 57,
   "metadata": {},
   "outputs": [],
   "source": [
    "dfm = pd.read_csv(\"/Users/amogh/Documents/Study/twitter/mumbai_unlock1.csv\")\n",
    "dfb = pd.read_csv(\"/Users/amogh/Documents/Study/twitter/bangalore_unlock1.csv\")\n",
    "dfc = pd.read_csv(\"/Users/amogh/Documents/Study/twitter/chennai_unlock1.csv\")\n",
    "dfh = pd.read_csv(\"/Users/amogh/Documents/Study/twitter/hyderabad_unlock1.csv\")\n",
    "dfk = pd.read_csv(\"/Users/amogh/Documents/Study/twitter/kolkata_unlock1.csv\")"
   ]
  },
  {
   "cell_type": "code",
   "execution_count": 58,
   "metadata": {},
   "outputs": [
    {
     "output_type": "execute_result",
     "data": {
      "text/plain": "((400, 34), (62, 34), (211, 34), (179, 34), (127, 34))"
     },
     "metadata": {},
     "execution_count": 58
    }
   ],
   "source": [
    "dfm.shape, dfb.shape, dfc.shape, dfh.shape, dfk.shape"
   ]
  },
  {
   "cell_type": "code",
   "execution_count": 59,
   "metadata": {},
   "outputs": [
    {
     "output_type": "execute_result",
     "data": {
      "text/plain": "Index(['id', 'conversation_id', 'created_at', 'date', 'time', 'timezone',\n       'user_id', 'username', 'name', 'place', 'tweet', 'mentions', 'urls',\n       'photos', 'replies_count', 'retweets_count', 'likes_count', 'hashtags',\n       'cashtags', 'link', 'retweet', 'quote_url', 'video', 'near', 'geo',\n       'source', 'user_rt_id', 'user_rt', 'retweet_id', 'reply_to',\n       'retweet_date', 'translate', 'trans_src', 'trans_dest'],\n      dtype='object')"
     },
     "metadata": {},
     "execution_count": 59
    }
   ],
   "source": [
    "dfm.columns"
   ]
  },
  {
   "cell_type": "code",
   "execution_count": 61,
   "metadata": {},
   "outputs": [
    {
     "output_type": "execute_result",
     "data": {
      "text/plain": "           date      time                                              tweet  \\\n0    2020-06-17  09:11:32  Mumbai #coronavirus updates.\\n17.06.2020\\n#Mis...   \n1    2020-06-17  07:07:32  Seeing the current #COVID19India situation and...   \n2    2020-06-17  03:49:41  A map prepared by CSIR-NEERI, Mumbai showing #...   \n3    2020-06-17  03:10:30  \"I think probably us young people in the offic...   \n4    2020-06-17  02:38:39  #MissionBeginAgain\\n#Mumbai \\nCrowds surge on ...   \n..          ...       ...                                                ...   \n395  2020-06-08  00:39:22   https://mumbaimirror.indiatimes.com/coronavir...   \n396  2020-06-08  00:38:33  The New Normal #mumbai #monday #MondayBlues #M...   \n397  2020-06-08  00:33:26  Mumbai on Work mode. #Unlock1 #COVID19India pi...   \n398  2020-06-08  00:32:46  #unlock2\\n#Unlock1\\n\\n1) people offering praye...   \n399  2020-06-08  00:31:46  Is our #MUMBAI safe?\\nThe Real Mumbai start, N...   \n\n                                                  link  \n0    https://twitter.com/mumbaimatterz/status/12732...  \n1    https://twitter.com/yogeshsakh/status/12732559...  \n2    https://twitter.com/Maha_MEDD/status/127320617...  \n3    https://twitter.com/theprasannata/status/12731...  \n4    https://twitter.com/mumbaiat24am/status/127318...  \n..                                                 ...  \n395  https://twitter.com/NBhalwankar/status/1269896...  \n396  https://twitter.com/ompsyram/status/1269896580...  \n397  https://twitter.com/ScribeUpma/status/12698952...  \n398  https://twitter.com/ajyadavji/status/126989512...  \n399  https://twitter.com/pareshoswal70/status/12698...  \n\n[400 rows x 4 columns]",
      "text/html": "<div>\n<style scoped>\n    .dataframe tbody tr th:only-of-type {\n        vertical-align: middle;\n    }\n\n    .dataframe tbody tr th {\n        vertical-align: top;\n    }\n\n    .dataframe thead th {\n        text-align: right;\n    }\n</style>\n<table border=\"1\" class=\"dataframe\">\n  <thead>\n    <tr style=\"text-align: right;\">\n      <th></th>\n      <th>date</th>\n      <th>time</th>\n      <th>tweet</th>\n      <th>link</th>\n    </tr>\n  </thead>\n  <tbody>\n    <tr>\n      <th>0</th>\n      <td>2020-06-17</td>\n      <td>09:11:32</td>\n      <td>Mumbai #coronavirus updates.\\n17.06.2020\\n#Mis...</td>\n      <td>https://twitter.com/mumbaimatterz/status/12732...</td>\n    </tr>\n    <tr>\n      <th>1</th>\n      <td>2020-06-17</td>\n      <td>07:07:32</td>\n      <td>Seeing the current #COVID19India situation and...</td>\n      <td>https://twitter.com/yogeshsakh/status/12732559...</td>\n    </tr>\n    <tr>\n      <th>2</th>\n      <td>2020-06-17</td>\n      <td>03:49:41</td>\n      <td>A map prepared by CSIR-NEERI, Mumbai showing #...</td>\n      <td>https://twitter.com/Maha_MEDD/status/127320617...</td>\n    </tr>\n    <tr>\n      <th>3</th>\n      <td>2020-06-17</td>\n      <td>03:10:30</td>\n      <td>\"I think probably us young people in the offic...</td>\n      <td>https://twitter.com/theprasannata/status/12731...</td>\n    </tr>\n    <tr>\n      <th>4</th>\n      <td>2020-06-17</td>\n      <td>02:38:39</td>\n      <td>#MissionBeginAgain\\n#Mumbai \\nCrowds surge on ...</td>\n      <td>https://twitter.com/mumbaiat24am/status/127318...</td>\n    </tr>\n    <tr>\n      <th>...</th>\n      <td>...</td>\n      <td>...</td>\n      <td>...</td>\n      <td>...</td>\n    </tr>\n    <tr>\n      <th>395</th>\n      <td>2020-06-08</td>\n      <td>00:39:22</td>\n      <td>https://mumbaimirror.indiatimes.com/coronavir...</td>\n      <td>https://twitter.com/NBhalwankar/status/1269896...</td>\n    </tr>\n    <tr>\n      <th>396</th>\n      <td>2020-06-08</td>\n      <td>00:38:33</td>\n      <td>The New Normal #mumbai #monday #MondayBlues #M...</td>\n      <td>https://twitter.com/ompsyram/status/1269896580...</td>\n    </tr>\n    <tr>\n      <th>397</th>\n      <td>2020-06-08</td>\n      <td>00:33:26</td>\n      <td>Mumbai on Work mode. #Unlock1 #COVID19India pi...</td>\n      <td>https://twitter.com/ScribeUpma/status/12698952...</td>\n    </tr>\n    <tr>\n      <th>398</th>\n      <td>2020-06-08</td>\n      <td>00:32:46</td>\n      <td>#unlock2\\n#Unlock1\\n\\n1) people offering praye...</td>\n      <td>https://twitter.com/ajyadavji/status/126989512...</td>\n    </tr>\n    <tr>\n      <th>399</th>\n      <td>2020-06-08</td>\n      <td>00:31:46</td>\n      <td>Is our #MUMBAI safe?\\nThe Real Mumbai start, N...</td>\n      <td>https://twitter.com/pareshoswal70/status/12698...</td>\n    </tr>\n  </tbody>\n</table>\n<p>400 rows × 4 columns</p>\n</div>"
     },
     "metadata": {},
     "execution_count": 61
    }
   ],
   "source": [
    "dfm[['date', 'time', 'tweet', 'link']]"
   ]
  },
  {
   "cell_type": "code",
   "execution_count": null,
   "metadata": {},
   "outputs": [],
   "source": []
  }
 ],
 "metadata": {
  "language_info": {
   "codemirror_mode": {
    "name": "ipython",
    "version": 3
   },
   "file_extension": ".py",
   "mimetype": "text/x-python",
   "name": "python",
   "nbconvert_exporter": "python",
   "pygments_lexer": "ipython3",
   "version": "3.8.3-final"
  },
  "orig_nbformat": 2,
  "kernelspec": {
   "name": "python3",
   "display_name": "Python 3"
  }
 },
 "nbformat": 4,
 "nbformat_minor": 2
}